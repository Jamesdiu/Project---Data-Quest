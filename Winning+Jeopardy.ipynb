{
 "cells": [
  {
   "cell_type": "markdown",
   "metadata": {
    "collapsed": true
   },
   "source": [
    "# Ways to win Jeopardy\n",
    "\n",
    "In this project, we would like to figure out some patterns in the questions of Jeopardy that could help us to win in Jeopardy. The dataset we used is available [here](https://www.reddit.com/r/datasets/comments/1uyd0t/200000_jeopardy_questions_in_a_json_file). This dataset contains 20000 rows from the beginning of a full dataset of Jeopardy questions."
   ]
  },
  {
   "cell_type": "code",
   "execution_count": 1,
   "metadata": {},
   "outputs": [],
   "source": [
    "import pandas as pd\n",
    "import numpy as np\n",
    "import re\n",
    "from scipy.stats import chisquare\n",
    "import matplotlib.pyplot as plt\n",
    "%matplotlib inline"
   ]
  },
  {
   "cell_type": "code",
   "execution_count": 2,
   "metadata": {},
   "outputs": [
    {
     "data": {
      "text/html": [
       "<div>\n",
       "<style scoped>\n",
       "    .dataframe tbody tr th:only-of-type {\n",
       "        vertical-align: middle;\n",
       "    }\n",
       "\n",
       "    .dataframe tbody tr th {\n",
       "        vertical-align: top;\n",
       "    }\n",
       "\n",
       "    .dataframe thead th {\n",
       "        text-align: right;\n",
       "    }\n",
       "</style>\n",
       "<table border=\"1\" class=\"dataframe\">\n",
       "  <thead>\n",
       "    <tr style=\"text-align: right;\">\n",
       "      <th></th>\n",
       "      <th>Show Number</th>\n",
       "      <th>Air Date</th>\n",
       "      <th>Round</th>\n",
       "      <th>Category</th>\n",
       "      <th>Value</th>\n",
       "      <th>Question</th>\n",
       "      <th>Answer</th>\n",
       "    </tr>\n",
       "  </thead>\n",
       "  <tbody>\n",
       "    <tr>\n",
       "      <th>0</th>\n",
       "      <td>4680</td>\n",
       "      <td>2004-12-31</td>\n",
       "      <td>Jeopardy!</td>\n",
       "      <td>HISTORY</td>\n",
       "      <td>$200</td>\n",
       "      <td>For the last 8 years of his life, Galileo was ...</td>\n",
       "      <td>Copernicus</td>\n",
       "    </tr>\n",
       "    <tr>\n",
       "      <th>1</th>\n",
       "      <td>4680</td>\n",
       "      <td>2004-12-31</td>\n",
       "      <td>Jeopardy!</td>\n",
       "      <td>ESPN's TOP 10 ALL-TIME ATHLETES</td>\n",
       "      <td>$200</td>\n",
       "      <td>No. 2: 1912 Olympian; football star at Carlisl...</td>\n",
       "      <td>Jim Thorpe</td>\n",
       "    </tr>\n",
       "    <tr>\n",
       "      <th>2</th>\n",
       "      <td>4680</td>\n",
       "      <td>2004-12-31</td>\n",
       "      <td>Jeopardy!</td>\n",
       "      <td>EVERYBODY TALKS ABOUT IT...</td>\n",
       "      <td>$200</td>\n",
       "      <td>The city of Yuma in this state has a record av...</td>\n",
       "      <td>Arizona</td>\n",
       "    </tr>\n",
       "  </tbody>\n",
       "</table>\n",
       "</div>"
      ],
      "text/plain": [
       "   Show Number    Air Date      Round                         Category  Value  \\\n",
       "0         4680  2004-12-31  Jeopardy!                          HISTORY   $200   \n",
       "1         4680  2004-12-31  Jeopardy!  ESPN's TOP 10 ALL-TIME ATHLETES   $200   \n",
       "2         4680  2004-12-31  Jeopardy!      EVERYBODY TALKS ABOUT IT...   $200   \n",
       "\n",
       "                                            Question      Answer  \n",
       "0  For the last 8 years of his life, Galileo was ...  Copernicus  \n",
       "1  No. 2: 1912 Olympian; football star at Carlisl...  Jim Thorpe  \n",
       "2  The city of Yuma in this state has a record av...     Arizona  "
      ]
     },
     "execution_count": 2,
     "metadata": {},
     "output_type": "execute_result"
    }
   ],
   "source": [
    "jeopardy = pd.read_csv('jeopardy.csv')\n",
    "jeopardy.head(3)"
   ]
  },
  {
   "cell_type": "code",
   "execution_count": 3,
   "metadata": {},
   "outputs": [
    {
     "data": {
      "text/plain": [
       "Index(['Show Number', ' Air Date', ' Round', ' Category', ' Value',\n",
       "       ' Question', ' Answer'],\n",
       "      dtype='object')"
      ]
     },
     "execution_count": 3,
     "metadata": {},
     "output_type": "execute_result"
    }
   ],
   "source": [
    "jeopardy.columns"
   ]
  },
  {
   "cell_type": "markdown",
   "metadata": {},
   "source": [
    "Some column names has unnecessary white space we need to remove."
   ]
  },
  {
   "cell_type": "code",
   "execution_count": 4,
   "metadata": {},
   "outputs": [],
   "source": [
    "# remove white space in column names\n",
    "jeopardy.columns = jeopardy.columns.str.strip()"
   ]
  },
  {
   "cell_type": "code",
   "execution_count": 5,
   "metadata": {},
   "outputs": [
    {
     "name": "stdout",
     "output_type": "stream",
     "text": [
      "<class 'pandas.core.frame.DataFrame'>\n",
      "RangeIndex: 19999 entries, 0 to 19998\n",
      "Data columns (total 7 columns):\n",
      "Show Number    19999 non-null int64\n",
      "Air Date       19999 non-null object\n",
      "Round          19999 non-null object\n",
      "Category       19999 non-null object\n",
      "Value          19999 non-null object\n",
      "Question       19999 non-null object\n",
      "Answer         19999 non-null object\n",
      "dtypes: int64(1), object(6)\n",
      "memory usage: 1.1+ MB\n"
     ]
    }
   ],
   "source": [
    "jeopardy.info()"
   ]
  },
  {
   "cell_type": "markdown",
   "metadata": {},
   "source": [
    "The next step will be normalizing all the text in `Question` and `Answer` columns. Some types of columns should also be modified into a correct type. For example, `Value` should be **int** and `Air Date` should be **Date**."
   ]
  },
  {
   "cell_type": "code",
   "execution_count": 6,
   "metadata": {},
   "outputs": [],
   "source": [
    "# remove punctuation and convert text into lowercase\n",
    "def normalize_text(string):\n",
    "    new_string = string.lower()\n",
    "    new_string = re.sub(r'[^\\w\\s]','', new_string)\n",
    "    return new_string"
   ]
  },
  {
   "cell_type": "code",
   "execution_count": 7,
   "metadata": {},
   "outputs": [],
   "source": [
    "# normalizing `Question` and `Answer`\n",
    "jeopardy['clean_question'] = jeopardy['Question'].apply(normalize_text)\n",
    "jeopardy['clean_answer'] = jeopardy['Answer'].apply(normalize_text)"
   ]
  },
  {
   "cell_type": "code",
   "execution_count": 8,
   "metadata": {},
   "outputs": [],
   "source": [
    "# remove all punctuation and set charater string as 0\n",
    "def normalize_value(string):\n",
    "    new_string = re.sub(r'[^\\w]','', string)\n",
    "    try:\n",
    "        new_string = int(new_string)\n",
    "    except ValueError:\n",
    "        new_string = int(0)\n",
    "    return new_string"
   ]
  },
  {
   "cell_type": "code",
   "execution_count": 9,
   "metadata": {},
   "outputs": [],
   "source": [
    "# normalizing `Value`\n",
    "jeopardy['clean_value'] = jeopardy['Value'].apply(normalize_value)"
   ]
  },
  {
   "cell_type": "code",
   "execution_count": 10,
   "metadata": {},
   "outputs": [],
   "source": [
    "# normalizing `Air Date`\n",
    "jeopardy['Air Date'] = pd.to_datetime(jeopardy['Air Date'])"
   ]
  },
  {
   "cell_type": "markdown",
   "metadata": {},
   "source": [
    "In order to figure out whether to study past questions, study general knowledge, or not study it all, it would be helpful to figure out two things:\n",
    "\n",
    "1. How often the answer is deducible from the question.\n",
    "2. How often new questions are repeats of older questions.\n",
    "\n",
    "The first question can be found out by seeing how many times words in the answer also occur in the question, while the second question can be answered by seeing how often complex words (> 6 characters) reoccur."
   ]
  },
  {
   "cell_type": "markdown",
   "metadata": {},
   "source": [
    "## 1. Number of times words in the answer occur in the question"
   ]
  },
  {
   "cell_type": "code",
   "execution_count": 11,
   "metadata": {},
   "outputs": [],
   "source": [
    "def deducible(row):\n",
    "    split_answer = row['clean_answer'].split()\n",
    "    split_question = row['clean_question'].split()\n",
    "    match_count = 0\n",
    "    \n",
    "    # exclude common word 'the'\n",
    "    if 'the' in split_answer:\n",
    "        split_answer.remove('the')\n",
    "    \n",
    "    # return 0 if answer is provided\n",
    "    if len(split_answer) == 0:\n",
    "        return 0\n",
    "    \n",
    "    # count repeated words in question\n",
    "    for word in split_answer: \n",
    "        if word in split_question:\n",
    "            match_count += 1 \n",
    "    \n",
    "    # return repeated word ratio\n",
    "    return match_count/len(split_answer)"
   ]
  },
  {
   "cell_type": "code",
   "execution_count": 12,
   "metadata": {},
   "outputs": [
    {
     "data": {
      "text/plain": [
       "0.059001965249777744"
      ]
     },
     "execution_count": 12,
     "metadata": {},
     "output_type": "execute_result"
    }
   ],
   "source": [
    "jeopardy['answer_in_question'] = jeopardy.apply(deducible, axis=1)\n",
    "jeopardy['answer_in_question'].mean()"
   ]
  },
  {
   "cell_type": "code",
   "execution_count": 13,
   "metadata": {},
   "outputs": [
    {
     "data": {
      "text/plain": [
       "0.000000    0.873794\n",
       "0.500000    0.072404\n",
       "0.333333    0.024701\n",
       "0.250000    0.007750\n",
       "1.000000    0.006200\n",
       "Name: answer_in_question, dtype: float64"
      ]
     },
     "execution_count": 13,
     "metadata": {},
     "output_type": "execute_result"
    }
   ],
   "source": [
    "jeopardy['answer_in_question'].value_counts(normalize=True).head(5)"
   ]
  },
  {
   "cell_type": "markdown",
   "metadata": {
    "collapsed": true
   },
   "source": [
    "More than 10% of answers contain the words in the question and most of them repeat more than 1/3 of the words in the answers. "
   ]
  },
  {
   "cell_type": "markdown",
   "metadata": {},
   "source": [
    "## 2. Repeated complex words in new questions"
   ]
  },
  {
   "cell_type": "code",
   "execution_count": 14,
   "metadata": {},
   "outputs": [
    {
     "name": "stdout",
     "output_type": "stream",
     "text": [
      "The mean of questions overlap is 0.6894006357823155.\n"
     ]
    }
   ],
   "source": [
    "# question_overlap = []\n",
    "terms_used = []\n",
    "question_overlap = []\n",
    "\n",
    "jeopardy = jeopardy.sort_values(['Air Date']).reset_index(drop=True)\n",
    "\n",
    "for index, row in jeopardy.iterrows():\n",
    "    split_question = row['clean_question'].split()\n",
    "    split_question = [word for word in split_question if len(word)>=6]\n",
    "    match_count = 0\n",
    "    for word in split_question:\n",
    "        if word in terms_used:\n",
    "            match_count += 1\n",
    "        else: \n",
    "            terms_used.append(word)\n",
    "    if len(split_question) > 0:\n",
    "        question_overlap.append(match_count / len(split_question))\n",
    "    else:\n",
    "        question_overlap.append(0)\n",
    "\n",
    "jeopardy['question_overlap'] = pd.Series(question_overlap)\n",
    "print('The mean of questions overlap is {}.'.format(jeopardy['question_overlap'].mean()))"
   ]
  },
  {
   "cell_type": "markdown",
   "metadata": {},
   "source": [
    "Almost 69% of the complex words with at least 6 characters repeated in the new questions. It means we can take advantage of studying the aspect of the complex words with a high frequency of occurrence."
   ]
  },
  {
   "cell_type": "code",
   "execution_count": 15,
   "metadata": {},
   "outputs": [
    {
     "data": {
      "text/plain": [
       "<matplotlib.lines.Line2D at 0x112cd0940>"
      ]
     },
     "execution_count": 15,
     "metadata": {},
     "output_type": "execute_result"
    },
    {
     "data": {
      "image/png": "[encoded data removed]",
      "text/plain": [
       "<matplotlib.figure.Figure at 0x113fb1080>"
      ]
     },
     "metadata": {},
     "output_type": "display_data"
    }
   ],
   "source": [
    "plt.hist(jeopardy['question_overlap'], density= True, cumulative=-1, histtype='step')\n",
    "plt.xlabel('Percent of overlap in a question')\n",
    "plt.title('Cumulative ploygon of the percent of overlap in a question')\n",
    "plt.axvline(x=0.5, ls='--')\n",
    "plt.axhline(y=0.5, ls='--')"
   ]
  },
  {
   "cell_type": "markdown",
   "metadata": {},
   "source": [
    "From the above plot, almost 80% of questions have more than half of overlapped words, and 40% of questions have more than 80% of overlap. Moreover, around 30% of the questions occur once before. It means studying the old questions would help a lot to win in \"Jeopardy\"."
   ]
  },
  {
   "cell_type": "markdown",
   "metadata": {},
   "source": [
    "## Study strategy\n",
    "\n",
    "Since the questions have different values, we can optimize our effort to focus on the specific fields, which have a higher probablitiy to occur in the higher value questions. We assume questions with a value more than 800 as high value questions. Then we will find the words occur more frequently in the high value questions."
   ]
  },
  {
   "cell_type": "code",
   "execution_count": 16,
   "metadata": {},
   "outputs": [],
   "source": [
    "# classify high value questions\n",
    "def value_cat(row):\n",
    "    if row['clean_value'] > 800:\n",
    "        value = 1\n",
    "    else: \n",
    "        value = 0\n",
    "    return value     "
   ]
  },
  {
   "cell_type": "code",
   "execution_count": 17,
   "metadata": {},
   "outputs": [],
   "source": [
    "# classify question into high value or not\n",
    "jeopardy['high_value'] = jeopardy.apply(value_cat, axis = 1)"
   ]
  },
  {
   "cell_type": "code",
   "execution_count": 18,
   "metadata": {},
   "outputs": [],
   "source": [
    "# count the number of time a word occurs in high and low value questions\n",
    "def word_value(word):\n",
    "    low_count = 0\n",
    "    high_count = 0\n",
    "    for index, row in jeopardy.iterrows():\n",
    "        text = row['clean_question'].split()\n",
    "        if word in text:\n",
    "            if row['high_value'] == 1:\n",
    "                high_count += 1\n",
    "            else: low_count += 1\n",
    "    return high_count, low_count"
   ]
  },
  {
   "cell_type": "markdown",
   "metadata": {},
   "source": [
    "Let's see which complex words (more than 6 characters) occur the most among all the questions."
   ]
  },
  {
   "cell_type": "code",
   "execution_count": 19,
   "metadata": {},
   "outputs": [
    {
     "data": {
      "text/plain": [
       "[('country', 476),\n",
       " ('president', 258),\n",
       " ('american', 257),\n",
       " ('capital', 257),\n",
       " ('target_blankherea', 244),\n",
       " ('national', 183),\n",
       " ('largest', 179),\n",
       " ('british', 166),\n",
       " ('meaning', 162),\n",
       " ('century', 159),\n",
       " ('musical', 153),\n",
       " ('company', 151),\n",
       " ('between', 145),\n",
       " ('character', 141),\n",
       " ('founded', 141),\n",
       " ('reports', 141),\n",
       " ('target_blankthisa', 140),\n",
       " ('include', 138),\n",
       " ('million', 129),\n",
       " ('popular', 119),\n",
       " ('because', 111),\n",
       " ('through', 104),\n",
       " ('classic', 103),\n",
       " ('italian', 99),\n",
       " ('america', 97),\n",
       " ('another', 97),\n",
       " ('william', 96),\n",
       " ('english', 95),\n",
       " ('countrys', 93),\n",
       " ('created', 92)]"
      ]
     },
     "execution_count": 19,
     "metadata": {},
     "output_type": "execute_result"
    }
   ],
   "source": [
    "all_words = {}\n",
    "for cell in jeopardy['clean_question']:\n",
    "    question = cell.split()\n",
    "    for word in question:\n",
    "        if len(word) > 6:\n",
    "            if word in all_words:\n",
    "                all_words[word] += 1\n",
    "            else: \n",
    "                all_words[word] = 1\n",
    "                \n",
    "# Top 30 complex words occur in the questions\n",
    "sorted(all_words.items(), key=lambda x: x[1], reverse=True)[:30]"
   ]
  },
  {
   "cell_type": "markdown",
   "metadata": {},
   "source": [
    "*country*, *president*, *american*, *capital*, *national*, *largest*, *british*, *century*, *musical* and *classic* are 10 of the most meaningful words. We will test their occurrence among high and low-value questions. If any words occur more in high-value questions significantly, we can focus on those aspects to improve our efficiency."
   ]
  },
  {
   "cell_type": "code",
   "execution_count": 20,
   "metadata": {},
   "outputs": [],
   "source": [
    "comparison_terms = ['country', 'president', 'american', 'capital', 'national',\n",
    "                    'largest', 'british', 'century', 'musical', 'classic']\n",
    "observed_expected = []\n",
    "\n",
    "# count the frequency of a word occurs in high and low value questions\n",
    "for word in comparison_terms:\n",
    "    observed_expected.append(word_value(word))"
   ]
  },
  {
   "cell_type": "code",
   "execution_count": 21,
   "metadata": {},
   "outputs": [
    {
     "data": {
      "text/html": [
       "<div>\n",
       "<style scoped>\n",
       "    .dataframe tbody tr th:only-of-type {\n",
       "        vertical-align: middle;\n",
       "    }\n",
       "\n",
       "    .dataframe tbody tr th {\n",
       "        vertical-align: top;\n",
       "    }\n",
       "\n",
       "    .dataframe thead th {\n",
       "        text-align: right;\n",
       "    }\n",
       "</style>\n",
       "<table border=\"1\" class=\"dataframe\">\n",
       "  <thead>\n",
       "    <tr style=\"text-align: right;\">\n",
       "      <th></th>\n",
       "      <th>high_count</th>\n",
       "      <th>low_count</th>\n",
       "    </tr>\n",
       "  </thead>\n",
       "  <tbody>\n",
       "    <tr>\n",
       "      <th>country</th>\n",
       "      <td>141</td>\n",
       "      <td>332</td>\n",
       "    </tr>\n",
       "    <tr>\n",
       "      <th>president</th>\n",
       "      <td>68</td>\n",
       "      <td>181</td>\n",
       "    </tr>\n",
       "    <tr>\n",
       "      <th>american</th>\n",
       "      <td>77</td>\n",
       "      <td>174</td>\n",
       "    </tr>\n",
       "    <tr>\n",
       "      <th>capital</th>\n",
       "      <td>61</td>\n",
       "      <td>186</td>\n",
       "    </tr>\n",
       "    <tr>\n",
       "      <th>national</th>\n",
       "      <td>55</td>\n",
       "      <td>124</td>\n",
       "    </tr>\n",
       "    <tr>\n",
       "      <th>largest</th>\n",
       "      <td>42</td>\n",
       "      <td>134</td>\n",
       "    </tr>\n",
       "    <tr>\n",
       "      <th>british</th>\n",
       "      <td>54</td>\n",
       "      <td>110</td>\n",
       "    </tr>\n",
       "    <tr>\n",
       "      <th>century</th>\n",
       "      <td>54</td>\n",
       "      <td>102</td>\n",
       "    </tr>\n",
       "    <tr>\n",
       "      <th>musical</th>\n",
       "      <td>42</td>\n",
       "      <td>110</td>\n",
       "    </tr>\n",
       "    <tr>\n",
       "      <th>classic</th>\n",
       "      <td>31</td>\n",
       "      <td>72</td>\n",
       "    </tr>\n",
       "  </tbody>\n",
       "</table>\n",
       "</div>"
      ],
      "text/plain": [
       "           high_count  low_count\n",
       "country           141        332\n",
       "president          68        181\n",
       "american           77        174\n",
       "capital            61        186\n",
       "national           55        124\n",
       "largest            42        134\n",
       "british            54        110\n",
       "century            54        102\n",
       "musical            42        110\n",
       "classic            31         72"
      ]
     },
     "execution_count": 21,
     "metadata": {},
     "output_type": "execute_result"
    }
   ],
   "source": [
    "word_list = pd.DataFrame(observed_expected,\n",
    "                         columns = ['high_count', 'low_count'],\n",
    "                         index = comparison_terms)\n",
    "word_list"
   ]
  },
  {
   "cell_type": "markdown",
   "metadata": {},
   "source": [
    "To determine if the occurrence of a word has a significant difference, we use the Chi-square test to compare their expected and actual occurrence."
   ]
  },
  {
   "cell_type": "code",
   "execution_count": 22,
   "metadata": {},
   "outputs": [],
   "source": [
    "high_value_count = jeopardy['high_value'].sum()\n",
    "low_value_count = len(jeopardy) - high_value_count\n",
    "\n",
    "chi_squared = []\n",
    "p_value = []\n",
    "\n",
    "for word in observed_expected:\n",
    "    total = np.sum(word)\n",
    "    total_prop = total/len(jeopardy)\n",
    "    expected_high_value_rows = total_prop*high_value_count\n",
    "    expected_low_value_rows = total_prop*low_value_count\n",
    "    observed = word\n",
    "    expected = [expected_high_value_rows, expected_low_value_rows]\n",
    "    chisq_value, pvalue = chisquare(observed, expected)\n",
    "    chi_squared.append(chisq_value)\n",
    "    p_value.append(pvalue)"
   ]
  },
  {
   "cell_type": "code",
   "execution_count": 23,
   "metadata": {},
   "outputs": [
    {
     "data": {
      "text/html": [
       "<div>\n",
       "<style scoped>\n",
       "    .dataframe tbody tr th:only-of-type {\n",
       "        vertical-align: middle;\n",
       "    }\n",
       "\n",
       "    .dataframe tbody tr th {\n",
       "        vertical-align: top;\n",
       "    }\n",
       "\n",
       "    .dataframe thead th {\n",
       "        text-align: right;\n",
       "    }\n",
       "</style>\n",
       "<table border=\"1\" class=\"dataframe\">\n",
       "  <thead>\n",
       "    <tr style=\"text-align: right;\">\n",
       "      <th></th>\n",
       "      <th>high_count</th>\n",
       "      <th>low_count</th>\n",
       "      <th>chi_squared</th>\n",
       "      <th>p_value</th>\n",
       "      <th>high:low</th>\n",
       "    </tr>\n",
       "  </thead>\n",
       "  <tbody>\n",
       "    <tr>\n",
       "      <th>country</th>\n",
       "      <td>141</td>\n",
       "      <td>332</td>\n",
       "      <td>0.299678</td>\n",
       "      <td>0.584084</td>\n",
       "      <td>0.42</td>\n",
       "    </tr>\n",
       "    <tr>\n",
       "      <th>president</th>\n",
       "      <td>68</td>\n",
       "      <td>181</td>\n",
       "      <td>0.225926</td>\n",
       "      <td>0.634561</td>\n",
       "      <td>0.38</td>\n",
       "    </tr>\n",
       "    <tr>\n",
       "      <th>american</th>\n",
       "      <td>77</td>\n",
       "      <td>174</td>\n",
       "      <td>0.493811</td>\n",
       "      <td>0.482232</td>\n",
       "      <td>0.44</td>\n",
       "    </tr>\n",
       "    <tr>\n",
       "      <th>capital</th>\n",
       "      <td>61</td>\n",
       "      <td>186</td>\n",
       "      <td>1.908425</td>\n",
       "      <td>0.167138</td>\n",
       "      <td>0.33</td>\n",
       "    </tr>\n",
       "    <tr>\n",
       "      <th>national</th>\n",
       "      <td>55</td>\n",
       "      <td>124</td>\n",
       "      <td>0.369564</td>\n",
       "      <td>0.543242</td>\n",
       "      <td>0.44</td>\n",
       "    </tr>\n",
       "    <tr>\n",
       "      <th>largest</th>\n",
       "      <td>42</td>\n",
       "      <td>134</td>\n",
       "      <td>1.989262</td>\n",
       "      <td>0.158418</td>\n",
       "      <td>0.31</td>\n",
       "    </tr>\n",
       "    <tr>\n",
       "      <th>british</th>\n",
       "      <td>54</td>\n",
       "      <td>110</td>\n",
       "      <td>1.452148</td>\n",
       "      <td>0.228184</td>\n",
       "      <td>0.49</td>\n",
       "    </tr>\n",
       "    <tr>\n",
       "      <th>century</th>\n",
       "      <td>54</td>\n",
       "      <td>102</td>\n",
       "      <td>2.695021</td>\n",
       "      <td>0.100662</td>\n",
       "      <td>0.53</td>\n",
       "    </tr>\n",
       "    <tr>\n",
       "      <th>musical</th>\n",
       "      <td>42</td>\n",
       "      <td>110</td>\n",
       "      <td>0.080367</td>\n",
       "      <td>0.776801</td>\n",
       "      <td>0.38</td>\n",
       "    </tr>\n",
       "    <tr>\n",
       "      <th>classic</th>\n",
       "      <td>31</td>\n",
       "      <td>72</td>\n",
       "      <td>0.102365</td>\n",
       "      <td>0.749010</td>\n",
       "      <td>0.43</td>\n",
       "    </tr>\n",
       "  </tbody>\n",
       "</table>\n",
       "</div>"
      ],
      "text/plain": [
       "           high_count  low_count  chi_squared   p_value  high:low\n",
       "country           141        332     0.299678  0.584084      0.42\n",
       "president          68        181     0.225926  0.634561      0.38\n",
       "american           77        174     0.493811  0.482232      0.44\n",
       "capital            61        186     1.908425  0.167138      0.33\n",
       "national           55        124     0.369564  0.543242      0.44\n",
       "largest            42        134     1.989262  0.158418      0.31\n",
       "british            54        110     1.452148  0.228184      0.49\n",
       "century            54        102     2.695021  0.100662      0.53\n",
       "musical            42        110     0.080367  0.776801      0.38\n",
       "classic            31         72     0.102365  0.749010      0.43"
      ]
     },
     "execution_count": 23,
     "metadata": {},
     "output_type": "execute_result"
    }
   ],
   "source": [
    "word_list['chi_squared'] = chi_squared\n",
    "word_list['p_value'] = p_value\n",
    "word_list['high:low'] = round(word_list['high_count']/word_list['low_count'],2)\n",
    "word_list"
   ]
  },
  {
   "cell_type": "markdown",
   "metadata": {},
   "source": [
    "The words *capital*, *largest* and *century* have a relatively significant difference (p-value < 0.2) with the expected occurrence than the other words. Considering that most of the words have a much higher chance to occur in low-value questions compared to high-value questions, *century* trends to have a higher chance to occur in high-value questions. It gives us an insight that we studying *century* related questions would help us to succeed in high-value question."
   ]
  },
  {
   "cell_type": "markdown",
   "metadata": {},
   "source": [
    "## Summary\n",
    "\n",
    "Below are the findings in this project such that we can take advantages of winning Jeopardy:\n",
    "\n",
    "1. around 10% answer occurs in the question.\n",
    "2. 30% of questions are completely repeated, so study old questions would help a lot.\n",
    "3. the word *century* is more likely to occur in high-value questions."
   ]
  }
 ],
 "metadata": {
  "kernelspec": {
   "display_name": "Python 3",
   "language": "python",
   "name": "python3"
  },
  "language_info": {
   "codemirror_mode": {
    "name": "ipython",
    "version": 3
   },
   "file_extension": ".py",
   "mimetype": "text/x-python",
   "name": "python",
   "nbconvert_exporter": "python",
   "pygments_lexer": "ipython3",
   "version": "3.6.4"
  }
 },
 "nbformat": 4,
 "nbformat_minor": 1
}
