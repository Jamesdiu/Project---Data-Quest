{
 "cells": [
  {
   "cell_type": "markdown",
   "metadata": {},
   "source": [
    "# Mobile app for lottery addiction - Probability in 6/49 lottery\n",
    "\n",
    "In this project, we are going to create the logical core for a dedicated mobile app to help lottery addicts better estimate their chances of winning through calculating probabilities of winning a lottery. We will start with 6/49 lottery and reveal the answer below questions:\n",
    "\n",
    "1. probability of winning the big prize with a single ticket\n",
    "2. probability of winning the big prize if we play 40 different tickets (or any other number)\n",
    "3. probability of having at least five (or four, or three, or two) winning numbers on a single ticket\n",
    "\n",
    "Moreover, we will use the historical data coming from the national 6/49 lottery game in Canada to show how likely a given combination is ever drawn. [The data set](https://www.kaggle.com/datascienceai/lottery-dataset) has data for 3,665 drawings, dating from 1982 to 2018."
   ]
  },
  {
   "cell_type": "code",
   "execution_count": 1,
   "metadata": {
    "collapsed": true
   },
   "outputs": [],
   "source": [
    "import pandas as pd\n",
    "import numpy as np\n",
    "import re"
   ]
  },
  {
   "cell_type": "code",
   "execution_count": 2,
   "metadata": {
    "collapsed": false
   },
   "outputs": [
    {
     "data": {
      "text/plain": [
       "(3665, 11)"
      ]
     },
     "execution_count": 2,
     "metadata": {},
     "output_type": "execute_result"
    }
   ],
   "source": [
    "# Read data\n",
    "hist = pd.read_csv('649.csv')\n",
    "hist.shape"
   ]
  },
  {
   "cell_type": "code",
   "execution_count": 3,
   "metadata": {
    "collapsed": false
   },
   "outputs": [
    {
     "data": {
      "text/html": [
       "<div>\n",
       "<style scoped>\n",
       "    .dataframe tbody tr th:only-of-type {\n",
       "        vertical-align: middle;\n",
       "    }\n",
       "\n",
       "    .dataframe tbody tr th {\n",
       "        vertical-align: top;\n",
       "    }\n",
       "\n",
       "    .dataframe thead th {\n",
       "        text-align: right;\n",
       "    }\n",
       "</style>\n",
       "<table border=\"1\" class=\"dataframe\">\n",
       "  <thead>\n",
       "    <tr style=\"text-align: right;\">\n",
       "      <th></th>\n",
       "      <th>PRODUCT</th>\n",
       "      <th>DRAW NUMBER</th>\n",
       "      <th>SEQUENCE NUMBER</th>\n",
       "      <th>DRAW DATE</th>\n",
       "      <th>NUMBER DRAWN 1</th>\n",
       "      <th>NUMBER DRAWN 2</th>\n",
       "      <th>NUMBER DRAWN 3</th>\n",
       "      <th>NUMBER DRAWN 4</th>\n",
       "      <th>NUMBER DRAWN 5</th>\n",
       "      <th>NUMBER DRAWN 6</th>\n",
       "      <th>BONUS NUMBER</th>\n",
       "    </tr>\n",
       "  </thead>\n",
       "  <tbody>\n",
       "    <tr>\n",
       "      <th>0</th>\n",
       "      <td>649</td>\n",
       "      <td>1</td>\n",
       "      <td>0</td>\n",
       "      <td>6/12/1982</td>\n",
       "      <td>3</td>\n",
       "      <td>11</td>\n",
       "      <td>12</td>\n",
       "      <td>14</td>\n",
       "      <td>41</td>\n",
       "      <td>43</td>\n",
       "      <td>13</td>\n",
       "    </tr>\n",
       "    <tr>\n",
       "      <th>1</th>\n",
       "      <td>649</td>\n",
       "      <td>2</td>\n",
       "      <td>0</td>\n",
       "      <td>6/19/1982</td>\n",
       "      <td>8</td>\n",
       "      <td>33</td>\n",
       "      <td>36</td>\n",
       "      <td>37</td>\n",
       "      <td>39</td>\n",
       "      <td>41</td>\n",
       "      <td>9</td>\n",
       "    </tr>\n",
       "    <tr>\n",
       "      <th>2</th>\n",
       "      <td>649</td>\n",
       "      <td>3</td>\n",
       "      <td>0</td>\n",
       "      <td>6/26/1982</td>\n",
       "      <td>1</td>\n",
       "      <td>6</td>\n",
       "      <td>23</td>\n",
       "      <td>24</td>\n",
       "      <td>27</td>\n",
       "      <td>39</td>\n",
       "      <td>34</td>\n",
       "    </tr>\n",
       "    <tr>\n",
       "      <th>3</th>\n",
       "      <td>649</td>\n",
       "      <td>4</td>\n",
       "      <td>0</td>\n",
       "      <td>7/3/1982</td>\n",
       "      <td>3</td>\n",
       "      <td>9</td>\n",
       "      <td>10</td>\n",
       "      <td>13</td>\n",
       "      <td>20</td>\n",
       "      <td>43</td>\n",
       "      <td>34</td>\n",
       "    </tr>\n",
       "    <tr>\n",
       "      <th>4</th>\n",
       "      <td>649</td>\n",
       "      <td>5</td>\n",
       "      <td>0</td>\n",
       "      <td>7/10/1982</td>\n",
       "      <td>5</td>\n",
       "      <td>14</td>\n",
       "      <td>21</td>\n",
       "      <td>31</td>\n",
       "      <td>34</td>\n",
       "      <td>47</td>\n",
       "      <td>45</td>\n",
       "    </tr>\n",
       "  </tbody>\n",
       "</table>\n",
       "</div>"
      ],
      "text/plain": [
       "   PRODUCT  DRAW NUMBER  SEQUENCE NUMBER  DRAW DATE  NUMBER DRAWN 1  \\\n",
       "0      649            1                0  6/12/1982               3   \n",
       "1      649            2                0  6/19/1982               8   \n",
       "2      649            3                0  6/26/1982               1   \n",
       "3      649            4                0   7/3/1982               3   \n",
       "4      649            5                0  7/10/1982               5   \n",
       "\n",
       "   NUMBER DRAWN 2  NUMBER DRAWN 3  NUMBER DRAWN 4  NUMBER DRAWN 5  \\\n",
       "0              11              12              14              41   \n",
       "1              33              36              37              39   \n",
       "2               6              23              24              27   \n",
       "3               9              10              13              20   \n",
       "4              14              21              31              34   \n",
       "\n",
       "   NUMBER DRAWN 6  BONUS NUMBER  \n",
       "0              43            13  \n",
       "1              41             9  \n",
       "2              39            34  \n",
       "3              43            34  \n",
       "4              47            45  "
      ]
     },
     "execution_count": 3,
     "metadata": {},
     "output_type": "execute_result"
    }
   ],
   "source": [
    "hist.head(5)"
   ]
  },
  {
   "cell_type": "markdown",
   "metadata": {},
   "source": [
    "Noted that in the 6/49 lottery, six numbers are drawn from a set of 49 numbers that range from 1 to 49. A player wins the big prize only if the six numbers on their tickets match all the six numbers drawn. Since the order does not matter, we would need to calculate the number of combinations instead of all possible outcomes."
   ]
  },
  {
   "cell_type": "code",
   "execution_count": 4,
   "metadata": {
    "collapsed": true
   },
   "outputs": [],
   "source": [
    "# function for calculating factorial\n",
    "def factorial(n):\n",
    "    n_list = range(n)\n",
    "    value = 1\n",
    "    for i in n_list:\n",
    "        value *= i+1\n",
    "    return value\n",
    "\n",
    "# function for calculating combinations\n",
    "def combinations(n,k):\n",
    "    return factorial(n)/factorial(n-k)/factorial(k)"
   ]
  },
  {
   "cell_type": "markdown",
   "metadata": {},
   "source": [
    "## Q1. Probability of winning the big prize with a single ticket\n",
    "\n",
    "To win the big prize with a single ticket implies we only have 1 combination to win among all possible combinations. Here is the information required from the users:\n",
    "\n",
    "- six different numbers from 1 to 49."
   ]
  },
  {
   "cell_type": "code",
   "execution_count": 5,
   "metadata": {
    "collapsed": false
   },
   "outputs": [],
   "source": [
    "def one_ticket_probability(user_numbers):\n",
    "    n_combinations = combinations(49,6)\n",
    "    print(\n",
    "        '''\n",
    "The probability to win the big prize with the numbers {} are {:.7%}.\n",
    "In other words, the winning chance is 1 in {:,}.\n",
    "        '''.format(\n",
    "            user_numbers, 1/n_combinations, int(n_combinations)\n",
    "        )\n",
    "    )"
   ]
  },
  {
   "cell_type": "code",
   "execution_count": 6,
   "metadata": {
    "collapsed": false
   },
   "outputs": [
    {
     "name": "stdout",
     "output_type": "stream",
     "text": [
      "\n",
      "The probability to win the big prize with the numbers [1, 2, 3, 4, 5, 6] are 0.0000072%.\n",
      "In other words, the winning chance is 1 in 13,983,816.\n",
      "        \n"
     ]
    }
   ],
   "source": [
    "one_ticket_probability([1,2,3,4,5,6])"
   ]
  },
  {
   "cell_type": "markdown",
   "metadata": {},
   "source": [
    "In the historical data, the winning numbers are stored in the columns `NUMBER DRAWN 1` to `NUMBER DRAWN 6` separately. We have to select these numbers and compared them to the numbers picked by the user in order to show the number of existence in the history of their choice."
   ]
  },
  {
   "cell_type": "code",
   "execution_count": 7,
   "metadata": {
    "collapsed": true
   },
   "outputs": [],
   "source": [
    "# select winning number and transform into set\n",
    "def extract_numbers(row):\n",
    "    winning_num = row[4:10]\n",
    "    return set(winning_num)"
   ]
  },
  {
   "cell_type": "code",
   "execution_count": 8,
   "metadata": {
    "collapsed": false
   },
   "outputs": [
    {
     "data": {
      "text/plain": [
       "0    {3, 41, 11, 12, 43, 14}\n",
       "1    {33, 36, 37, 39, 8, 41}\n",
       "2     {1, 6, 39, 23, 24, 27}\n",
       "3     {3, 9, 10, 43, 13, 20}\n",
       "4    {34, 5, 14, 47, 21, 31}\n",
       "dtype: object"
      ]
     },
     "execution_count": 8,
     "metadata": {},
     "output_type": "execute_result"
    }
   ],
   "source": [
    "winning_num_hist = hist.apply(extract_numbers, axis=1)\n",
    "winning_num_hist.head()"
   ]
  },
  {
   "cell_type": "code",
   "execution_count": 27,
   "metadata": {
    "collapsed": false
   },
   "outputs": [],
   "source": [
    "def check_historical_occurence(user_nums, winning_nums):\n",
    "    user_nums_set = set(user_nums)\n",
    "    n_win = (user_nums_set == winning_nums).sum()\n",
    "    \n",
    "    if n_win == 0:        \n",
    "        print('''\n",
    "The numbers {} has never occured in the history.\n",
    "        '''.format(user_nums))\n",
    "    else:\n",
    "        print('''\n",
    "The numbers {} has occured {} time(s) in the history.\n",
    "        '''.format(user_nums, int(n_win)))\n",
    "\n",
    "    n_combinations = combinations(49,6)        \n",
    "    print('''\n",
    "The chance of winning the big prize in the next drawing with above numbers is {:.7%}.\n",
    "In other words, that is 1 in {}.\n",
    "    '''.format(1/n_combinations, int(n_combinations/n_win)))"
   ]
  },
  {
   "cell_type": "code",
   "execution_count": 28,
   "metadata": {
    "collapsed": false
   },
   "outputs": [
    {
     "name": "stdout",
     "output_type": "stream",
     "text": [
      "\n",
      "The numbers [3, 11, 12, 14, 41, 43] has occured 1 time(s) in the history.\n",
      "        \n",
      "\n",
      "The chance of winning the big prize in the next drawing with above numbers is 0.0000072%.\n",
      "In other words, that is 1 in 13983816.\n",
      "    \n"
     ]
    }
   ],
   "source": [
    "user_nums = [3,11,12,14,41,43]\n",
    "check_historical_occurence(user_nums, winning_num_hist)"
   ]
  },
  {
   "cell_type": "markdown",
   "metadata": {},
   "source": [
    "## Q2. probability of winning the big prize if we play 40 different tickets (or any other number)"
   ]
  },
  {
   "cell_type": "markdown",
   "metadata": {},
   "source": [
    "Lottery addicts usually play more than one ticket on a single drawing, thinking that this might increase their chances of winning significantly. Our purpose is to help them better estimate their chances of winning — on this screen, we're going to write a function that will allow the users to calculate the chances of winning for any number of different tickets. Here is the information required from the users:\n",
    "\n",
    "- number of tickets they want to buy"
   ]
  },
  {
   "cell_type": "code",
   "execution_count": 29,
   "metadata": {
    "collapsed": false
   },
   "outputs": [],
   "source": [
    "def multi_ticket_probability(n_ticket):\n",
    "    n_combinations = combinations(49,6)\n",
    "    prob = int(n_combinations)/int(n_ticket)\n",
    "    print('''\n",
    "The probability to win the big prize with {:,} ticket(s) are {:.7%}.\n",
    "In other words, the winning chance is 1 in {:,}.\n",
    "        '''.format(\n",
    "            int(n_ticket), n_ticket/n_combinations, int(prob))\n",
    "    )"
   ]
  },
  {
   "cell_type": "code",
   "execution_count": 30,
   "metadata": {
    "collapsed": false
   },
   "outputs": [
    {
     "name": "stdout",
     "output_type": "stream",
     "text": [
      "\n",
      "The probability to win the big prize with 1 ticket(s) are 0.0000072%.\n",
      "In other words, the winning chance is 1 in 13,983,816.\n",
      "        \n",
      "------\n",
      "\n",
      "The probability to win the big prize with 10 ticket(s) are 0.0000715%.\n",
      "In other words, the winning chance is 1 in 1,398,381.\n",
      "        \n",
      "------\n",
      "\n",
      "The probability to win the big prize with 100 ticket(s) are 0.0007151%.\n",
      "In other words, the winning chance is 1 in 139,838.\n",
      "        \n",
      "------\n",
      "\n",
      "The probability to win the big prize with 10,000 ticket(s) are 0.0715112%.\n",
      "In other words, the winning chance is 1 in 1,398.\n",
      "        \n",
      "------\n",
      "\n",
      "The probability to win the big prize with 1,000,000 ticket(s) are 7.1511238%.\n",
      "In other words, the winning chance is 1 in 13.\n",
      "        \n",
      "------\n",
      "\n",
      "The probability to win the big prize with 6,691,908 ticket(s) are 47.8546628%.\n",
      "In other words, the winning chance is 1 in 2.\n",
      "        \n",
      "------\n",
      "\n",
      "The probability to win the big prize with 13,983,816 ticket(s) are 100.0000000%.\n",
      "In other words, the winning chance is 1 in 1.\n",
      "        \n",
      "------\n"
     ]
    }
   ],
   "source": [
    "n_tickets = [1,10,100,10000,1000000, 6691908, 13983816]\n",
    "for i in n_tickets:\n",
    "    multi_ticket_probability(i)\n",
    "    print('------')"
   ]
  },
  {
   "cell_type": "markdown",
   "metadata": {},
   "source": [
    "## Q3. probability of having at least five (or four, or three, or two) winning numbers on a single ticket"
   ]
  },
  {
   "cell_type": "markdown",
   "metadata": {},
   "source": [
    "For extra context, in most 6/49 lotteries there are smaller prizes if a player's ticket match two, three, four, or five of the six numbers drawn. As a consequence, the users might be interested in knowing the probability of having two, three, four, or five winning numbers. Therefore we would also like to provide this information by letting the users choose among 2 to 5 winning numbers. Here are the information required from the users.\n",
    "\n",
    "- six different numbers from 1 to 49; and\n",
    "- an integer between 2 and 5 that represents the number of winning numbers expected"
   ]
  },
  {
   "cell_type": "code",
   "execution_count": 37,
   "metadata": {
    "collapsed": true
   },
   "outputs": [],
   "source": [
    "def probability_less_6(n_winning_num):\n",
    "    n_comb = combinations(6,n_winning_num)*combinations(49-6, 6-n_winning_num)\n",
    "    prob = n_comb/combinations(49,6)\n",
    "    print('''\n",
    "The probability to have {} winning numbers on a single ticket(s) are {:.5%}.\n",
    "In other words, the chance is 1 in {:,}. \n",
    "    '''.format(int(n_winning_num), prob, int(1/prob)))"
   ]
  },
  {
   "cell_type": "code",
   "execution_count": 38,
   "metadata": {
    "collapsed": false
   },
   "outputs": [
    {
     "name": "stdout",
     "output_type": "stream",
     "text": [
      "\n",
      "The probability to have 2 winning numbers on a single ticket(s) are 13.23780%.\n",
      "In other words, the chance is 1 in 7. \n",
      "    \n",
      "------\n",
      "\n",
      "The probability to have 3 winning numbers on a single ticket(s) are 1.76504%.\n",
      "In other words, the chance is 1 in 56. \n",
      "    \n",
      "------\n",
      "\n",
      "The probability to have 4 winning numbers on a single ticket(s) are 0.09686%.\n",
      "In other words, the chance is 1 in 1,032. \n",
      "    \n",
      "------\n",
      "\n",
      "The probability to have 5 winning numbers on a single ticket(s) are 0.00184%.\n",
      "In other words, the chance is 1 in 54,200. \n",
      "    \n",
      "------\n"
     ]
    }
   ],
   "source": [
    "for i in [2,3,4,5]:\n",
    "    probability_less_6(i)\n",
    "    print('------')"
   ]
  }
 ],
 "metadata": {
  "kernelspec": {
   "display_name": "Python 3",
   "language": "python",
   "name": "python3"
  },
  "language_info": {
   "codemirror_mode": {
    "name": "ipython",
    "version": 3
   },
   "file_extension": ".py",
   "mimetype": "text/x-python",
   "name": "python",
   "nbconvert_exporter": "python",
   "pygments_lexer": "ipython3",
   "version": "3.4.3"
  }
 },
 "nbformat": 4,
 "nbformat_minor": 2
}
