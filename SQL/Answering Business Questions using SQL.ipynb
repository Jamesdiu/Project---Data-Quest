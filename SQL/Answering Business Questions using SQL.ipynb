{
 "cells": [
  {
   "cell_type": "markdown",
   "metadata": {},
   "source": [
    "# Effect on Revenue: Purchase the most popular tracks from each album from record companies, instead of the whole album\n",
    "\n",
    "In this project, we're going to use SQL skills to answer the above business question with the data set from the Chinook database, `chinook.db`. "
   ]
  },
  {
   "cell_type": "code",
   "execution_count": 44,
   "metadata": {
    "collapsed": false
   },
   "outputs": [
    {
     "data": {
      "text/plain": [
       "'Connected: None@chinook.db'"
      ]
     },
     "execution_count": 44,
     "metadata": {},
     "output_type": "execute_result"
    }
   ],
   "source": [
    "%%capture\n",
    "%load_ext sql\n",
    "%sql sqlite:///chinook.db"
   ]
  },
  {
   "cell_type": "code",
   "execution_count": 45,
   "metadata": {
    "collapsed": false
   },
   "outputs": [
    {
     "name": "stdout",
     "output_type": "stream",
     "text": [
      "Done.\n"
     ]
    },
    {
     "data": {
      "text/html": [
       "<table>\n",
       "    <tr>\n",
       "        <th>customer_id</th>\n",
       "        <th>first_name</th>\n",
       "        <th>last_name</th>\n",
       "        <th>company</th>\n",
       "        <th>address</th>\n",
       "        <th>city</th>\n",
       "        <th>state</th>\n",
       "        <th>country</th>\n",
       "        <th>postal_code</th>\n",
       "        <th>phone</th>\n",
       "        <th>fax</th>\n",
       "        <th>email</th>\n",
       "        <th>support_rep_id</th>\n",
       "    </tr>\n",
       "    <tr>\n",
       "        <td>1</td>\n",
       "        <td>Luís</td>\n",
       "        <td>Gonçalves</td>\n",
       "        <td>Embraer - Empresa Brasileira de Aeronáutica S.A.</td>\n",
       "        <td>Av. Brigadeiro Faria Lima, 2170</td>\n",
       "        <td>São José dos Campos</td>\n",
       "        <td>SP</td>\n",
       "        <td>Brazil</td>\n",
       "        <td>12227-000</td>\n",
       "        <td>+55 (12) 3923-5555</td>\n",
       "        <td>+55 (12) 3923-5566</td>\n",
       "        <td>luisg@embraer.com.br</td>\n",
       "        <td>3</td>\n",
       "    </tr>\n",
       "    <tr>\n",
       "        <td>2</td>\n",
       "        <td>Leonie</td>\n",
       "        <td>Köhler</td>\n",
       "        <td>None</td>\n",
       "        <td>Theodor-Heuss-Straße 34</td>\n",
       "        <td>Stuttgart</td>\n",
       "        <td>None</td>\n",
       "        <td>Germany</td>\n",
       "        <td>70174</td>\n",
       "        <td>+49 0711 2842222</td>\n",
       "        <td>None</td>\n",
       "        <td>leonekohler@surfeu.de</td>\n",
       "        <td>5</td>\n",
       "    </tr>\n",
       "    <tr>\n",
       "        <td>3</td>\n",
       "        <td>François</td>\n",
       "        <td>Tremblay</td>\n",
       "        <td>None</td>\n",
       "        <td>1498 rue Bélanger</td>\n",
       "        <td>Montréal</td>\n",
       "        <td>QC</td>\n",
       "        <td>Canada</td>\n",
       "        <td>H2G 1A7</td>\n",
       "        <td>+1 (514) 721-4711</td>\n",
       "        <td>None</td>\n",
       "        <td>ftremblay@gmail.com</td>\n",
       "        <td>3</td>\n",
       "    </tr>\n",
       "    <tr>\n",
       "        <td>4</td>\n",
       "        <td>Bjørn</td>\n",
       "        <td>Hansen</td>\n",
       "        <td>None</td>\n",
       "        <td>Ullevålsveien 14</td>\n",
       "        <td>Oslo</td>\n",
       "        <td>None</td>\n",
       "        <td>Norway</td>\n",
       "        <td>0171</td>\n",
       "        <td>+47 22 44 22 22</td>\n",
       "        <td>None</td>\n",
       "        <td>bjorn.hansen@yahoo.no</td>\n",
       "        <td>4</td>\n",
       "    </tr>\n",
       "    <tr>\n",
       "        <td>5</td>\n",
       "        <td>František</td>\n",
       "        <td>Wichterlová</td>\n",
       "        <td>JetBrains s.r.o.</td>\n",
       "        <td>Klanova 9/506</td>\n",
       "        <td>Prague</td>\n",
       "        <td>None</td>\n",
       "        <td>Czech Republic</td>\n",
       "        <td>14700</td>\n",
       "        <td>+420 2 4172 5555</td>\n",
       "        <td>+420 2 4172 5555</td>\n",
       "        <td>frantisekw@jetbrains.com</td>\n",
       "        <td>4</td>\n",
       "    </tr>\n",
       "</table>"
      ],
      "text/plain": [
       "[(1, 'Luís', 'Gonçalves', 'Embraer - Empresa Brasileira de Aeronáutica S.A.', 'Av. Brigadeiro Faria Lima, 2170', 'São José dos Campos', 'SP', 'Brazil', '12227-000', '+55 (12) 3923-5555', '+55 (12) 3923-5566', 'luisg@embraer.com.br', 3),\n",
       " (2, 'Leonie', 'Köhler', None, 'Theodor-Heuss-Straße 34', 'Stuttgart', None, 'Germany', '70174', '+49 0711 2842222', None, 'leonekohler@surfeu.de', 5),\n",
       " (3, 'François', 'Tremblay', None, '1498 rue Bélanger', 'Montréal', 'QC', 'Canada', 'H2G 1A7', '+1 (514) 721-4711', None, 'ftremblay@gmail.com', 3),\n",
       " (4, 'Bjørn', 'Hansen', None, 'Ullevålsveien 14', 'Oslo', None, 'Norway', '0171', '+47 22 44 22 22', None, 'bjorn.hansen@yahoo.no', 4),\n",
       " (5, 'František', 'Wichterlová', 'JetBrains s.r.o.', 'Klanova 9/506', 'Prague', None, 'Czech Republic', '14700', '+420 2 4172 5555', '+420 2 4172 5555', 'frantisekw@jetbrains.com', 4)]"
      ]
     },
     "execution_count": 45,
     "metadata": {},
     "output_type": "execute_result"
    }
   ],
   "source": [
    "%%sql\n",
    "SELECT *\n",
    "FROM customer\n",
    "LIMIT 5"
   ]
  },
  {
   "cell_type": "markdown",
   "metadata": {},
   "source": [
    "Our first task is selecting three albums that will be added to the store from the below list. Since all four albums are by the artists that don't have any tracks in the store right now - we have the artist names and the genre of music they produce: \n",
    "\n",
    "|**Artist Name**|**Genre**|\n",
    "|----|----|\n",
    "|Regal|Hip-Hop|\n",
    "|Red Tone|Punk|\n",
    "|Meteor and the Girls|Pop|\n",
    "|Slim Jim Bites|Blues|\n",
    "\n",
    "The record label specializes in artists from the USA, and they have given Chinook some money to advertise the new albums in the USA, so we're interested in finding out which genres sell the best in the USA."
   ]
  },
  {
   "cell_type": "markdown",
   "metadata": {
    "collapsed": true
   },
   "source": [
    "## The most popular genres in the USA"
   ]
  },
  {
   "cell_type": "code",
   "execution_count": 49,
   "metadata": {
    "collapsed": false
   },
   "outputs": [
    {
     "name": "stdout",
     "output_type": "stream",
     "text": [
      "Done.\n"
     ]
    },
    {
     "data": {
      "text/html": [
       "<table>\n",
       "    <tr>\n",
       "        <th>genre</th>\n",
       "        <th>nr_of_tracks_sold</th>\n",
       "        <th>percentages</th>\n",
       "    </tr>\n",
       "    <tr>\n",
       "        <td>Rock</td>\n",
       "        <td>2635</td>\n",
       "        <td>55.39</td>\n",
       "    </tr>\n",
       "    <tr>\n",
       "        <td>Metal</td>\n",
       "        <td>619</td>\n",
       "        <td>13.01</td>\n",
       "    </tr>\n",
       "    <tr>\n",
       "        <td>Alternative &amp; Punk</td>\n",
       "        <td>492</td>\n",
       "        <td>10.34</td>\n",
       "    </tr>\n",
       "    <tr>\n",
       "        <td>Latin</td>\n",
       "        <td>167</td>\n",
       "        <td>3.51</td>\n",
       "    </tr>\n",
       "    <tr>\n",
       "        <td>R&amp;B/Soul</td>\n",
       "        <td>159</td>\n",
       "        <td>3.34</td>\n",
       "    </tr>\n",
       "    <tr>\n",
       "        <td>Blues</td>\n",
       "        <td>124</td>\n",
       "        <td>2.61</td>\n",
       "    </tr>\n",
       "    <tr>\n",
       "        <td>Jazz</td>\n",
       "        <td>121</td>\n",
       "        <td>2.54</td>\n",
       "    </tr>\n",
       "    <tr>\n",
       "        <td>Alternative</td>\n",
       "        <td>117</td>\n",
       "        <td>2.46</td>\n",
       "    </tr>\n",
       "    <tr>\n",
       "        <td>Easy Listening</td>\n",
       "        <td>74</td>\n",
       "        <td>1.56</td>\n",
       "    </tr>\n",
       "    <tr>\n",
       "        <td>Pop</td>\n",
       "        <td>63</td>\n",
       "        <td>1.32</td>\n",
       "    </tr>\n",
       "    <tr>\n",
       "        <td>Electronica/Dance</td>\n",
       "        <td>55</td>\n",
       "        <td>1.16</td>\n",
       "    </tr>\n",
       "    <tr>\n",
       "        <td>Classical</td>\n",
       "        <td>47</td>\n",
       "        <td>0.99</td>\n",
       "    </tr>\n",
       "    <tr>\n",
       "        <td>Reggae</td>\n",
       "        <td>35</td>\n",
       "        <td>0.74</td>\n",
       "    </tr>\n",
       "    <tr>\n",
       "        <td>Hip Hop/Rap</td>\n",
       "        <td>33</td>\n",
       "        <td>0.69</td>\n",
       "    </tr>\n",
       "    <tr>\n",
       "        <td>Heavy Metal</td>\n",
       "        <td>8</td>\n",
       "        <td>0.17</td>\n",
       "    </tr>\n",
       "</table>"
      ],
      "text/plain": [
       "[('Rock', 2635, 55.39),\n",
       " ('Metal', 619, 13.01),\n",
       " ('Alternative & Punk', 492, 10.34),\n",
       " ('Latin', 167, 3.51),\n",
       " ('R&B/Soul', 159, 3.34),\n",
       " ('Blues', 124, 2.61),\n",
       " ('Jazz', 121, 2.54),\n",
       " ('Alternative', 117, 2.46),\n",
       " ('Easy Listening', 74, 1.56),\n",
       " ('Pop', 63, 1.32),\n",
       " ('Electronica/Dance', 55, 1.16),\n",
       " ('Classical', 47, 0.99),\n",
       " ('Reggae', 35, 0.74),\n",
       " ('Hip Hop/Rap', 33, 0.69),\n",
       " ('Heavy Metal', 8, 0.17)]"
      ]
     },
     "execution_count": 49,
     "metadata": {},
     "output_type": "execute_result"
    }
   ],
   "source": [
    "%%sql\n",
    "SELECT \n",
    "    g.name AS genre,\n",
    "    SUM(il.quantity) AS nr_of_tracks_sold,\n",
    "    ROUND(\n",
    "        CAST(\n",
    "        SUM(il.quantity) as FLOAT)*100/(\n",
    "            SELECT SUM(quantity)\n",
    "            FROM invoice_line),\n",
    "        2) AS percentages\n",
    "FROM genre g\n",
    "LEFT JOIN \n",
    "    track t on t.genre_id = g.genre_id\n",
    "LEFT JOIN \n",
    "    invoice_line il on il.track_id = t.track_id\n",
    "GROUP BY g.name\n",
    "ORDER BY percentages DESC\n",
    "LIMIT 15"
   ]
  },
  {
   "cell_type": "markdown",
   "metadata": {},
   "source": [
    "The top 3 selling genres are **Rock**(2635,\t55.39%), **Metal**(619, 13.01%) and **Alternative & Punk** (492, 10.34%). \n",
    "\n",
    "Consider *Red Tone*'s album belongs to **Punk**, their album should be included based on this result. Then, we can see **Blues** (124, 2.61%) is placed at 6 and **Pop**(63, 1.32%) is placed at 10. Both of them have a higher rank than **Hip-Hop** (33, 0.69%). Therefore we should leave the album from *Regal* and purchase the other 3 based on the sales of tracks from their genres."
   ]
  },
  {
   "cell_type": "markdown",
   "metadata": {},
   "source": [
    "## Amount of sales assigned to sales support agent\n",
    "\n",
    "Each customer for the Chinook store gets assigned to a sales support agent within the company when they first make a purchase. Our next task is to analyze the purchases of customers belonging to each employee to see if any sales support agent is performing either better or worse than the others."
   ]
  },
  {
   "cell_type": "code",
   "execution_count": 52,
   "metadata": {
    "collapsed": false
   },
   "outputs": [
    {
     "name": "stdout",
     "output_type": "stream",
     "text": [
      "Done.\n"
     ]
    },
    {
     "data": {
      "text/html": [
       "<table>\n",
       "    <tr>\n",
       "        <th>employee_id</th>\n",
       "        <th>employee</th>\n",
       "        <th>title</th>\n",
       "        <th>hire_date</th>\n",
       "        <th>revenue</th>\n",
       "        <th>percentage</th>\n",
       "    </tr>\n",
       "    <tr>\n",
       "        <td>3</td>\n",
       "        <td>Jane Peacock</td>\n",
       "        <td>Sales Support Agent</td>\n",
       "        <td>2017-04-01 00:00:00</td>\n",
       "        <td>1731.51</td>\n",
       "        <td>36.77</td>\n",
       "    </tr>\n",
       "    <tr>\n",
       "        <td>4</td>\n",
       "        <td>Margaret Park</td>\n",
       "        <td>Sales Support Agent</td>\n",
       "        <td>2017-05-03 00:00:00</td>\n",
       "        <td>1584.0</td>\n",
       "        <td>33.63</td>\n",
       "    </tr>\n",
       "    <tr>\n",
       "        <td>5</td>\n",
       "        <td>Steve Johnson</td>\n",
       "        <td>Sales Support Agent</td>\n",
       "        <td>2017-10-17 00:00:00</td>\n",
       "        <td>1393.92</td>\n",
       "        <td>29.6</td>\n",
       "    </tr>\n",
       "</table>"
      ],
      "text/plain": [
       "[(3, 'Jane Peacock', 'Sales Support Agent', '2017-04-01 00:00:00', 1731.51, 36.77),\n",
       " (4, 'Margaret Park', 'Sales Support Agent', '2017-05-03 00:00:00', 1584.0, 33.63),\n",
       " (5, 'Steve Johnson', 'Sales Support Agent', '2017-10-17 00:00:00', 1393.92, 29.6)]"
      ]
     },
     "execution_count": 52,
     "metadata": {},
     "output_type": "execute_result"
    }
   ],
   "source": [
    "%%sql\n",
    "select\n",
    "    e.employee_id,\n",
    "    e.first_name||\" \"||e.last_name as employee,\n",
    "    e.title as title,\n",
    "    e.hire_date as hire_date,\n",
    "    ROUND(sum(i.total),2) as revenue,\n",
    "    ROUND(sum(i.total)*100/(select sum(total)\n",
    "                  from invoice),2) as percentage\n",
    "from customer c\n",
    "left join \n",
    "    employee e on e.employee_id = c.support_rep_id\n",
    "left join\n",
    "    invoice i on i.customer_id = c.customer_id\n",
    "group by e.employee_id\n",
    "order by revenue desc\n",
    "\n"
   ]
  },
  {
   "cell_type": "markdown",
   "metadata": {},
   "source": [
    "There are 3 sales support agents in Chinook and *Jane* has the best sales record among all of them. Meanwhile, it is also important to notice that the order of their sales record is equal to their entry date. It indicates that their working experience may help with their sales."
   ]
  },
  {
   "cell_type": "markdown",
   "metadata": {},
   "source": [
    "## Sales of the customer from different countries\n",
    "\n",
    "The next task is to analyze the sales data for customers from each different country. We will use the country value from the table `customer`, and ignore the country from the billing address in the invoice table.\n",
    "\n",
    "In particular, for each country we will calculate data the followings:\n",
    "\n",
    "- total number of customers\n",
    "- total value of sales\n",
    "- the average value of sales per customer\n",
    "- average order value\n",
    "\n",
    "Because there are a number of countries with only one customer, they will be grouped as \"Other\"."
   ]
  },
  {
   "cell_type": "code",
   "execution_count": 5,
   "metadata": {
    "collapsed": false
   },
   "outputs": [
    {
     "name": "stdout",
     "output_type": "stream",
     "text": [
      "Done.\n"
     ]
    },
    {
     "data": {
      "text/html": [
       "<table>\n",
       "    <tr>\n",
       "        <th>country</th>\n",
       "        <th>nr_of_customer</th>\n",
       "        <th>total_sales</th>\n",
       "        <th>avg_sales_per_customer</th>\n",
       "        <th>avg_order_value</th>\n",
       "    </tr>\n",
       "    <tr>\n",
       "        <td>USA</td>\n",
       "        <td>13</td>\n",
       "        <td>1040.49</td>\n",
       "        <td>80.04</td>\n",
       "        <td>7.94</td>\n",
       "    </tr>\n",
       "    <tr>\n",
       "        <td>Canada</td>\n",
       "        <td>8</td>\n",
       "        <td>535.59</td>\n",
       "        <td>66.95</td>\n",
       "        <td>7.05</td>\n",
       "    </tr>\n",
       "    <tr>\n",
       "        <td>Brazil</td>\n",
       "        <td>5</td>\n",
       "        <td>427.68</td>\n",
       "        <td>85.54</td>\n",
       "        <td>7.01</td>\n",
       "    </tr>\n",
       "    <tr>\n",
       "        <td>France</td>\n",
       "        <td>5</td>\n",
       "        <td>389.07</td>\n",
       "        <td>77.81</td>\n",
       "        <td>7.78</td>\n",
       "    </tr>\n",
       "    <tr>\n",
       "        <td>Germany</td>\n",
       "        <td>4</td>\n",
       "        <td>334.62</td>\n",
       "        <td>83.66</td>\n",
       "        <td>8.16</td>\n",
       "    </tr>\n",
       "    <tr>\n",
       "        <td>Czech Republic</td>\n",
       "        <td>2</td>\n",
       "        <td>273.24</td>\n",
       "        <td>136.62</td>\n",
       "        <td>9.11</td>\n",
       "    </tr>\n",
       "    <tr>\n",
       "        <td>United Kingdom</td>\n",
       "        <td>3</td>\n",
       "        <td>245.52</td>\n",
       "        <td>81.84</td>\n",
       "        <td>8.77</td>\n",
       "    </tr>\n",
       "    <tr>\n",
       "        <td>Portugal</td>\n",
       "        <td>2</td>\n",
       "        <td>185.13</td>\n",
       "        <td>92.56</td>\n",
       "        <td>6.38</td>\n",
       "    </tr>\n",
       "    <tr>\n",
       "        <td>India</td>\n",
       "        <td>2</td>\n",
       "        <td>183.15</td>\n",
       "        <td>91.57</td>\n",
       "        <td>8.72</td>\n",
       "    </tr>\n",
       "    <tr>\n",
       "        <td>Other</td>\n",
       "        <td>15</td>\n",
       "        <td>1094.94</td>\n",
       "        <td>73.0</td>\n",
       "        <td>7.45</td>\n",
       "    </tr>\n",
       "</table>"
      ],
      "text/plain": [
       "[('USA', 13, 1040.49, 80.04, 7.94),\n",
       " ('Canada', 8, 535.59, 66.95, 7.05),\n",
       " ('Brazil', 5, 427.68, 85.54, 7.01),\n",
       " ('France', 5, 389.07, 77.81, 7.78),\n",
       " ('Germany', 4, 334.62, 83.66, 8.16),\n",
       " ('Czech Republic', 2, 273.24, 136.62, 9.11),\n",
       " ('United Kingdom', 3, 245.52, 81.84, 8.77),\n",
       " ('Portugal', 2, 185.13, 92.56, 6.38),\n",
       " ('India', 2, 183.15, 91.57, 8.72),\n",
       " ('Other', 15, 1094.94, 73.0, 7.45)]"
      ]
     },
     "execution_count": 5,
     "metadata": {},
     "output_type": "execute_result"
    }
   ],
   "source": [
    "%%sql\n",
    "with \n",
    "    /*group countries with only 1 customer as \"Other\"*/\n",
    "    country_gp as( \n",
    "                select \n",
    "                    country,\n",
    "                    case \n",
    "                        when count(*) = 1 then 'Other'\n",
    "                        else country\n",
    "                        end as country_gp,\n",
    "                    case\n",
    "                        when count(*) = 1 then 0\n",
    "                        else 1\n",
    "                        end as gp_order /*put 'Other' to the bottom*/\n",
    "                from customer\n",
    "                group by country\n",
    "                ),    \n",
    "    cus_sales as(\n",
    "                select \n",
    "                    customer_id,\n",
    "                    sum(total) as total,\n",
    "                    count(*) as nr_order\n",
    "                from invoice\n",
    "                group by customer_id\n",
    "                )\n",
    "select \n",
    "    c_gp.country_gp as country,\n",
    "    count(*) as nr_of_customer,\n",
    "    round(sum(cs.total),2) as total_sales,\n",
    "    round(avg(cs.total),2) as avg_sales_per_customer,\n",
    "    round(sum(cs.total)/sum(cs.nr_order),2) as avg_order_value\n",
    "from customer c\n",
    "left join \n",
    "    country_gp c_gp on c_gp.country = c.country\n",
    "left join \n",
    "    cus_sales cs on cs.customer_id = c.customer_id\n",
    "group by country_gp\n",
    "order by gp_order desc, total_sales desc"
   ]
  },
  {
   "cell_type": "markdown",
   "metadata": {},
   "source": [
    "The sales of USA is the top of all countries, and then is Canada. Meanwhile Czech Republich has the highest average sales per customer, 136.62.It is also important to notice that the total number of customer and total sales in the countries with only 1 customer are larger than the number of customer in USA."
   ]
  },
  {
   "cell_type": "markdown",
   "metadata": {
    "collapsed": true
   },
   "source": [
    "## Percentage of purchases are individual tracks vs whole albums\n",
    "\n",
    "Our last task is to find out what percentage of purchases are individual tracks vs whole albums, so that management can use this data to understand the effect this decision might have on overall revenue.\n",
    "\n",
    "Consider that the Chinook store allows the customer to make purchases in one of the two ways:\n",
    "\n",
    "- purchase a whole album\n",
    "- purchase a collection of one or more individual tracks.\n",
    "\n",
    "First of all, we will find out all the albums in every invoice. Then we will compare the tracks purchased and the full track list from the album. If they are the same, we will assign 1 as 'full album', otherwise 0. Besides, the purchase with complete and incomplete albums will be also classified as 0."
   ]
  },
  {
   "cell_type": "code",
   "execution_count": 53,
   "metadata": {
    "collapsed": false
   },
   "outputs": [
    {
     "name": "stdout",
     "output_type": "stream",
     "text": [
      "Done.\n"
     ]
    },
    {
     "data": {
      "text/html": [
       "<table>\n",
       "    <tr>\n",
       "        <th>Purchase Method</th>\n",
       "        <th>n_invoice</th>\n",
       "        <th>per_invoices</th>\n",
       "        <th>track_per_invoice</th>\n",
       "    </tr>\n",
       "    <tr>\n",
       "        <td>By track</td>\n",
       "        <td>500</td>\n",
       "        <td>81.43</td>\n",
       "        <td>6</td>\n",
       "    </tr>\n",
       "    <tr>\n",
       "        <td>By album</td>\n",
       "        <td>114</td>\n",
       "        <td>18.57</td>\n",
       "        <td>12</td>\n",
       "    </tr>\n",
       "</table>"
      ],
      "text/plain": [
       "[('By track', 500, 81.43, 6), ('By album', 114, 18.57, 12)]"
      ]
     },
     "execution_count": 53,
     "metadata": {},
     "output_type": "execute_result"
    }
   ],
   "source": [
    "%%sql\n",
    "with\n",
    "    invoice_album as(\n",
    "        select \n",
    "            il.invoice_id,\n",
    "            t1.album_id,\n",
    "            count(*) as n_track,\n",
    "            case\n",
    "                when (\n",
    "                    /* select all tracks from a album*/\n",
    "                    select track_id from track t0\n",
    "                    where t0.album_id = t1.album_id \n",
    "\n",
    "                    except\n",
    "\n",
    "                    /* select all tracks from an invoice*/\n",
    "                    select track_id from invoice_line il_t\n",
    "                    where il_t.invoice_id = il.invoice_id\n",
    "                    ) isnull then 1\n",
    "                else 0\n",
    "                end as full_album,\n",
    "            sum(il.unit_price*il.quantity) as ttl_revenue\n",
    "\n",
    "        from invoice_line il\n",
    "        left join track t1 on t1.track_id = il.track_id\n",
    "        group by il.invoice_id, t1.album_id\n",
    "        ),\n",
    "    /* if a purchase contains tracks from non-completed album, assign as 0*/\n",
    "    summary as(\n",
    "        select \n",
    "            invoice_id, \n",
    "            min(full_album) as full_album,\n",
    "            sum(ttl_revenue) as total_revenue,\n",
    "            sum(n_track) as n_track\n",
    "        from invoice_album\n",
    "        group by invoice_id\n",
    "        )\n",
    "    \n",
    "select\n",
    "    case\n",
    "        when full_album = 1 then 'By album'\n",
    "        else 'By track'\n",
    "        end as 'Purchase Method',\n",
    "    count(*) as n_invoice, \n",
    "    (round(\n",
    "        count(*)/(\n",
    "            select \n",
    "                cast(\n",
    "                   count(\n",
    "                       distinct(invoice_id)\n",
    "                   ) as FLOAT\n",
    "               )\n",
    "            from invoice_line)*100,2)\n",
    "    ) as per_invoices,\n",
    "    sum(n_track)/count(*) as track_per_invoice\n",
    "from summary\n",
    "group by full_album;"
   ]
  },
  {
   "cell_type": "markdown",
   "metadata": {
    "collapsed": true
   },
   "source": [
    "More than 80% of the purchases are not a full album. Moreover, the number of tracks purchased by track is only half of the number purchased by album. This implies that most of the purchases only include a few songs from the whole album. Therefore purchase only the most popular tracks from each album from record companies, instead of purchasing every track from an album would definitely reduce the cost without a significant reduction of the total revenue."
   ]
  },
  {
   "cell_type": "markdown",
   "metadata": {},
   "source": [
    "To be continued:\n",
    "\n",
    "- Which artist is used in the most playlists?\n",
    "- How many tracks have been purchased vs not purchased?\n",
    "- Is the range of tracks in the store reflective of their sales popularity?\n",
    "- Do protected vs non-protected media types have an effect on popularity?"
   ]
  }
 ],
 "metadata": {
  "kernelspec": {
   "display_name": "Python 3",
   "language": "python",
   "name": "python3"
  },
  "language_info": {
   "codemirror_mode": {
    "name": "ipython",
    "version": 3
   },
   "file_extension": ".py",
   "mimetype": "text/x-python",
   "name": "python",
   "nbconvert_exporter": "python",
   "pygments_lexer": "ipython3",
   "version": "3.4.3"
  }
 },
 "nbformat": 4,
 "nbformat_minor": 2
}
