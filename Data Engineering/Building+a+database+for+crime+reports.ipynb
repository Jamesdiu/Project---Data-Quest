{
 "cells": [
  {
   "cell_type": "markdown",
   "metadata": {},
   "source": [
    "# Building a database for crime reports\n",
    "\n",
    "In this guided project, we are going to build a database, **crimes_db**,  for storing data related with crimes that occurred in Boston. In this database, we will have a table, **boton_crimes** with appropriate datatypes for storing the data from the *boston.csv* file inside a schema, **crimes**. Besides, we will have 2 groups, **readonly** and **readwrite** with different privileges."
   ]
  },
  {
   "cell_type": "markdown",
   "metadata": {},
   "source": [
    "## Create database - crimes_db"
   ]
  },
  {
   "cell_type": "code",
   "execution_count": 3,
   "metadata": {
    "collapsed": true
   },
   "outputs": [],
   "source": [
    "import psycopg2\n",
    "import csv"
   ]
  },
  {
   "cell_type": "code",
   "execution_count": 4,
   "metadata": {
    "collapsed": false
   },
   "outputs": [],
   "source": [
    "conn = psycopg2.connect(dbname='dq',\n",
    "                        user='dq')\n",
    "conn.autocommit = True\n",
    "\n",
    "cur = conn.cursor()\n",
    "cur.execute('CREATE DATABASE crimes_db;')\n",
    "\n",
    "conn.close()"
   ]
  },
  {
   "cell_type": "code",
   "execution_count": 5,
   "metadata": {
    "collapsed": true
   },
   "outputs": [],
   "source": [
    "# connect to database to crimes_db\n",
    "conn = psycopg2.connect(dbname='crimes_db',\n",
    "                        user='dq')\n",
    "cur = conn.cursor()"
   ]
  },
  {
   "cell_type": "markdown",
   "metadata": {},
   "source": [
    "## Create schema - crimes"
   ]
  },
  {
   "cell_type": "code",
   "execution_count": 8,
   "metadata": {
    "collapsed": false
   },
   "outputs": [],
   "source": [
    "cur.execute('CREATE SCHEMA crimes')"
   ]
  },
  {
   "cell_type": "markdown",
   "metadata": {},
   "source": [
    "### check file before input\n",
    "\n",
    "Since we are going to input the data from `boston.csv`, we need more information about the columns to determine their types in our table."
   ]
  },
  {
   "cell_type": "code",
   "execution_count": 9,
   "metadata": {
    "collapsed": true
   },
   "outputs": [],
   "source": [
    "with open('boston.csv') as f:\n",
    "    rows = list(csv.reader(f))\n",
    "    col_headers = rows[0]\n",
    "    first_row = rows[1]"
   ]
  },
  {
   "cell_type": "code",
   "execution_count": 10,
   "metadata": {
    "collapsed": false
   },
   "outputs": [
    {
     "name": "stdout",
     "output_type": "stream",
     "text": [
      "['incident_number', 'offense_code', 'description', 'date', 'day_of_the_week', 'lat', 'long']\n",
      "['1', '619', 'LARCENY ALL OTHERS', '2018-09-02', 'Sunday', '42.35779134', '-71.13937053']\n"
     ]
    }
   ],
   "source": [
    "print(col_headers)\n",
    "print(first_row)"
   ]
  },
  {
   "cell_type": "code",
   "execution_count": 11,
   "metadata": {
    "collapsed": true
   },
   "outputs": [],
   "source": [
    "def get_col_set(file, col):\n",
    "    '''    \n",
    "    get a set of distinct values from the target column\n",
    "    \n",
    "    Args:\n",
    "        file (str): file name of the target data\n",
    "        col (num): columns index of the target column\n",
    "        \n",
    "    Returns:\n",
    "        set: set of value in the target column\n",
    "    '''\n",
    "    with open(file) as f:\n",
    "        reader = list(csv.reader(f))\n",
    "        rows = reader[1:]\n",
    "        \n",
    "        value = set()\n",
    "        for row in rows:\n",
    "            value.add(row[col])\n",
    "            \n",
    "    return value"
   ]
  },
  {
   "cell_type": "code",
   "execution_count": 12,
   "metadata": {
    "collapsed": false
   },
   "outputs": [
    {
     "name": "stdout",
     "output_type": "stream",
     "text": [
      "Number of distinct values:\n",
      "\n",
      "incident_number: 298329\n",
      "offense_code: 219\n",
      "description: 239\n",
      "date: 1177\n",
      "day_of_the_week: 7\n",
      "lat: 18177\n",
      "long: 18177\n"
     ]
    }
   ],
   "source": [
    "print('Number of distinct values:\\n')\n",
    "for col in range(len(col_headers)):\n",
    "    length = len(get_col_set('boston.csv', col))\n",
    "    print('{}: {}'.format(col_headers[col], length))"
   ]
  },
  {
   "cell_type": "markdown",
   "metadata": {},
   "source": [
    "We have 7 columns in total. We can basically classify some of their types. For example, we will use **int4** for `incident_number` and `offense_code`, **float8** for `lat` and `long` since they have more than 6 decimal digits, and **date** for `date`. \n",
    "\n",
    "However, we still need to decide the length of `description` in order to decide the best type to optimize the storing space. "
   ]
  },
  {
   "cell_type": "markdown",
   "metadata": {},
   "source": [
    "####  Max length of the value in ` description`"
   ]
  },
  {
   "cell_type": "code",
   "execution_count": 13,
   "metadata": {
    "collapsed": false
   },
   "outputs": [
    {
     "data": {
      "text/plain": [
       "2"
      ]
     },
     "execution_count": 13,
     "metadata": {},
     "output_type": "execute_result"
    }
   ],
   "source": [
    "# column index of 'description'\n",
    "col_headers.index('description')"
   ]
  },
  {
   "cell_type": "code",
   "execution_count": 14,
   "metadata": {
    "collapsed": true
   },
   "outputs": [],
   "source": [
    "# get the set of values in description \n",
    "desc_set = get_col_set('boston.csv', 2)"
   ]
  },
  {
   "cell_type": "code",
   "execution_count": 15,
   "metadata": {
    "collapsed": false
   },
   "outputs": [
    {
     "name": "stdout",
     "output_type": "stream",
     "text": [
      "The max length in description is 58: \n",
      "RECOVERED - MV RECOVERED IN BOSTON (STOLEN OUTSIDE BOSTON)\n"
     ]
    }
   ],
   "source": [
    "# compute the maximum length of any value in description\n",
    "max_len = 0\n",
    "max_desc = ''\n",
    "\n",
    "for ele in desc_set:\n",
    "    if max_len < len(ele): max_desc = ele\n",
    "    max_len = max(len(ele), max_len)\n",
    "\n",
    "print('The max length in description is {}: \\n{}'.format(max_len, max_desc))"
   ]
  },
  {
   "cell_type": "markdown",
   "metadata": {},
   "source": [
    "We will use **varchar(100)** for description to ensure there is enough space for input."
   ]
  },
  {
   "cell_type": "markdown",
   "metadata": {},
   "source": [
    "#### Enumerated datatype for `day_of_the_week`\n",
    "\n",
    "`day_of_the_week` has obviously only 7 different values from Sunday to Saturday. A better option is to create an enumerated datatype for this column."
   ]
  },
  {
   "cell_type": "code",
   "execution_count": 16,
   "metadata": {
    "collapsed": false
   },
   "outputs": [
    {
     "data": {
      "text/plain": [
       "{'Friday', 'Monday', 'Saturday', 'Sunday', 'Thursday', 'Tuesday', 'Wednesday'}"
      ]
     },
     "execution_count": 16,
     "metadata": {},
     "output_type": "execute_result"
    }
   ],
   "source": [
    "# get values of 'day_of_the_week'\n",
    "get_col_set('boston.csv', col_headers.index('day_of_the_week'))"
   ]
  },
  {
   "cell_type": "code",
   "execution_count": 17,
   "metadata": {
    "collapsed": false
   },
   "outputs": [],
   "source": [
    "# create an enumerated datatype for 'day_of_the_week'\n",
    "cur.execute('''\n",
    "    CREATE TYPE weekday_enum AS ENUM (\n",
    "    'Friday', 'Monday', 'Saturday', 'Sunday', \n",
    "    'Thursday', 'Tuesday', 'Wednesday'\n",
    "    );\n",
    "''')"
   ]
  },
  {
   "cell_type": "markdown",
   "metadata": {},
   "source": [
    "In summary, we will assign the types as below:\n",
    "\n",
    "- incident_number: int4\n",
    "- offense_code: int4\n",
    "- description: varchar(100)\n",
    "- date: date\n",
    "- day_of_the_week: weekday_enum\n",
    "- lat: float8\n",
    "- long: float8\n",
    "\n",
    "Meanwhile, we will set `incident_number` as the primary key since it should be unqiue in the table."
   ]
  },
  {
   "cell_type": "code",
   "execution_count": 18,
   "metadata": {
    "collapsed": false
   },
   "outputs": [],
   "source": [
    "cur.execute('''\n",
    "    CREATE TABLE crimes.boston_crimes(\n",
    "        incident_number int4 PRIMARY KEY,\n",
    "        offense_code int4,\n",
    "        description varchar(100),\n",
    "        date date,\n",
    "        day_of_the_week weekday_enum,\n",
    "        lat float8,\n",
    "        long float8\n",
    "    );\n",
    "'''\n",
    ")"
   ]
  },
  {
   "cell_type": "markdown",
   "metadata": {},
   "source": [
    "## Loading data into crimes.boston_crimes"
   ]
  },
  {
   "cell_type": "code",
   "execution_count": 19,
   "metadata": {
    "collapsed": true
   },
   "outputs": [],
   "source": [
    "with open('boston.csv') as f:\n",
    "    cur.copy_expert('''\n",
    "    COPY crimes.boston_crimes \n",
    "    FROM STDIN WITH CSV HEADER;\n",
    "    ''', f)"
   ]
  },
  {
   "cell_type": "markdown",
   "metadata": {},
   "source": [
    "## Create groups - readonly & readwrite\n",
    "\n",
    "We will create two groups: readonly and readwrite and allow specific privileges as follow:\n",
    "\n",
    "- readonly: SELECT\n",
    "- readwrite: SELECT, INSERT, DELETE, UPDATE\n",
    "\n",
    "By following the least privilege principle, the first step in doing so is to make sure that there are no privileges inherited from the public group and on the public schema. Therefore we will revoke all the privileges of the `public` group on the `public` schema and `crime_db` database."
   ]
  },
  {
   "cell_type": "code",
   "execution_count": 20,
   "metadata": {
    "collapsed": false
   },
   "outputs": [],
   "source": [
    "# Revoke all the privileges of the public group on the public schema\n",
    "cur.execute('REVOKE ALL ON SCHEMA public FROM public;')\n",
    "# Revoke all privileges of public on the crime_db database\n",
    "cur.execute('REVOKE ALL ON DATABASE crimes_db FROM public;')"
   ]
  },
  {
   "cell_type": "code",
   "execution_count": 21,
   "metadata": {
    "collapsed": true
   },
   "outputs": [],
   "source": [
    "# crete readonly\n",
    "cur.execute('CREATE GROUP readonly NOLOGIN;')\n",
    "\n",
    "# Connection privileges on the crimes_db\n",
    "cur.execute('GRANT CONNECT ON DATABASE crimes_db TO readonly')\n",
    "\n",
    "# Usage of the crimes schema\n",
    "cur.execute('GRANT USAGE ON SCHEMA crimes TO readonly')\n",
    "\n",
    "# Grant group specific privileges\n",
    "cur.execute('''\n",
    "    GRANT SELECT \n",
    "    ON ALL TABLES IN SCHEMA crimes TO readonly;\n",
    "    ''')"
   ]
  },
  {
   "cell_type": "code",
   "execution_count": 22,
   "metadata": {
    "collapsed": true
   },
   "outputs": [],
   "source": [
    "# crete readwrite\n",
    "cur.execute('CREATE GROUP readwrite NOLOGIN;')\n",
    "\n",
    "# Connection privileges on the crimes_db\n",
    "cur.execute('GRANT CONNECT ON DATABASE crimes_db TO readwrite')\n",
    "\n",
    "# Usage of the crimes schema\n",
    "cur.execute('GRANT USAGE ON SCHEMA crimes TO readwrite')\n",
    "\n",
    "# Grant group specific privileges\n",
    "cur.execute('''\n",
    "    GRANT SELECT, INSERT, DELETE, UPDATE\n",
    "    ON ALL TABLES IN SCHEMA crimes TO readwrite;\n",
    "    ''')"
   ]
  },
  {
   "cell_type": "markdown",
   "metadata": {
    "collapsed": true
   },
   "source": [
    "## Create users in each group\n",
    "\n",
    "Now we create some new users and assign them into different groups."
   ]
  },
  {
   "cell_type": "code",
   "execution_count": 23,
   "metadata": {
    "collapsed": false
   },
   "outputs": [],
   "source": [
    "# create user and assign group\n",
    "cur.execute(\"CREATE USER data_analyst PASSWORD 'secret1';\")\n",
    "cur.execute('GRANT readonly TO data_analyst;')"
   ]
  },
  {
   "cell_type": "code",
   "execution_count": 24,
   "metadata": {
    "collapsed": false
   },
   "outputs": [],
   "source": [
    "# create user and assign group\n",
    "cur.execute(\"CREATE USER data_scientist PASSWORD 'secret2';\")\n",
    "cur.execute('GRANT readwrite TO data_scientist;')"
   ]
  },
  {
   "cell_type": "code",
   "execution_count": 25,
   "metadata": {
    "collapsed": true
   },
   "outputs": [],
   "source": [
    "# commit all above and close connection\n",
    "conn.commit()\n",
    "conn.close()"
   ]
  },
  {
   "cell_type": "markdown",
   "metadata": {},
   "source": [
    "## Testing database"
   ]
  },
  {
   "cell_type": "code",
   "execution_count": 33,
   "metadata": {
    "collapsed": false
   },
   "outputs": [],
   "source": [
    "conn = psycopg2.connect(dbname='crimes_db', user='dq')\n",
    "cur = conn.cursor()"
   ]
  },
  {
   "cell_type": "code",
   "execution_count": 27,
   "metadata": {
    "collapsed": false
   },
   "outputs": [
    {
     "name": "stdout",
     "output_type": "stream",
     "text": [
      "('readonly', False, False, False, False)\n",
      "('readwrite', False, False, False, False)\n",
      "('data_analyst', False, False, False, True)\n",
      "('data_scientist', False, False, False, True)\n"
     ]
    }
   ],
   "source": [
    "cur.execute(\"\"\"\n",
    "    SELECT rolname, rolsuper, rolcreaterole, rolcreatedb, rolcanlogin FROM pg_roles\n",
    "    WHERE rolname IN ('readonly', 'readwrite', 'data_analyst', 'data_scientist');\n",
    "\"\"\")\n",
    "for user in cur:\n",
    "    print(user)"
   ]
  },
  {
   "cell_type": "markdown",
   "metadata": {},
   "source": [
    "### User privileges"
   ]
  },
  {
   "cell_type": "code",
   "execution_count": 28,
   "metadata": {
    "collapsed": true
   },
   "outputs": [],
   "source": [
    "cur.execute('''\n",
    "PREPARE show_privileges(text) AS\n",
    "SELECT grantee, privilege_type\n",
    "FROM information_schema.table_privileges\n",
    "WHERE grantee = $1;\n",
    "''')"
   ]
  },
  {
   "cell_type": "code",
   "execution_count": 29,
   "metadata": {
    "collapsed": false
   },
   "outputs": [
    {
     "data": {
      "text/plain": [
       "[('readwrite', 'INSERT'),\n",
       " ('readwrite', 'SELECT'),\n",
       " ('readwrite', 'UPDATE'),\n",
       " ('readwrite', 'DELETE')]"
      ]
     },
     "execution_count": 29,
     "metadata": {},
     "output_type": "execute_result"
    }
   ],
   "source": [
    "group = ['readwrite']\n",
    "\n",
    "cur.execute('EXECUTE show_privileges(%s);', group)\n",
    "cur.fetchall()"
   ]
  },
  {
   "cell_type": "code",
   "execution_count": 30,
   "metadata": {
    "collapsed": false
   },
   "outputs": [
    {
     "data": {
      "text/plain": [
       "[('readonly', 'SELECT')]"
      ]
     },
     "execution_count": 30,
     "metadata": {},
     "output_type": "execute_result"
    }
   ],
   "source": [
    "group = ['readonly']\n",
    "\n",
    "cur.execute('EXECUTE show_privileges(%s);', group)\n",
    "cur.fetchall()"
   ]
  },
  {
   "cell_type": "markdown",
   "metadata": {
    "collapsed": true
   },
   "source": [
    "### Table - crimes.boston_crimes"
   ]
  },
  {
   "cell_type": "code",
   "execution_count": 39,
   "metadata": {
    "collapsed": false
   },
   "outputs": [
    {
     "data": {
      "text/plain": [
       "[(1,\n",
       "  619,\n",
       "  'LARCENY ALL OTHERS',\n",
       "  datetime.date(2018, 9, 2),\n",
       "  'Sunday',\n",
       "  42.35779134,\n",
       "  -71.13937053),\n",
       " (2,\n",
       "  1402,\n",
       "  'VANDALISM',\n",
       "  datetime.date(2018, 8, 21),\n",
       "  'Tuesday',\n",
       "  42.30682138,\n",
       "  -71.06030035),\n",
       " (3,\n",
       "  3410,\n",
       "  'TOWED MOTOR VEHICLE',\n",
       "  datetime.date(2018, 9, 3),\n",
       "  'Monday',\n",
       "  42.34658879,\n",
       "  -71.07242943)]"
      ]
     },
     "execution_count": 39,
     "metadata": {},
     "output_type": "execute_result"
    }
   ],
   "source": [
    "cur.execute('''\n",
    "SELECT *\n",
    "FROM crimes.boston_crimes\n",
    "LIMIT 3;\n",
    "''')\n",
    "\n",
    "cur.fetchall()"
   ]
  },
  {
   "cell_type": "code",
   "execution_count": 13,
   "metadata": {
    "collapsed": true
   },
   "outputs": [],
   "source": [
    "conn.close()"
   ]
  }
 ],
 "metadata": {
  "kernelspec": {
   "display_name": "Python 3",
   "language": "python",
   "name": "python3"
  },
  "language_info": {
   "codemirror_mode": {
    "name": "ipython",
    "version": 3
   },
   "file_extension": ".py",
   "mimetype": "text/x-python",
   "name": "python",
   "nbconvert_exporter": "python",
   "pygments_lexer": "ipython3",
   "version": "3.4.3"
  }
 },
 "nbformat": 4,
 "nbformat_minor": 2
}
