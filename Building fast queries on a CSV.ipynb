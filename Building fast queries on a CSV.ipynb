{
 "cells": [
  {
   "cell_type": "markdown",
   "metadata": {},
   "source": [
    "# Building fast queries on a CSV\n",
    "\n",
    "In this project, We will use the *laptops.csv* file as our inventory. This CSV file was adapted from the [Laptop Prices dataset on Kaggle](https://www.kaggle.com/ionaskel/laptop-prices). The goal is to create a class that represents our inventory. The methods in that class will implement the queries that we want to answer about our inventory. We will also preprocess that data to make those queries run faster.\n",
    "\n",
    "Here are some queries that we will want to answer:\n",
    "\n",
    "- Given a laptop id, find the corresponding data.\n",
    "- Given an amount of money, find whether there are two laptops whose total price is that given amount.\n",
    "- Identify all laptops whose price falls within a given budget.\n",
    "\n",
    "To achieve this purpose, we are going to create a new class, **Inventory**."
   ]
  },
  {
   "cell_type": "code",
   "execution_count": 1,
   "metadata": {},
   "outputs": [],
   "source": [
    "import csv\n",
    "import chardet\n",
    "import re"
   ]
  },
  {
   "cell_type": "markdown",
   "metadata": {},
   "source": [
    "First of all, let's take a look at the data we have."
   ]
  },
  {
   "cell_type": "code",
   "execution_count": 2,
   "metadata": {},
   "outputs": [],
   "source": [
    "# # check files' encoding\n",
    "# with open('laptops.csv', mode='rb') as file:\n",
    "#     raw_bytes = file.read(32)\n",
    "#     print(chardet(raw_bytes))\n",
    "#     encodingname = chardet(raw_bytes)['encoding']    "
   ]
  },
  {
   "cell_type": "code",
   "execution_count": 3,
   "metadata": {},
   "outputs": [],
   "source": [
    "with open('laptops.csv', encoding = 'utf8') as file:\n",
    "    reader = list(csv.reader(file))\n",
    "    header = reader[0]\n",
    "    rows = reader[1:]"
   ]
  },
  {
   "cell_type": "code",
   "execution_count": 4,
   "metadata": {},
   "outputs": [
    {
     "name": "stdout",
     "output_type": "stream",
     "text": [
      "header\n",
      " ['Id', 'Company', 'Product', 'TypeName', 'Inches', 'ScreenResolution', 'Cpu', 'Ram', 'Memory', 'Gpu', 'OpSys', 'Weight', 'Price'] \n",
      "\n",
      "rows\n",
      " [['6571244', 'Apple', 'MacBook Pro', 'Ultrabook', '13.3', 'IPS Panel Retina Display 2560x1600', 'Intel Core i5 2.3GHz', '8GB', '128GB SSD', 'Intel Iris Plus Graphics 640', 'macOS', '1.37kg', '1339'], ['7287764', 'Apple', 'Macbook Air', 'Ultrabook', '13.3', '1440x900', 'Intel Core i5 1.8GHz', '8GB', '128GB Flash Storage', 'Intel HD Graphics 6000', 'macOS', '1.34kg', '898'], ['3362737', 'HP', '250 G6', 'Notebook', '15.6', 'Full HD 1920x1080', 'Intel Core i5 7200U 2.5GHz', '8GB', '256GB SSD', 'Intel HD Graphics 620', 'No OS', '1.86kg', '575'], ['9722156', 'Apple', 'MacBook Pro', 'Ultrabook', '15.4', 'IPS Panel Retina Display 2880x1800', 'Intel Core i7 2.7GHz', '16GB', '512GB SSD', 'AMD Radeon Pro 455', 'macOS', '1.83kg', '2537'], ['8550527', 'Apple', 'MacBook Pro', 'Ultrabook', '13.3', 'IPS Panel Retina Display 2560x1600', 'Intel Core i5 3.1GHz', '8GB', '256GB SSD', 'Intel Iris Plus Graphics 650', 'macOS', '1.37kg', '1803']]\n"
     ]
    }
   ],
   "source": [
    "print('header\\n', header, '\\n')\n",
    "print('rows\\n', rows[:5])"
   ]
  },
  {
   "cell_type": "markdown",
   "metadata": {},
   "source": [
    "## Create Inventory class and read file\n",
    "\n",
    "First of all, we will create a new class to read the file and change the `price` column into **int**."
   ]
  },
  {
   "cell_type": "code",
   "execution_count": 5,
   "metadata": {},
   "outputs": [],
   "source": [
    "class Inventory():\n",
    "    \n",
    "    def __init__(self, csv_filename):\n",
    "        with open('laptops.csv', encoding = 'utf8') as file:            \n",
    "            reader = list(csv.reader(file))\n",
    "            \n",
    "        self.header = reader[0]\n",
    "        self.rows = reader[1:]\n",
    "        \n",
    "        # convert price into int\n",
    "        for row in self.rows:\n",
    "            row[-1] = int(row[-1])"
   ]
  },
  {
   "cell_type": "code",
   "execution_count": 6,
   "metadata": {},
   "outputs": [
    {
     "name": "stdout",
     "output_type": "stream",
     "text": [
      "['Id', 'Company', 'Product', 'TypeName', 'Inches', 'ScreenResolution', 'Cpu', 'Ram', 'Memory', 'Gpu', 'OpSys', 'Weight', 'Price']\n",
      "1303\n"
     ]
    }
   ],
   "source": [
    "inventory = Inventory('laptops.csv')\n",
    "print(inventory.header)\n",
    "print(len(inventory.rows))"
   ]
  },
  {
   "cell_type": "code",
   "execution_count": 7,
   "metadata": {},
   "outputs": [
    {
     "name": "stdout",
     "output_type": "stream",
     "text": [
      "['3362737', 'HP', '250 G6', 'Notebook', '15.6', 'Full HD 1920x1080', 'Intel Core i5 7200U 2.5GHz', '8GB', '256GB SSD', 'Intel HD Graphics 620', 'No OS', '1.86kg', 575]\n"
     ]
    }
   ],
   "source": [
    "print(inventory.rows[2])"
   ]
  },
  {
   "cell_type": "markdown",
   "metadata": {},
   "source": [
    "## Find laptop details from ID\n",
    "\n",
    "Then, we will write a function named *get_laptop_from_id()* to look up a laptop from a given identifier. In this way, when a customer comes to our store with a purchase slip, we can quickly identify the laptop to which it corresponds. This function will take as argument the identifier of the laptop and return the full row of the laptop with that id."
   ]
  },
  {
   "cell_type": "code",
   "execution_count": 8,
   "metadata": {},
   "outputs": [],
   "source": [
    "class Inventory():\n",
    "    \n",
    "    def __init__(self, csv_filename):\n",
    "        with open('laptops.csv', encoding = 'utf8') as file:            \n",
    "            reader = list(csv.reader(file))\n",
    "            \n",
    "        self.header = reader[0]\n",
    "        self.rows = reader[1:]\n",
    "        \n",
    "        # convert price into int\n",
    "        for row in self.rows:\n",
    "            row[-1] = int(row[-1])\n",
    "            \n",
    "    def get_laptop_from_id(self, laptop_id):\n",
    "        for row in self.rows:\n",
    "            # laptop_id is the first column\n",
    "            if row[0] == laptop_id:\n",
    "                return row \n",
    "        return 'None'             "
   ]
  },
  {
   "cell_type": "code",
   "execution_count": 9,
   "metadata": {},
   "outputs": [
    {
     "name": "stdout",
     "output_type": "stream",
     "text": [
      "['3362737', 'HP', '250 G6', 'Notebook', '15.6', 'Full HD 1920x1080', 'Intel Core i5 7200U 2.5GHz', '8GB', '256GB SSD', 'Intel HD Graphics 620', 'No OS', '1.86kg', 575]\n",
      "None\n"
     ]
    }
   ],
   "source": [
    "inventory = Inventory('laptops.csv')\n",
    "print(inventory.get_laptop_from_id('3362737'))\n",
    "print(inventory.get_laptop_from_id('3362736'))"
   ]
  },
  {
   "cell_type": "markdown",
   "metadata": {},
   "source": [
    "This algorithm has time complexity O(R) where R is the number of rows."
   ]
  },
  {
   "cell_type": "markdown",
   "metadata": {},
   "source": [
    "## Improve complexity in finding with ID\n",
    "\n",
    "We would like to reduce the complxity by proceprocessing the data into a dictionary where the keys are the IDs and the values the rows. Then, we will use that dictionary in the get_laptop_from_id() method. We can do this by:"
   ]
  },
  {
   "cell_type": "code",
   "execution_count": 10,
   "metadata": {},
   "outputs": [],
   "source": [
    "class Inventory():\n",
    "    \n",
    "    def __init__(self, csv_filename):\n",
    "        \n",
    "        with open('laptops.csv', encoding = 'utf8') as file:            \n",
    "            reader = list(csv.reader(file))\n",
    "           \n",
    "        self.header = reader[0]\n",
    "        self.rows = reader[1:]\n",
    "        \n",
    "        # convert price into int\n",
    "        for row in self.rows:\n",
    "            row[-1] = int(row[-1])\n",
    "        \n",
    "        # create a dictionary with ID as the key\n",
    "        self.id_to_row = {}\n",
    "        for row in self.rows:\n",
    "            self.id_to_row[row[0]] = row\n",
    "            \n",
    "    def get_laptop_from_id(self, laptop_id):\n",
    "        for row in self.rows:\n",
    "            # laptop_id is the first column\n",
    "            if row[0] == laptop_id:\n",
    "                return row \n",
    "        return 'None'           \n",
    "    \n",
    "    def get_laptop_from_id_fast(self, laptop_id):\n",
    "        # laptop_id is the first column\n",
    "        if laptop_id in self.id_to_row:\n",
    "            return self.id_to_row[laptop_id]\n",
    "        return 'None'           "
   ]
  },
  {
   "cell_type": "code",
   "execution_count": 11,
   "metadata": {},
   "outputs": [
    {
     "name": "stdout",
     "output_type": "stream",
     "text": [
      "['3362737', 'HP', '250 G6', 'Notebook', '15.6', 'Full HD 1920x1080', 'Intel Core i5 7200U 2.5GHz', '8GB', '256GB SSD', 'Intel HD Graphics 620', 'No OS', '1.86kg', 575]\n",
      "None\n"
     ]
    }
   ],
   "source": [
    "inventory = Inventory('laptops.csv')\n",
    "print(inventory.get_laptop_from_id_fast('3362737'))\n",
    "print(inventory.get_laptop_from_id_fast('3362736'))"
   ]
  },
  {
   "cell_type": "markdown",
   "metadata": {},
   "source": [
    "This algorithm has time complexity O(1)."
   ]
  },
  {
   "cell_type": "markdown",
   "metadata": {},
   "source": [
    "## Compare performance\n",
    "\n",
    "We would time to compare the performance of the functions *get_laptop_from_id* and *get_laptop_from_id_fast* with 10,000 random value between '1000000' and '9999999'."
   ]
  },
  {
   "cell_type": "code",
   "execution_count": 12,
   "metadata": {},
   "outputs": [],
   "source": [
    "import time\n",
    "import random"
   ]
  },
  {
   "cell_type": "code",
   "execution_count": 13,
   "metadata": {},
   "outputs": [],
   "source": [
    "# create random IDs\n",
    "rand_ids = str([random.randint(1000000,9999999) for _ in range(10000)])\n",
    "\n",
    "# initiate data\n",
    "inventory = Inventory('laptops.csv')\n",
    "\n",
    "# times of calling get_laptop_from_id\n",
    "total_time_no_dict = 0\n",
    "\n",
    "for id in rand_ids:\n",
    "    start = time.time()\n",
    "    inventory.get_laptop_from_id(id)\n",
    "    end = time.time()\n",
    "    total_time_no_dict += end-start\n",
    "\n",
    "# time of calling get_laptop_from_id_fast\n",
    "total_time_dict = 0\n",
    "\n",
    "for id in rand_ids:\n",
    "    start = time.time()\n",
    "    inventory.get_laptop_from_id_fast(id)\n",
    "    end = time.time()\n",
    "    total_time_dict += end-start"
   ]
  },
  {
   "cell_type": "code",
   "execution_count": 14,
   "metadata": {},
   "outputs": [
    {
     "name": "stdout",
     "output_type": "stream",
     "text": [
      "\n",
      "    total_time_no_dict: ', 9.679114818572998\n",
      "    total_time_dict: ', 0.04151296615600586\n",
      "    \n"
     ]
    }
   ],
   "source": [
    "print(\n",
    "    '''\n",
    "    total_time_no_dict: ', {}\n",
    "    total_time_dict: ', {}\n",
    "    '''.format(total_time_no_dict, total_time_dict)\n",
    ")"
   ]
  },
  {
   "cell_type": "markdown",
   "metadata": {},
   "source": [
    "*get_laptop_from_id_fast* is more than 200 times faster *get_laptop_from_id*!"
   ]
  },
  {
   "cell_type": "markdown",
   "metadata": {},
   "source": [
    "## Promotion check\n",
    "\n",
    "In this part, we will write a function with a given dollar amount to check whether it is possible to spend precisely that amount by purchasing up to two laptops."
   ]
  },
  {
   "cell_type": "code",
   "execution_count": 15,
   "metadata": {},
   "outputs": [],
   "source": [
    "class Inventory():\n",
    "    \n",
    "    def __init__(self, csv_filename):\n",
    "        \n",
    "        with open('laptops.csv', encoding = 'utf8') as file:            \n",
    "            reader = list(csv.reader(file))\n",
    "           \n",
    "        self.header = reader[0]\n",
    "        self.rows = reader[1:]\n",
    "        \n",
    "        # convert price into int\n",
    "        for row in self.rows:\n",
    "            row[-1] = int(row[-1])\n",
    "        \n",
    "        # create a dictionary with ID as the key\n",
    "        self.id_to_row = {}\n",
    "        for row in self.rows:\n",
    "            self.id_to_row[row[0]] = row\n",
    "            \n",
    "    def get_laptop_from_id(self, laptop_id):\n",
    "        for row in self.rows:\n",
    "            # laptop_id is the first column\n",
    "            if row[0] == laptop_id:\n",
    "                return row \n",
    "        return 'None'           \n",
    "    \n",
    "    def get_laptop_from_id_fast(self, laptop_id):\n",
    "        if laptop_id in self.id_to_row:\n",
    "            return self.id_to_row[laptop_id]\n",
    "        return 'None'           \n",
    "    \n",
    "    def check_promotion_dollars(self, dollars):\n",
    "        # match with single item\n",
    "        for row in self.rows:\n",
    "            if dollars == row[-1]:\n",
    "                return True\n",
    "\n",
    "        # match with pairs\n",
    "        for row1 in self.rows:\n",
    "            for row2 in self.rows:\n",
    "                if dollars == row1[-1]+row2[-1]:\n",
    "                    return True\n",
    "\n",
    "        # no matches \n",
    "        return False"
   ]
  },
  {
   "cell_type": "code",
   "execution_count": 16,
   "metadata": {},
   "outputs": [
    {
     "name": "stdout",
     "output_type": "stream",
     "text": [
      "True\n",
      "False\n"
     ]
    }
   ],
   "source": [
    "inventory = Inventory('laptops.csv')\n",
    "print(inventory.check_promotion_dollars(1000))\n",
    "print(inventory.check_promotion_dollars(442))"
   ]
  },
  {
   "cell_type": "markdown",
   "metadata": {},
   "source": [
    "## Improve complexity in promotion check"
   ]
  },
  {
   "cell_type": "code",
   "execution_count": 17,
   "metadata": {},
   "outputs": [],
   "source": [
    "class Inventory():\n",
    "    \n",
    "    def __init__(self, csv_filename):\n",
    "        \n",
    "        with open('laptops.csv', encoding = 'utf8') as file:            \n",
    "            reader = list(csv.reader(file))\n",
    "           \n",
    "        self.header = reader[0]\n",
    "        self.rows = reader[1:]\n",
    "        \n",
    "        # convert price into int\n",
    "        for row in self.rows:\n",
    "            row[-1] = int(row[-1])\n",
    "        \n",
    "        # create a dictionary with ID as the key\n",
    "        self.id_to_row = {}\n",
    "        for row in self.rows:\n",
    "            self.id_to_row[row[0]] = row\n",
    "        \n",
    "        self.prices = set()\n",
    "        for row in self.rows:\n",
    "            self.prices.add(row[-1])\n",
    "            \n",
    "    def get_laptop_from_id(self, laptop_id):\n",
    "        for row in self.rows:\n",
    "            # laptop_id is the first column\n",
    "            if row[0] == laptop_id:\n",
    "                return row \n",
    "        return 'None'           \n",
    "    \n",
    "    def get_laptop_from_id_fast(self, laptop_id):\n",
    "        if laptop_id in self.id_to_row:\n",
    "            return self.id_to_row[laptop_id]\n",
    "        return 'None'           \n",
    "    \n",
    "    def check_promotion_dollars(self, dollars):\n",
    "        # match with single item\n",
    "        for row in self.rows:\n",
    "            if dollars == row[-1]:\n",
    "                return True\n",
    "\n",
    "        # match with pairs\n",
    "        for row1 in self.rows:\n",
    "            for row2 in self.rows:\n",
    "                if dollars == row1[-1]+row2[-1]:\n",
    "                    return True\n",
    "\n",
    "        # no matches \n",
    "        return False\n",
    "    \n",
    "    def check_promotion_dollars_fast(self, dollars):\n",
    "        if dollars in self.prices:\n",
    "            return True\n",
    "        for price in self.prices:\n",
    "            if dollars - price in self.prices:\n",
    "                return True\n",
    "        return False"
   ]
  },
  {
   "cell_type": "code",
   "execution_count": 18,
   "metadata": {},
   "outputs": [
    {
     "name": "stdout",
     "output_type": "stream",
     "text": [
      "True\n",
      "False\n"
     ]
    }
   ],
   "source": [
    "inventory = Inventory('laptops.csv')\n",
    "print(inventory.check_promotion_dollars_fast(1000))\n",
    "print(inventory.check_promotion_dollars_fast(442))"
   ]
  },
  {
   "cell_type": "markdown",
   "metadata": {},
   "source": [
    "## Compare performance\n",
    "\n",
    "We would time to compare the performance of the two functions with 100 random prices between 100 and 5000."
   ]
  },
  {
   "cell_type": "code",
   "execution_count": 19,
   "metadata": {},
   "outputs": [],
   "source": [
    "# create random price\n",
    "rand_prices = [random.randint(100,5000) for _ in range(100)]\n",
    "\n",
    "# initiate data\n",
    "inventory = Inventory('laptops.csv')\n",
    "\n",
    "# times of calling get_laptop_from_id\n",
    "total_time_no_set = 0\n",
    "\n",
    "for price in rand_prices:\n",
    "    start = time.time()\n",
    "    inventory.check_promotion_dollars(price)\n",
    "    end = time.time()\n",
    "    total_time_no_set += end-start\n",
    "\n",
    "# time of calling get_laptop_from_id_fast\n",
    "total_time_set = 0\n",
    "\n",
    "for price in rand_prices:\n",
    "    start = time.time()\n",
    "    inventory.check_promotion_dollars_fast(price)\n",
    "    end = time.time()\n",
    "    total_time_set += end-start"
   ]
  },
  {
   "cell_type": "code",
   "execution_count": 20,
   "metadata": {},
   "outputs": [
    {
     "name": "stdout",
     "output_type": "stream",
     "text": [
      "\n",
      "    total_time_no_set: ', 3.2755239009857178\n",
      "    total_time_set: ', 0.0011219978332519531\n",
      "    \n"
     ]
    }
   ],
   "source": [
    "print(\n",
    "    '''\n",
    "    total_time_no_set: ', {}\n",
    "    total_time_set: ', {}\n",
    "    '''.format(total_time_no_set, total_time_set)\n",
    ")"
   ]
  },
  {
   "cell_type": "code",
   "execution_count": 21,
   "metadata": {},
   "outputs": [
    {
     "data": {
      "text/plain": [
       "1500"
      ]
     },
     "execution_count": 21,
     "metadata": {},
     "output_type": "execute_result"
    }
   ],
   "source": [
    "1500"
   ]
  },
  {
   "cell_type": "markdown",
   "metadata": {},
   "source": [
    "The method with set is more than 1500 times faster the method without using set!"
   ]
  },
  {
   "cell_type": "markdown",
   "metadata": {},
   "source": [
    "## Find laptops within a budget\n",
    "\n",
    "We allow the user to input a budget and return the the first row from a sorted table whose price is larger than the budget."
   ]
  },
  {
   "cell_type": "code",
   "execution_count": 22,
   "metadata": {},
   "outputs": [],
   "source": [
    "class Inventory():\n",
    "    \n",
    "    def __init__(self, csv_filename):\n",
    "        \n",
    "        with open('laptops.csv', encoding = 'utf8') as file:            \n",
    "            reader = list(csv.reader(file))\n",
    "           \n",
    "        self.header = reader[0]\n",
    "        self.rows = reader[1:]\n",
    "        \n",
    "        # convert price into int\n",
    "        for row in self.rows:\n",
    "            row[-1] = int(row[-1])\n",
    "        \n",
    "        # dictionary with ID as the key\n",
    "        self.id_to_row = {}\n",
    "        for row in self.rows:\n",
    "            self.id_to_row[row[0]] = row\n",
    "        \n",
    "        # set of price\n",
    "        self.prices = set()\n",
    "        for row in self.rows:\n",
    "            self.prices.add(row[-1])\n",
    "        \n",
    "        # sorted data by price\n",
    "        self.rows_by_price = sorted(self.rows, \n",
    "                                   key = lambda row: row[-1])\n",
    "\n",
    "            \n",
    "    def get_laptop_from_id(self, laptop_id):\n",
    "        for row in self.rows:\n",
    "            # laptop_id is the first column\n",
    "            if row[0] == laptop_id:\n",
    "                return row \n",
    "        return 'None'           \n",
    "    \n",
    "    def get_laptop_from_id_fast(self, laptop_id):\n",
    "        if laptop_id in self.id_to_row:\n",
    "            return self.id_to_row[laptop_id]\n",
    "        return 'None'           \n",
    "    \n",
    "    def check_promotion_dollars(self, dollars):\n",
    "        # match with single item\n",
    "        for row in self.rows:\n",
    "            if dollars == row[-1]:\n",
    "                return True\n",
    "\n",
    "        # match with pairs\n",
    "        for row1 in self.rows:\n",
    "            for row2 in self.rows:\n",
    "                if dollars == row1[-1]+row2[-1]:\n",
    "                    return True\n",
    "\n",
    "        # no matches \n",
    "        return False\n",
    "    \n",
    "    def check_promotion_dollars_fast(self, dollars):\n",
    "        if dollars in self.prices:\n",
    "            return True\n",
    "        for price in self.prices:\n",
    "            if dollars - price in self.prices:\n",
    "                return True\n",
    "        return False\n",
    "    \n",
    "    def find_first_laptop_more_expensive(self, target_price):\n",
    "        range_start = 0                                   \n",
    "        range_end = len(self.rows_by_price) - 1    \n",
    "        if target_price > self.rows_by_price[-1][-1]:\n",
    "            return -1\n",
    "        while range_start < range_end:\n",
    "            range_middle = (range_end + range_start) // 2  \n",
    "            price = self.rows_by_price[range_middle][-1]\n",
    "            if price <= target_price:\n",
    "                range_start = range_middle + 1             \n",
    "            else:                                          \n",
    "                range_end = range_middle \n",
    "        price = self.rows_by_price[range_start][-1]                             \n",
    "        return range_end, self.rows_by_price[range_end]"
   ]
  },
  {
   "cell_type": "code",
   "execution_count": 23,
   "metadata": {},
   "outputs": [
    {
     "name": "stdout",
     "output_type": "stream",
     "text": [
      "(683, ['8747948', 'Lenovo', 'ThinkPad T460', 'Notebook', '14', '1366x768', 'Intel Core i5 6200U 2.3GHz', '4GB', '508GB Hybrid', 'Intel HD Graphics 520', 'Windows 7', '1.70kg', 1002])\n",
      "-1\n"
     ]
    }
   ],
   "source": [
    "inventory = Inventory('laptops.csv')\n",
    "print(inventory.find_first_laptop_more_expensive(1000))\n",
    "print(inventory.find_first_laptop_more_expensive(100000))"
   ]
  },
  {
   "cell_type": "markdown",
   "metadata": {},
   "source": [
    "## Find laptops within a budget in a range\n",
    "\n",
    "Now we extend our budget query to take as input a range of prices, min_price and max_price, rather than a single price."
   ]
  },
  {
   "cell_type": "code",
   "execution_count": 24,
   "metadata": {},
   "outputs": [],
   "source": [
    "class Inventory():\n",
    "    \n",
    "    def __init__(self, csv_filename):\n",
    "        \n",
    "        with open('laptops.csv', encoding = 'utf8') as file:            \n",
    "            reader = list(csv.reader(file))\n",
    "           \n",
    "        self.header = reader[0]\n",
    "        self.rows = reader[1:]\n",
    "        \n",
    "        # convert price into int\n",
    "        for row in self.rows:\n",
    "            row[-1] = int(row[-1])\n",
    "        \n",
    "        # dictionary with ID as the key\n",
    "        self.id_to_row = {}\n",
    "        for row in self.rows:\n",
    "            self.id_to_row[row[0]] = row\n",
    "        \n",
    "        # set of price\n",
    "        self.prices = set()\n",
    "        for row in self.rows:\n",
    "            self.prices.add(row[-1])\n",
    "        \n",
    "        # sorted data by price\n",
    "        self.rows_by_price = sorted(self.rows, \n",
    "                                   key = lambda row: row[-1])\n",
    "\n",
    "            \n",
    "    def get_laptop_from_id(self, laptop_id):\n",
    "        for row in self.rows:\n",
    "            # laptop_id is the first column\n",
    "            if row[0] == laptop_id:\n",
    "                return row \n",
    "        return 'None'           \n",
    "    \n",
    "    def get_laptop_from_id_fast(self, laptop_id):\n",
    "        if laptop_id in self.id_to_row:\n",
    "            return self.id_to_row[laptop_id]\n",
    "        return 'None'           \n",
    "    \n",
    "    def check_promotion_dollars(self, dollars):\n",
    "        # match with single item\n",
    "        for row in self.rows:\n",
    "            if dollars == row[-1]:\n",
    "                return True\n",
    "\n",
    "        # match with pairs\n",
    "        for row1 in self.rows:\n",
    "            for row2 in self.rows:\n",
    "                if dollars == row1[-1]+row2[-1]:\n",
    "                    return True\n",
    "\n",
    "        # no matches \n",
    "        return False\n",
    "    \n",
    "    def check_promotion_dollars_fast(self, dollars):\n",
    "        if dollars in self.prices:\n",
    "            return True\n",
    "        for price in self.prices:\n",
    "            if dollars - price in self.prices:\n",
    "                return True\n",
    "        return False\n",
    "    \n",
    "    def find_first_laptop_more_expensive(self, target_price):\n",
    "        range_start = 0                                   \n",
    "        range_end = len(self.rows_by_price) - 1    \n",
    "        if target_price > self.rows_by_price[-1][-1]:\n",
    "            return -1\n",
    "        while range_start < range_end:\n",
    "            range_middle = (range_end + range_start) // 2  \n",
    "            price = self.rows_by_price[range_middle][-1]\n",
    "            if price <= target_price:\n",
    "                range_start = range_middle + 1             \n",
    "            else:                                          \n",
    "                range_end = range_middle \n",
    "        price = self.rows_by_price[range_start][-1]                             \n",
    "        return self.rows_by_price[range_end]\n",
    "    \n",
    "    def find_laptop_in_range(self, min_price, max_price):\n",
    "        print('Model with price between {} and {}:\\n'.format(min_price, max_price))\n",
    "        if min_price > self.rows_by_price[-1][-1] or max_price < self.rows_by_price[0][-1] or max_price < min_price:\n",
    "            return -1\n",
    "        for row in self.rows_by_price:\n",
    "            if row[-1] > max_price:\n",
    "                return '-End of serach-'\n",
    "            if row[-1] > min_price:\n",
    "                print(row, '\\n')"
   ]
  },
  {
   "cell_type": "code",
   "execution_count": 25,
   "metadata": {},
   "outputs": [
    {
     "name": "stdout",
     "output_type": "stream",
     "text": [
      "Model with price between 1000 and 1010:\n",
      "\n",
      "['8747948', 'Lenovo', 'ThinkPad T460', 'Notebook', '14', '1366x768', 'Intel Core i5 6200U 2.3GHz', '4GB', '508GB Hybrid', 'Intel HD Graphics 520', 'Windows 7', '1.70kg', 1002] \n",
      "\n",
      "['5550925', 'Dell', 'Latitude 5580', 'Notebook', '15.6', '1366x768', 'Intel Core i5 7300U 2.6GHz', '8GB', '500GB HDD', 'Intel HD Graphics 620', 'Windows 10', '1.9kg', 1008] \n",
      "\n",
      "['3667708', 'Acer', 'Aspire F5-573G-510L', 'Notebook', '15.6', 'Full HD 1920x1080', 'Intel Core i5 7200U 2.5GHz', '12GB', '128GB SSD +  1TB HDD', 'Nvidia GeForce GTX 950M', 'Windows 10', '2.4kg', 1009] \n",
      "\n",
      "['8017281', 'Dell', 'Vostro 5568', 'Notebook', '15.6', 'Full HD 1920x1080', 'Intel Core i7 7500U 2.7GHz', '8GB', '256GB SSD', 'Nvidia GeForce 940MX', 'Windows 10', '2.18kg', 1009] \n",
      "\n",
      "['6766298', 'Lenovo', 'Thinkpad 13', 'Notebook', '13.3', 'IPS Panel Full HD 1920x1080', 'Intel Core i7 7500U 2.7GHz', '8GB', '256GB SSD', 'Intel HD Graphics 620', 'Windows 10', '1.4kg', 1010] \n",
      "\n",
      "['9303831', 'HP', 'ProBook 440', 'Notebook', '14', 'Full HD 1920x1080', 'Intel Core i5 7200U 2.5GHz', '8GB', '256GB SSD', 'Intel HD Graphics 620', 'Windows 10', '1.64kg', 1010] \n",
      "\n",
      "-End of serach-\n"
     ]
    }
   ],
   "source": [
    "inventory = Inventory('laptops.csv')\n",
    "print(inventory.find_laptop_in_range(1000,1010))"
   ]
  },
  {
   "cell_type": "markdown",
   "metadata": {},
   "source": [
    "## Find the cheapest laptop with specific RAM and capacity\n",
    "\n",
    "Sometimes, a customer wants a laptop with some characteristics such as, for instance, 8GB or RAM and a 256GB hard drive. It would be interesting for those customers to provide a way to find the cheapest laptop that matches the desired characteristics. Un this case, we will focus only on the amount of RAM and hard drive capacity. "
   ]
  },
  {
   "cell_type": "code",
   "execution_count": 73,
   "metadata": {},
   "outputs": [],
   "source": [
    "class Inventory():\n",
    "    \n",
    "    def __init__(self, csv_filename):\n",
    "        \n",
    "        with open('laptops.csv', encoding = 'utf8') as file:            \n",
    "            reader = list(csv.reader(file))\n",
    "           \n",
    "        self.header = reader[0]\n",
    "        self.rows = reader[1:]\n",
    "        \n",
    "        # convert price into int\n",
    "        for row in self.rows:\n",
    "            row[-1] = int(row[-1])\n",
    "        \n",
    "        # dictionary with ID as the key\n",
    "        self.id_to_row = {}\n",
    "        for row in self.rows:\n",
    "            self.id_to_row[row[0]] = row\n",
    "        \n",
    "        # set of price\n",
    "        self.prices = set()\n",
    "        for row in self.rows:\n",
    "            self.prices.add(row[-1])\n",
    "        \n",
    "        # sorted data by price\n",
    "        self.rows_by_price = sorted(self.rows, key = lambda row: row[-1])\n",
    "        \n",
    "        # convert RAM into int\n",
    "        self.rows_by_price_int_spec = self.rows_by_price\n",
    "        for row in self.rows_by_price_int_spec:\n",
    "            ram_total = 0\n",
    "            GB = re.findall(r'\\d+(?=GB)', str(row[7]))\n",
    "            TB = re.findall(r'\\d+(?=TB)', str(row[7]))\n",
    "            for ele in GB:\n",
    "                ram_total += int(ele)\n",
    "            for ele in TB:\n",
    "                ram_total += int(ele)*1000\n",
    "            row.append(ram_total)\n",
    "        \n",
    "        # convert Memory into int\n",
    "        for row in self.rows_by_price_int_spec:\n",
    "            memory_total = 0\n",
    "            GB = re.findall(r'\\d+(?=GB)', str(row[8]))\n",
    "            TB = re.findall(r'\\d+(?=TB)', str(row[8]))\n",
    "            for ele in GB:\n",
    "                memory_total += int(ele)\n",
    "            for ele in TB:\n",
    "                memory_total += int(ele)*1000\n",
    "            row.append(memory_total)\n",
    "            \n",
    "        # set of ram\n",
    "        self.ram = set()\n",
    "        for row in self.rows_by_price_int_spec:\n",
    "            self.ram.add(row[-2])\n",
    "            \n",
    "        # set of memory\n",
    "        self.memory = set()\n",
    "        for row in self.rows_by_price_int_spec:\n",
    "            self.memory.add(row[-1])\n",
    "\n",
    "\n",
    "            \n",
    "    def get_laptop_from_id(self, laptop_id):\n",
    "        for row in self.rows:\n",
    "            # laptop_id is the first column\n",
    "            if row[0] == laptop_id:\n",
    "                return row \n",
    "        return 'None'           \n",
    "    \n",
    "    def get_laptop_from_id_fast(self, laptop_id):\n",
    "        if laptop_id in self.id_to_row:\n",
    "            return self.id_to_row[laptop_id]\n",
    "        return 'None'           \n",
    "    \n",
    "    def check_promotion_dollars(self, dollars):\n",
    "        # match with single item\n",
    "        for row in self.rows:\n",
    "            if dollars == row[-1]:\n",
    "                return True\n",
    "\n",
    "        # match with pairs\n",
    "        for row1 in self.rows:\n",
    "            for row2 in self.rows:\n",
    "                if dollars == row1[-1]+row2[-1]:\n",
    "                    return True\n",
    "\n",
    "        # no matches \n",
    "        return False\n",
    "    \n",
    "    def check_promotion_dollars_fast(self, dollars):\n",
    "        if dollars in self.prices:\n",
    "            return True\n",
    "        for price in self.prices:\n",
    "            if dollars - price in self.prices:\n",
    "                return True\n",
    "        return False\n",
    "    \n",
    "    def find_first_laptop_more_expensive(self, target_price):\n",
    "        range_start = 0                                   \n",
    "        range_end = len(self.rows_by_price) - 1    \n",
    "        if target_price > self.rows_by_price[-1][-1]:\n",
    "            return -1\n",
    "        while range_start < range_end:\n",
    "            range_middle = (range_end + range_start) // 2  \n",
    "            price = self.rows_by_price[range_middle][-1]\n",
    "            if price <= target_price:\n",
    "                range_start = range_middle + 1             \n",
    "            else:                                          \n",
    "                range_end = range_middle \n",
    "        price = self.rows_by_price[range_start][-1]                             \n",
    "        return self.rows_by_price[range_end]\n",
    "    \n",
    "    def find_laptop_in_range(self, min_price, max_price):\n",
    "        print('Model with price between {} and {}:\\n'.format(min_price, max_price))\n",
    "        if min_price > self.rows_by_price[-1][-1] or max_price < self.rows_by_price[0][-1] or max_price < min_price:\n",
    "            return -1\n",
    "        for row in self.rows_by_price:\n",
    "            if row[-1] > max_price:\n",
    "                return '-End of serach-'\n",
    "            if row[-1] > min_price:\n",
    "                print(row, '\\n')\n",
    "\n",
    "    # ram & momery are in GB\n",
    "    def find_cheapest_laptop_with_spec(self, ram, memory):\n",
    "        \n",
    "        # serach for the closest value \n",
    "        if ram in self.ram:\n",
    "            target_ram = int(ram)\n",
    "        else:\n",
    "            for match_ram in sorted(list(self.ram)):\n",
    "                if int(match_ram) < int(ram):\n",
    "                    target_ram = int(match_ram)\n",
    "            print('{}GB is not avaliable. The best option will be {}GB.\\n'.format(ram, target_ram))\n",
    "                    \n",
    "        if memory in self.memory:\n",
    "            target_memory = memory\n",
    "        else:\n",
    "            for match_memory in sorted(list(self.memory)):\n",
    "                if int(match_memory) < int(memory):\n",
    "                    target_memory = int(match_memory)\n",
    "            print('{}GB is not avaliable. The best option will be {}GB.\\n'.format(memory, target_memory))\n",
    "            \n",
    "        for row in self.rows_by_price_int_spec:\n",
    "            if (row[-2] == target_ram) & (row[-1] == target_memory):\n",
    "                return row\n",
    "        return -1"
   ]
  },
  {
   "cell_type": "code",
   "execution_count": 74,
   "metadata": {},
   "outputs": [
    {
     "name": "stdout",
     "output_type": "stream",
     "text": [
      "128GB is not avaliable. The best option will be 64GB.\n",
      "\n",
      "['3335869', 'Asus', 'ROG G701VO', 'Gaming', '17.3', 'IPS Panel Full HD 1920x1080', 'Intel Core i7 6820HK 2.7GHz', '64GB', '1TB SSD', 'Nvidia GeForce GTX 980 ', 'Windows 10', '3.58kg', 3975, 64, 1000]\n"
     ]
    }
   ],
   "source": [
    "inventory = Inventory('laptops.csv')\n",
    "print(inventory.find_cheapest_laptop_with_spec(128,1000))\n",
    "# print(inventory.ram)"
   ]
  }
 ],
 "metadata": {
  "kernelspec": {
   "display_name": "Python 3",
   "language": "python",
   "name": "python3"
  },
  "language_info": {
   "codemirror_mode": {
    "name": "ipython",
    "version": 3
   },
   "file_extension": ".py",
   "mimetype": "text/x-python",
   "name": "python",
   "nbconvert_exporter": "python",
   "pygments_lexer": "ipython3",
   "version": "3.8.2"
  }
 },
 "nbformat": 4,
 "nbformat_minor": 2
}
