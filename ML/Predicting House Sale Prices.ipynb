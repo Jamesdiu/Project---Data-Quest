{
 "cells": [
  {
   "cell_type": "markdown",
   "metadata": {},
   "source": [
    "# Predicting House Sale Prices in Ames\n",
    "\n",
    "In this project, we will use the [housing data](https://www.tandfonline.com/doi/abs/10.1080/10691898.2011.11889627) for the city of Ames, Iowa, United States from 2006 to 2010 to predict the housing prices. More information about the data can be found [here](https://s3.amazonaws.com/dq-content/307/data_description.txt). In addition, we will set up a pipeline of functions to iterate on different models, which contains the below 3 parts:\n",
    "\n",
    "- transform_features\n",
    "- select_features\n",
    "- train_and_test"
   ]
  },
  {
   "cell_type": "code",
   "execution_count": 1,
   "metadata": {
    "collapsed": true
   },
   "outputs": [],
   "source": [
    "import pandas as pd\n",
    "from scipy.stats import chi2_contingency\n",
    "import matplotlib.pyplot as plt\n",
    "import numpy as np\n",
    "import seaborn as sns\n",
    "from pandas.api.types import CategoricalDtype\n",
    "from sklearn.ensemble import ExtraTreesClassifier\n",
    "from sklearn.metrics import mean_squared_error\n",
    "from sklearn.linear_model import LinearRegression\n",
    "from sklearn.model_selection import cross_val_score, KFold\n",
    "\n",
    "%matplotlib inline"
   ]
  },
  {
   "cell_type": "code",
   "execution_count": 2,
   "metadata": {
    "collapsed": false
   },
   "outputs": [
    {
     "name": "stdout",
     "output_type": "stream",
     "text": [
      "(2930, 82)\n"
     ]
    },
    {
     "data": {
      "text/html": [
       "<div>\n",
       "<style scoped>\n",
       "    .dataframe tbody tr th:only-of-type {\n",
       "        vertical-align: middle;\n",
       "    }\n",
       "\n",
       "    .dataframe tbody tr th {\n",
       "        vertical-align: top;\n",
       "    }\n",
       "\n",
       "    .dataframe thead th {\n",
       "        text-align: right;\n",
       "    }\n",
       "</style>\n",
       "<table border=\"1\" class=\"dataframe\">\n",
       "  <thead>\n",
       "    <tr style=\"text-align: right;\">\n",
       "      <th></th>\n",
       "      <th>Order</th>\n",
       "      <th>PID</th>\n",
       "      <th>MS SubClass</th>\n",
       "      <th>MS Zoning</th>\n",
       "      <th>Lot Frontage</th>\n",
       "      <th>Lot Area</th>\n",
       "      <th>Street</th>\n",
       "      <th>Alley</th>\n",
       "      <th>Lot Shape</th>\n",
       "      <th>Land Contour</th>\n",
       "      <th>...</th>\n",
       "      <th>Pool Area</th>\n",
       "      <th>Pool QC</th>\n",
       "      <th>Fence</th>\n",
       "      <th>Misc Feature</th>\n",
       "      <th>Misc Val</th>\n",
       "      <th>Mo Sold</th>\n",
       "      <th>Yr Sold</th>\n",
       "      <th>Sale Type</th>\n",
       "      <th>Sale Condition</th>\n",
       "      <th>SalePrice</th>\n",
       "    </tr>\n",
       "  </thead>\n",
       "  <tbody>\n",
       "    <tr>\n",
       "      <th>0</th>\n",
       "      <td>1</td>\n",
       "      <td>526301100</td>\n",
       "      <td>20</td>\n",
       "      <td>RL</td>\n",
       "      <td>141.0</td>\n",
       "      <td>31770</td>\n",
       "      <td>Pave</td>\n",
       "      <td>NaN</td>\n",
       "      <td>IR1</td>\n",
       "      <td>Lvl</td>\n",
       "      <td>...</td>\n",
       "      <td>0</td>\n",
       "      <td>NaN</td>\n",
       "      <td>NaN</td>\n",
       "      <td>NaN</td>\n",
       "      <td>0</td>\n",
       "      <td>5</td>\n",
       "      <td>2010</td>\n",
       "      <td>WD</td>\n",
       "      <td>Normal</td>\n",
       "      <td>215000</td>\n",
       "    </tr>\n",
       "    <tr>\n",
       "      <th>1</th>\n",
       "      <td>2</td>\n",
       "      <td>526350040</td>\n",
       "      <td>20</td>\n",
       "      <td>RH</td>\n",
       "      <td>80.0</td>\n",
       "      <td>11622</td>\n",
       "      <td>Pave</td>\n",
       "      <td>NaN</td>\n",
       "      <td>Reg</td>\n",
       "      <td>Lvl</td>\n",
       "      <td>...</td>\n",
       "      <td>0</td>\n",
       "      <td>NaN</td>\n",
       "      <td>MnPrv</td>\n",
       "      <td>NaN</td>\n",
       "      <td>0</td>\n",
       "      <td>6</td>\n",
       "      <td>2010</td>\n",
       "      <td>WD</td>\n",
       "      <td>Normal</td>\n",
       "      <td>105000</td>\n",
       "    </tr>\n",
       "    <tr>\n",
       "      <th>2</th>\n",
       "      <td>3</td>\n",
       "      <td>526351010</td>\n",
       "      <td>20</td>\n",
       "      <td>RL</td>\n",
       "      <td>81.0</td>\n",
       "      <td>14267</td>\n",
       "      <td>Pave</td>\n",
       "      <td>NaN</td>\n",
       "      <td>IR1</td>\n",
       "      <td>Lvl</td>\n",
       "      <td>...</td>\n",
       "      <td>0</td>\n",
       "      <td>NaN</td>\n",
       "      <td>NaN</td>\n",
       "      <td>Gar2</td>\n",
       "      <td>12500</td>\n",
       "      <td>6</td>\n",
       "      <td>2010</td>\n",
       "      <td>WD</td>\n",
       "      <td>Normal</td>\n",
       "      <td>172000</td>\n",
       "    </tr>\n",
       "  </tbody>\n",
       "</table>\n",
       "<p>3 rows × 82 columns</p>\n",
       "</div>"
      ],
      "text/plain": [
       "   Order        PID  MS SubClass MS Zoning  Lot Frontage  Lot Area Street  \\\n",
       "0      1  526301100           20        RL         141.0     31770   Pave   \n",
       "1      2  526350040           20        RH          80.0     11622   Pave   \n",
       "2      3  526351010           20        RL          81.0     14267   Pave   \n",
       "\n",
       "  Alley Lot Shape Land Contour    ...     Pool Area Pool QC  Fence  \\\n",
       "0   NaN       IR1          Lvl    ...             0     NaN    NaN   \n",
       "1   NaN       Reg          Lvl    ...             0     NaN  MnPrv   \n",
       "2   NaN       IR1          Lvl    ...             0     NaN    NaN   \n",
       "\n",
       "  Misc Feature Misc Val Mo Sold Yr Sold Sale Type  Sale Condition  SalePrice  \n",
       "0          NaN        0       5    2010       WD           Normal     215000  \n",
       "1          NaN        0       6    2010       WD           Normal     105000  \n",
       "2         Gar2    12500       6    2010       WD           Normal     172000  \n",
       "\n",
       "[3 rows x 82 columns]"
      ]
     },
     "execution_count": 2,
     "metadata": {},
     "output_type": "execute_result"
    }
   ],
   "source": [
    "housing = pd.read_csv('AmesHousing.tsv', '\\t')\n",
    "print(housing.shape)\n",
    "housing.head(3)"
   ]
  },
  {
   "cell_type": "code",
   "execution_count": 3,
   "metadata": {
    "collapsed": true
   },
   "outputs": [],
   "source": [
    "train = housing.copy()"
   ]
  },
  {
   "cell_type": "markdown",
   "metadata": {},
   "source": [
    "## 1.Transform features\n",
    "\n",
    "First of all, we will remove features with many missing values, diving deeper into potential categorical features, and transforming text and numerical columns.\n",
    "\n",
    "### 1.1 Missing Value\n",
    "\n",
    "The below columns have a number of missing values. Considering that our data set has 2930 rows, columns like `Alley` and `Pool QC` have more than half of the data are missing. We will drop the columns if the percentage of missing value is higher than a certain level. The default level is set to be 5%."
   ]
  },
  {
   "cell_type": "code",
   "execution_count": 4,
   "metadata": {
    "collapsed": false
   },
   "outputs": [
    {
     "data": {
      "text/plain": [
       "Lot Frontage       490\n",
       "Alley             2732\n",
       "Mas Vnr Type        23\n",
       "Mas Vnr Area        23\n",
       "Bsmt Qual           80\n",
       "Bsmt Cond           80\n",
       "Bsmt Exposure       83\n",
       "BsmtFin Type 1      80\n",
       "BsmtFin SF 1         1\n",
       "BsmtFin Type 2      81\n",
       "BsmtFin SF 2         1\n",
       "Bsmt Unf SF          1\n",
       "Total Bsmt SF        1\n",
       "Electrical           1\n",
       "Bsmt Full Bath       2\n",
       "Bsmt Half Bath       2\n",
       "Fireplace Qu      1422\n",
       "Garage Type        157\n",
       "Garage Yr Blt      159\n",
       "Garage Finish      159\n",
       "Garage Cars          1\n",
       "Garage Area          1\n",
       "Garage Qual        159\n",
       "Garage Cond        159\n",
       "Pool QC           2917\n",
       "Fence             2358\n",
       "Misc Feature      2824\n",
       "dtype: int64"
      ]
     },
     "execution_count": 4,
     "metadata": {},
     "output_type": "execute_result"
    }
   ],
   "source": [
    "# count missing value for each column\n",
    "missing_value = train.isnull().sum()\n",
    "missing_value[missing_value>0]"
   ]
  },
  {
   "cell_type": "code",
   "execution_count": 54,
   "metadata": {
    "collapsed": false
   },
   "outputs": [
    {
     "name": "stdout",
     "output_type": "stream",
     "text": [
      "Dropped columns:\n",
      " Index(['Lot Frontage', 'Alley', 'Fireplace Qu', 'Garage Type', 'Garage Yr Blt',\n",
      "       'Garage Finish', 'Garage Qual', 'Garage Cond', 'Pool QC', 'Fence',\n",
      "       'Misc Feature'],\n",
      "      dtype='object')\n"
     ]
    }
   ],
   "source": [
    "# columns with less than 5% missing values\n",
    "missing = 0.05*len(train)\n",
    "\n",
    "no_missing_col = missing_value[missing_value==0]\n",
    "no_missing_train = train[no_missing_col.index]\n",
    "\n",
    "low_missing_col = missing_value[(missing_value<missing)&(missing_value>0)]\n",
    "low_missing_train = train[low_missing_col.index]\n",
    "\n",
    "print('Dropped columns:\\n', missing_value[missing_value>=missing].index)"
   ]
  },
  {
   "cell_type": "markdown",
   "metadata": {},
   "source": [
    "We will fill those numerical columns with few missing values (<5%) with the most popular value. For those categorical columns, we will fill *None*."
   ]
  },
  {
   "cell_type": "code",
   "execution_count": 55,
   "metadata": {
    "collapsed": false
   },
   "outputs": [
    {
     "name": "stdout",
     "output_type": "stream",
     "text": [
      "Mas Vnr Type\n",
      "None       1752\n",
      "BrkFace     880\n",
      "Stone       249\n",
      "BrkCmn       25\n",
      "NaN          23\n",
      "Name: Mas Vnr Type, dtype: int64\n",
      "----------\n",
      "Mas Vnr Area\n",
      " 0.0      1748\n",
      "NaN         23\n",
      " 120.0      15\n",
      " 200.0      13\n",
      " 176.0      13\n",
      "Name: Mas Vnr Area, dtype: int64\n",
      "----------\n",
      "Bsmt Qual\n",
      "TA     1283\n",
      "Gd     1219\n",
      "Ex      258\n",
      "Fa       88\n",
      "NaN      80\n",
      "Name: Bsmt Qual, dtype: int64\n",
      "----------\n",
      "Bsmt Cond\n",
      "TA     2616\n",
      "Gd      122\n",
      "Fa      104\n",
      "NaN      80\n",
      "Po        5\n",
      "Name: Bsmt Cond, dtype: int64\n",
      "----------\n",
      "Bsmt Exposure\n",
      "No     1906\n",
      "Av      418\n",
      "Gd      284\n",
      "Mn      239\n",
      "NaN      83\n",
      "Name: Bsmt Exposure, dtype: int64\n",
      "----------\n",
      "BsmtFin Type 1\n",
      "GLQ    859\n",
      "Unf    851\n",
      "ALQ    429\n",
      "Rec    288\n",
      "BLQ    269\n",
      "Name: BsmtFin Type 1, dtype: int64\n",
      "----------\n",
      "BsmtFin SF 1\n",
      "0.0      930\n",
      "24.0      27\n",
      "16.0      14\n",
      "300.0      9\n",
      "288.0      8\n",
      "Name: BsmtFin SF 1, dtype: int64\n",
      "----------\n",
      "BsmtFin Type 2\n",
      "Unf    2499\n",
      "Rec     106\n",
      "LwQ      89\n",
      "NaN      81\n",
      "BLQ      68\n",
      "Name: BsmtFin Type 2, dtype: int64\n",
      "----------\n",
      "BsmtFin SF 2\n",
      "0.0      2578\n",
      "294.0       5\n",
      "180.0       5\n",
      "147.0       3\n",
      "144.0       3\n",
      "Name: BsmtFin SF 2, dtype: int64\n",
      "----------\n",
      "Bsmt Unf SF\n",
      "0.0      244\n",
      "384.0     19\n",
      "728.0     14\n",
      "672.0     13\n",
      "600.0     12\n",
      "Name: Bsmt Unf SF, dtype: int64\n",
      "----------\n",
      "Total Bsmt SF\n",
      "0.0       79\n",
      "864.0     74\n",
      "672.0     29\n",
      "912.0     26\n",
      "1040.0    25\n",
      "Name: Total Bsmt SF, dtype: int64\n",
      "----------\n",
      "Electrical\n",
      "SBrkr    2682\n",
      "FuseA     188\n",
      "FuseF      50\n",
      "FuseP       8\n",
      "Mix         1\n",
      "Name: Electrical, dtype: int64\n",
      "----------\n",
      "Bsmt Full Bath\n",
      " 0.0    1707\n",
      " 1.0    1181\n",
      " 2.0      38\n",
      "NaN        2\n",
      " 3.0       2\n",
      "Name: Bsmt Full Bath, dtype: int64\n",
      "----------\n",
      "Bsmt Half Bath\n",
      " 0.0    2753\n",
      " 1.0     171\n",
      " 2.0       4\n",
      "NaN        2\n",
      "Name: Bsmt Half Bath, dtype: int64\n",
      "----------\n",
      "Garage Cars\n",
      "2.0    1603\n",
      "1.0     778\n",
      "3.0     374\n",
      "0.0     157\n",
      "4.0      16\n",
      "Name: Garage Cars, dtype: int64\n",
      "----------\n",
      "Garage Area\n",
      "0.0      157\n",
      "576.0     97\n",
      "440.0     96\n",
      "484.0     76\n",
      "240.0     69\n",
      "Name: Garage Area, dtype: int64\n",
      "----------\n"
     ]
    }
   ],
   "source": [
    "for col in low_missing_col.index:\n",
    "    print(col)\n",
    "    print(low_missing_train[col].value_counts(dropna=False).head())\n",
    "    print('----------')"
   ]
  },
  {
   "cell_type": "code",
   "execution_count": 56,
   "metadata": {
    "collapsed": false
   },
   "outputs": [],
   "source": [
    "low_missing_train_num = low_missing_train.select_dtypes(exclude=['object']).copy()\n",
    "low_missing_train_obj = low_missing_train.select_dtypes('object').copy()\n",
    "\n",
    "low_missing_train_num.fillna(low_missing_train_num.mode().iloc[0], inplace=True)\n",
    "low_missing_train_obj.fillna('None', inplace=True)\n",
    "\n",
    "# combine columns\n",
    "clean_missing_train = pd.concat([no_missing_train,\n",
    "                                 low_missing_train_num,\n",
    "                                 low_missing_train_obj],\n",
    "                                axis = 1)"
   ]
  },
  {
   "cell_type": "markdown",
   "metadata": {},
   "source": [
    "### 1.2 Feature transformation\n",
    "\n",
    "We will use some new features to provide more informative details.\n",
    "\n",
    "- `remod_age_at_sold`: `Yr Sold` - `Year Remod/Add`, To estimate the price if we sell the apartment after the years of remodification.\n",
    "- `apartment_age_at_sold`: `Yr Sold` - `Year Built`. To estimate the price if we sell the apartment at the current age."
   ]
  },
  {
   "cell_type": "code",
   "execution_count": 8,
   "metadata": {
    "collapsed": false
   },
   "outputs": [],
   "source": [
    "clean_missing_train['remod_age_at_sold'] = clean_missing_train['Yr Sold']-clean_missing_train['Year Remod/Add']\n",
    "clean_missing_train['apartment_age_at_sold'] = clean_missing_train['Yr Sold']-clean_missing_train['Year Built']"
   ]
  },
  {
   "cell_type": "markdown",
   "metadata": {},
   "source": [
    "There are some negative numbers in the newly created columns. We can assume that they are sold before the construction finished. We better drop these rows."
   ]
  },
  {
   "cell_type": "code",
   "execution_count": 57,
   "metadata": {
    "collapsed": false
   },
   "outputs": [
    {
     "ename": "KeyError",
     "evalue": "'remod_age_at_sold'",
     "output_type": "error",
     "traceback": [
      "\u001b[1;31m\u001b[0m",
      "\u001b[1;31mKeyError\u001b[0mTraceback (most recent call last)",
      "\u001b[1;32m/dataquest/system/env/python3/lib/python3.4/site-packages/pandas/core/indexes/base.py\u001b[0m in \u001b[0;36mget_loc\u001b[1;34m(self, key, method, tolerance)\u001b[0m\n\u001b[0;32m   2524\u001b[0m             \u001b[1;32mtry\u001b[0m\u001b[1;33m:\u001b[0m\u001b[1;33m\u001b[0m\u001b[0m\n\u001b[1;32m-> 2525\u001b[1;33m                 \u001b[1;32mreturn\u001b[0m \u001b[0mself\u001b[0m\u001b[1;33m.\u001b[0m\u001b[0m_engine\u001b[0m\u001b[1;33m.\u001b[0m\u001b[0mget_loc\u001b[0m\u001b[1;33m(\u001b[0m\u001b[0mkey\u001b[0m\u001b[1;33m)\u001b[0m\u001b[1;33m\u001b[0m\u001b[0m\n\u001b[0m\u001b[0;32m   2526\u001b[0m             \u001b[1;32mexcept\u001b[0m \u001b[0mKeyError\u001b[0m\u001b[1;33m:\u001b[0m\u001b[1;33m\u001b[0m\u001b[0m\n",
      "\u001b[1;32mpandas/_libs/index.pyx\u001b[0m in \u001b[0;36mpandas._libs.index.IndexEngine.get_loc\u001b[1;34m()\u001b[0m\n",
      "\u001b[1;32mpandas/_libs/index.pyx\u001b[0m in \u001b[0;36mpandas._libs.index.IndexEngine.get_loc\u001b[1;34m()\u001b[0m\n",
      "\u001b[1;32mpandas/_libs/hashtable_class_helper.pxi\u001b[0m in \u001b[0;36mpandas._libs.hashtable.PyObjectHashTable.get_item\u001b[1;34m()\u001b[0m\n",
      "\u001b[1;32mpandas/_libs/hashtable_class_helper.pxi\u001b[0m in \u001b[0;36mpandas._libs.hashtable.PyObjectHashTable.get_item\u001b[1;34m()\u001b[0m\n",
      "\u001b[1;31mKeyError\u001b[0m: 'remod_age_at_sold'",
      "\nDuring handling of the above exception, another exception occurred:\n",
      "\u001b[1;31mKeyError\u001b[0mTraceback (most recent call last)",
      "\u001b[1;32m<ipython-input-57-66e98bc7584a>\u001b[0m in \u001b[0;36m<module>\u001b[1;34m()\u001b[0m\n\u001b[1;32m----> 1\u001b[1;33m \u001b[0mprint\u001b[0m\u001b[1;33m(\u001b[0m\u001b[0mclean_missing_train\u001b[0m\u001b[1;33m[\u001b[0m\u001b[1;34m'remod_age_at_sold'\u001b[0m\u001b[1;33m]\u001b[0m\u001b[1;33m[\u001b[0m\u001b[0mclean_missing_train\u001b[0m\u001b[1;33m[\u001b[0m\u001b[1;34m'remod_age_at_sold'\u001b[0m\u001b[1;33m]\u001b[0m\u001b[1;33m<\u001b[0m\u001b[1;36m0\u001b[0m\u001b[1;33m]\u001b[0m\u001b[1;33m)\u001b[0m\u001b[1;33m\u001b[0m\u001b[0m\n\u001b[0m\u001b[0;32m      2\u001b[0m \u001b[0mprint\u001b[0m\u001b[1;33m(\u001b[0m\u001b[0mclean_missing_train\u001b[0m\u001b[1;33m[\u001b[0m\u001b[1;34m'apartment_age_at_sold'\u001b[0m\u001b[1;33m]\u001b[0m\u001b[1;33m[\u001b[0m\u001b[0mclean_missing_train\u001b[0m\u001b[1;33m[\u001b[0m\u001b[1;34m'apartment_age_at_sold'\u001b[0m\u001b[1;33m]\u001b[0m\u001b[1;33m<\u001b[0m\u001b[1;36m0\u001b[0m\u001b[1;33m]\u001b[0m\u001b[1;33m)\u001b[0m\u001b[1;33m\u001b[0m\u001b[0m\n",
      "\u001b[1;32m/dataquest/system/env/python3/lib/python3.4/site-packages/pandas/core/frame.py\u001b[0m in \u001b[0;36m__getitem__\u001b[1;34m(self, key)\u001b[0m\n\u001b[0;32m   2137\u001b[0m             \u001b[1;32mreturn\u001b[0m \u001b[0mself\u001b[0m\u001b[1;33m.\u001b[0m\u001b[0m_getitem_multilevel\u001b[0m\u001b[1;33m(\u001b[0m\u001b[0mkey\u001b[0m\u001b[1;33m)\u001b[0m\u001b[1;33m\u001b[0m\u001b[0m\n\u001b[0;32m   2138\u001b[0m         \u001b[1;32melse\u001b[0m\u001b[1;33m:\u001b[0m\u001b[1;33m\u001b[0m\u001b[0m\n\u001b[1;32m-> 2139\u001b[1;33m             \u001b[1;32mreturn\u001b[0m \u001b[0mself\u001b[0m\u001b[1;33m.\u001b[0m\u001b[0m_getitem_column\u001b[0m\u001b[1;33m(\u001b[0m\u001b[0mkey\u001b[0m\u001b[1;33m)\u001b[0m\u001b[1;33m\u001b[0m\u001b[0m\n\u001b[0m\u001b[0;32m   2140\u001b[0m \u001b[1;33m\u001b[0m\u001b[0m\n\u001b[0;32m   2141\u001b[0m     \u001b[1;32mdef\u001b[0m \u001b[0m_getitem_column\u001b[0m\u001b[1;33m(\u001b[0m\u001b[0mself\u001b[0m\u001b[1;33m,\u001b[0m \u001b[0mkey\u001b[0m\u001b[1;33m)\u001b[0m\u001b[1;33m:\u001b[0m\u001b[1;33m\u001b[0m\u001b[0m\n",
      "\u001b[1;32m/dataquest/system/env/python3/lib/python3.4/site-packages/pandas/core/frame.py\u001b[0m in \u001b[0;36m_getitem_column\u001b[1;34m(self, key)\u001b[0m\n\u001b[0;32m   2144\u001b[0m         \u001b[1;31m# get column\u001b[0m\u001b[1;33m\u001b[0m\u001b[1;33m\u001b[0m\u001b[0m\n\u001b[0;32m   2145\u001b[0m         \u001b[1;32mif\u001b[0m \u001b[0mself\u001b[0m\u001b[1;33m.\u001b[0m\u001b[0mcolumns\u001b[0m\u001b[1;33m.\u001b[0m\u001b[0mis_unique\u001b[0m\u001b[1;33m:\u001b[0m\u001b[1;33m\u001b[0m\u001b[0m\n\u001b[1;32m-> 2146\u001b[1;33m             \u001b[1;32mreturn\u001b[0m \u001b[0mself\u001b[0m\u001b[1;33m.\u001b[0m\u001b[0m_get_item_cache\u001b[0m\u001b[1;33m(\u001b[0m\u001b[0mkey\u001b[0m\u001b[1;33m)\u001b[0m\u001b[1;33m\u001b[0m\u001b[0m\n\u001b[0m\u001b[0;32m   2147\u001b[0m \u001b[1;33m\u001b[0m\u001b[0m\n\u001b[0;32m   2148\u001b[0m         \u001b[1;31m# duplicate columns & possible reduce dimensionality\u001b[0m\u001b[1;33m\u001b[0m\u001b[1;33m\u001b[0m\u001b[0m\n",
      "\u001b[1;32m/dataquest/system/env/python3/lib/python3.4/site-packages/pandas/core/generic.py\u001b[0m in \u001b[0;36m_get_item_cache\u001b[1;34m(self, item)\u001b[0m\n\u001b[0;32m   1840\u001b[0m         \u001b[0mres\u001b[0m \u001b[1;33m=\u001b[0m \u001b[0mcache\u001b[0m\u001b[1;33m.\u001b[0m\u001b[0mget\u001b[0m\u001b[1;33m(\u001b[0m\u001b[0mitem\u001b[0m\u001b[1;33m)\u001b[0m\u001b[1;33m\u001b[0m\u001b[0m\n\u001b[0;32m   1841\u001b[0m         \u001b[1;32mif\u001b[0m \u001b[0mres\u001b[0m \u001b[1;32mis\u001b[0m \u001b[1;32mNone\u001b[0m\u001b[1;33m:\u001b[0m\u001b[1;33m\u001b[0m\u001b[0m\n\u001b[1;32m-> 1842\u001b[1;33m             \u001b[0mvalues\u001b[0m \u001b[1;33m=\u001b[0m \u001b[0mself\u001b[0m\u001b[1;33m.\u001b[0m\u001b[0m_data\u001b[0m\u001b[1;33m.\u001b[0m\u001b[0mget\u001b[0m\u001b[1;33m(\u001b[0m\u001b[0mitem\u001b[0m\u001b[1;33m)\u001b[0m\u001b[1;33m\u001b[0m\u001b[0m\n\u001b[0m\u001b[0;32m   1843\u001b[0m             \u001b[0mres\u001b[0m \u001b[1;33m=\u001b[0m \u001b[0mself\u001b[0m\u001b[1;33m.\u001b[0m\u001b[0m_box_item_values\u001b[0m\u001b[1;33m(\u001b[0m\u001b[0mitem\u001b[0m\u001b[1;33m,\u001b[0m \u001b[0mvalues\u001b[0m\u001b[1;33m)\u001b[0m\u001b[1;33m\u001b[0m\u001b[0m\n\u001b[0;32m   1844\u001b[0m             \u001b[0mcache\u001b[0m\u001b[1;33m[\u001b[0m\u001b[0mitem\u001b[0m\u001b[1;33m]\u001b[0m \u001b[1;33m=\u001b[0m \u001b[0mres\u001b[0m\u001b[1;33m\u001b[0m\u001b[0m\n",
      "\u001b[1;32m/dataquest/system/env/python3/lib/python3.4/site-packages/pandas/core/internals.py\u001b[0m in \u001b[0;36mget\u001b[1;34m(self, item, fastpath)\u001b[0m\n\u001b[0;32m   3841\u001b[0m \u001b[1;33m\u001b[0m\u001b[0m\n\u001b[0;32m   3842\u001b[0m             \u001b[1;32mif\u001b[0m \u001b[1;32mnot\u001b[0m \u001b[0misna\u001b[0m\u001b[1;33m(\u001b[0m\u001b[0mitem\u001b[0m\u001b[1;33m)\u001b[0m\u001b[1;33m:\u001b[0m\u001b[1;33m\u001b[0m\u001b[0m\n\u001b[1;32m-> 3843\u001b[1;33m                 \u001b[0mloc\u001b[0m \u001b[1;33m=\u001b[0m \u001b[0mself\u001b[0m\u001b[1;33m.\u001b[0m\u001b[0mitems\u001b[0m\u001b[1;33m.\u001b[0m\u001b[0mget_loc\u001b[0m\u001b[1;33m(\u001b[0m\u001b[0mitem\u001b[0m\u001b[1;33m)\u001b[0m\u001b[1;33m\u001b[0m\u001b[0m\n\u001b[0m\u001b[0;32m   3844\u001b[0m             \u001b[1;32melse\u001b[0m\u001b[1;33m:\u001b[0m\u001b[1;33m\u001b[0m\u001b[0m\n\u001b[0;32m   3845\u001b[0m                 \u001b[0mindexer\u001b[0m \u001b[1;33m=\u001b[0m \u001b[0mnp\u001b[0m\u001b[1;33m.\u001b[0m\u001b[0marange\u001b[0m\u001b[1;33m(\u001b[0m\u001b[0mlen\u001b[0m\u001b[1;33m(\u001b[0m\u001b[0mself\u001b[0m\u001b[1;33m.\u001b[0m\u001b[0mitems\u001b[0m\u001b[1;33m)\u001b[0m\u001b[1;33m)\u001b[0m\u001b[1;33m[\u001b[0m\u001b[0misna\u001b[0m\u001b[1;33m(\u001b[0m\u001b[0mself\u001b[0m\u001b[1;33m.\u001b[0m\u001b[0mitems\u001b[0m\u001b[1;33m)\u001b[0m\u001b[1;33m]\u001b[0m\u001b[1;33m\u001b[0m\u001b[0m\n",
      "\u001b[1;32m/dataquest/system/env/python3/lib/python3.4/site-packages/pandas/core/indexes/base.py\u001b[0m in \u001b[0;36mget_loc\u001b[1;34m(self, key, method, tolerance)\u001b[0m\n\u001b[0;32m   2525\u001b[0m                 \u001b[1;32mreturn\u001b[0m \u001b[0mself\u001b[0m\u001b[1;33m.\u001b[0m\u001b[0m_engine\u001b[0m\u001b[1;33m.\u001b[0m\u001b[0mget_loc\u001b[0m\u001b[1;33m(\u001b[0m\u001b[0mkey\u001b[0m\u001b[1;33m)\u001b[0m\u001b[1;33m\u001b[0m\u001b[0m\n\u001b[0;32m   2526\u001b[0m             \u001b[1;32mexcept\u001b[0m \u001b[0mKeyError\u001b[0m\u001b[1;33m:\u001b[0m\u001b[1;33m\u001b[0m\u001b[0m\n\u001b[1;32m-> 2527\u001b[1;33m                 \u001b[1;32mreturn\u001b[0m \u001b[0mself\u001b[0m\u001b[1;33m.\u001b[0m\u001b[0m_engine\u001b[0m\u001b[1;33m.\u001b[0m\u001b[0mget_loc\u001b[0m\u001b[1;33m(\u001b[0m\u001b[0mself\u001b[0m\u001b[1;33m.\u001b[0m\u001b[0m_maybe_cast_indexer\u001b[0m\u001b[1;33m(\u001b[0m\u001b[0mkey\u001b[0m\u001b[1;33m)\u001b[0m\u001b[1;33m)\u001b[0m\u001b[1;33m\u001b[0m\u001b[0m\n\u001b[0m\u001b[0;32m   2528\u001b[0m \u001b[1;33m\u001b[0m\u001b[0m\n\u001b[0;32m   2529\u001b[0m         \u001b[0mindexer\u001b[0m \u001b[1;33m=\u001b[0m \u001b[0mself\u001b[0m\u001b[1;33m.\u001b[0m\u001b[0mget_indexer\u001b[0m\u001b[1;33m(\u001b[0m\u001b[1;33m[\u001b[0m\u001b[0mkey\u001b[0m\u001b[1;33m]\u001b[0m\u001b[1;33m,\u001b[0m \u001b[0mmethod\u001b[0m\u001b[1;33m=\u001b[0m\u001b[0mmethod\u001b[0m\u001b[1;33m,\u001b[0m \u001b[0mtolerance\u001b[0m\u001b[1;33m=\u001b[0m\u001b[0mtolerance\u001b[0m\u001b[1;33m)\u001b[0m\u001b[1;33m\u001b[0m\u001b[0m\n",
      "\u001b[1;32mpandas/_libs/index.pyx\u001b[0m in \u001b[0;36mpandas._libs.index.IndexEngine.get_loc\u001b[1;34m()\u001b[0m\n",
      "\u001b[1;32mpandas/_libs/index.pyx\u001b[0m in \u001b[0;36mpandas._libs.index.IndexEngine.get_loc\u001b[1;34m()\u001b[0m\n",
      "\u001b[1;32mpandas/_libs/hashtable_class_helper.pxi\u001b[0m in \u001b[0;36mpandas._libs.hashtable.PyObjectHashTable.get_item\u001b[1;34m()\u001b[0m\n",
      "\u001b[1;32mpandas/_libs/hashtable_class_helper.pxi\u001b[0m in \u001b[0;36mpandas._libs.hashtable.PyObjectHashTable.get_item\u001b[1;34m()\u001b[0m\n",
      "\u001b[1;31mKeyError\u001b[0m: 'remod_age_at_sold'"
     ]
    }
   ],
   "source": [
    "print(clean_missing_train['remod_age_at_sold'][clean_missing_train['remod_age_at_sold']<0])\n",
    "print(clean_missing_train['apartment_age_at_sold'][clean_missing_train['apartment_age_at_sold']<0])"
   ]
  },
  {
   "cell_type": "code",
   "execution_count": 58,
   "metadata": {
    "collapsed": true
   },
   "outputs": [],
   "source": [
    "clean_missing_train = clean_missing_train.drop([1702,2180,2181], axis=0)"
   ]
  },
  {
   "cell_type": "markdown",
   "metadata": {},
   "source": [
    "### 1.3 Information leak and reductant columns\n",
    "`Mo Sold`, `Yr Sold`, `Sale Type` and `Sale Condition` are the columns leaking information about the sale. On the other hand, we have already extract information from `Year Remod/Add` and `Year Built`. `Order` and `PID` are redundant columns. All these columns should be dropped."
   ]
  },
  {
   "cell_type": "code",
   "execution_count": 59,
   "metadata": {
    "collapsed": false
   },
   "outputs": [],
   "source": [
    "drop_col = ['Mo Sold', 'Yr Sold', 'Sale Type', 'Sale Condition',\n",
    "            'Year Remod/Add', 'Year Built',\n",
    "            'Order', 'PID']\n",
    "\n",
    "clean_train = clean_missing_train.drop(\n",
    "    drop_col,\n",
    "    axis = 1\n",
    ")"
   ]
  },
  {
   "cell_type": "code",
   "execution_count": 60,
   "metadata": {
    "collapsed": false
   },
   "outputs": [],
   "source": [
    "def transform_features(data):\n",
    "    \n",
    "    clean_data = data.copy()\n",
    "    # count missing value for each column\n",
    "    missing_value = clean_data.isnull().sum()\n",
    "    \n",
    "    # columns with less than 5% missing values\n",
    "    missing = 0.05*len(clean_data)\n",
    "\n",
    "    no_missing_col = missing_value[missing_value==0]\n",
    "    no_missing_train = clean_data[no_missing_col.index]\n",
    "\n",
    "    low_missing_col = missing_value[(missing_value<missing)&(missing_value>0)]\n",
    "    low_missing_train = clean_data[low_missing_col.index]\n",
    "    \n",
    "    # fill missing value by spliting numerical and categorical features\n",
    "    low_missing_train_num = low_missing_train.select_dtypes(exclude=['object']).copy()\n",
    "    low_missing_train_obj = low_missing_train.select_dtypes('object').copy()\n",
    "\n",
    "    low_missing_train_num.fillna(low_missing_train_num.mode().iloc[0], inplace=True)\n",
    "    low_missing_train_obj.fillna('None', inplace=True)\n",
    "\n",
    "    # combine columns\n",
    "    clean_missing_train = pd.concat([\n",
    "        no_missing_train,\n",
    "        low_missing_train_num,\n",
    "        low_missing_train_obj\n",
    "    ], axis = 1)\n",
    "    \n",
    "    # new features, 'remod_age_at_sold' & 'apartment_age_at_sold'\n",
    "    clean_missing_train['remod_age_at_sold'] = clean_missing_train['Yr Sold']-clean_missing_train['Year Remod/Add']\n",
    "    clean_missing_train['apartment_age_at_sold'] = clean_missing_train['Yr Sold']-clean_missing_train['Year Built']\n",
    "    \n",
    "    # drop rows with invalid values\n",
    "    clean_missing_train = clean_missing_train.drop([1702,2180,2181], axis=0)\n",
    "      \n",
    "    # drop columns with infomration leak, reduntant\n",
    "    drop_col = ['Mo Sold', 'Yr Sold', 'Sale Type', 'Sale Condition',\n",
    "                'Year Remod/Add', 'Year Built',\n",
    "                'Order', 'PID']\n",
    "\n",
    "    clean_train = clean_missing_train.drop(drop_col, axis = 1)\n",
    "\n",
    "    return clean_train"
   ]
  },
  {
   "cell_type": "markdown",
   "metadata": {},
   "source": [
    "## 2. features selection\n",
    "\n",
    "We will use the below criteria to select our features in order to reduce the dimensions and improve efficiency:\n",
    "\n",
    "1. numerical features with strong absolute correlation with `SalePrice` (>0.3)\n",
    "2. grouping diverse categorical column\n",
    "3. remove low variance features\n",
    "4. remove strongly correlated categorical features\n",
    "\n",
    "Before selecting the features, we have to make sure they have the correct types. After studying the details of each column, we can group the features into the below types:\n",
    "       \n",
    "- **ordinal**: 'Lot Shape', 'Exter Qual', 'Exter Cond', 'Heating QC', 'Kitchen Qual', 'Functional', 'Bsmt Qual', 'Bsmt Cond', 'Bsmt Exposure', 'Paved Drive', 'Electrical'\n",
    "\n",
    "- **norminal**: 'MS SubClass', 'MS Zoning', 'Land Contour','Lot Config', 'Neighborhood', 'Bldg Type', 'House Style', 'Roof Style', 'Foundation', 'Central Air', 'Mas Vnr Area', 'BsmtFin Type 1', 'BsmtFin Type 2', 'Condition 1', 'Exterior 1st', 'Exterior 2nd', 'Utilities','Land Slope', 'Condition 2', 'Roof Matl', 'Heating', 'Low Qual Fin SF', 'Kitchen AbvGr' & '3Ssn Porch'\n",
    "\n",
    "- **numerical**: rest of the columns "
   ]
  },
  {
   "cell_type": "code",
   "execution_count": 61,
   "metadata": {
    "collapsed": false
   },
   "outputs": [],
   "source": [
    "# ordinal columns\n",
    "ord_col = ['Exter Qual', 'Exter Cond', 'Heating QC', 'Kitchen Qual', \n",
    "           'Bsmt Qual', 'Bsmt Cond']\n",
    "\n",
    "# nominal columns\n",
    "nor_col = ['Lot Shape', 'MS SubClass', 'MS Zoning', 'Functional', \n",
    "           'Land Contour','Lot Config', 'Neighborhood', 'Bldg Type', \n",
    "           'House Style', 'Roof Style', 'Foundation', 'Central Air', \n",
    "           'BsmtFin Type 1', 'BsmtFin Type 2', 'Bsmt Exposure', \n",
    "           'Paved Drive', 'Mas Vnr Type', 'Electrical', 'Street',\n",
    "           'Condition 1', 'Exterior 1st', 'Exterior 2nd', 'Utilities',\n",
    "           'Land Slope', 'Condition 2', 'Roof Matl', 'Heating', \n",
    "           'Low Qual Fin SF', 'Kitchen AbvGr', '3Ssn Porch']\n",
    "\n",
    "# all non-numerical columns\n",
    "non_num_col = ord_col.copy()\n",
    "non_num_col.extend(nor_col)\n",
    "clean_train[non_num_col] = clean_train[non_num_col].astype('object')\n",
    "\n",
    "# numerical columns\n",
    "num_col = [col for col in clean_train.columns if col not in non_num_col]"
   ]
  },
  {
   "cell_type": "markdown",
   "metadata": {},
   "source": [
    "### 2.1 Correlation with `SalePrice`"
   ]
  },
  {
   "cell_type": "code",
   "execution_count": 62,
   "metadata": {
    "collapsed": false
   },
   "outputs": [
    {
     "data": {
      "text/plain": [
       "<matplotlib.axes._subplots.AxesSubplot at 0x7fdd48778908>"
      ]
     },
     "execution_count": 62,
     "metadata": {},
     "output_type": "execute_result"
    },
    {
     "data": {
      "image/png": "[encoded data removed]",
      "text/plain": [
       "<matplotlib.figure.Figure at 0x7fdd488c2be0>"
      ]
     },
     "metadata": {},
     "output_type": "display_data"
    }
   ],
   "source": [
    "# Correlationship with SalePrice for numerical features\n",
    "sorted_corrs = clean_train[num_col].corr()['SalePrice'].abs().sort_values()\n",
    "strong_corrs = sorted_corrs[sorted_corrs>0.3].index\n",
    "corrmat = clean_train[strong_corrs].corr()\n",
    "sns.heatmap(corrmat)"
   ]
  },
  {
   "cell_type": "markdown",
   "metadata": {},
   "source": [
    "The pairs, (`Gr Liv Area`, `TotRms AbvGrd`), (`Total Bsmt SF`, `1st Flr SF`) and (`Garage Area`, `Garage Cars`) have a very strong correlation with each other. Therefore we can choose one feature from each pair and drop the other one. The features to be drop are `TotRms AbvGrd`, `Total Bsmt SF` and `Garage Cars` since they provide less useful information than the other in general. "
   ]
  },
  {
   "cell_type": "code",
   "execution_count": 15,
   "metadata": {
    "collapsed": false
   },
   "outputs": [],
   "source": [
    "selected_train_num_col = strong_corrs.drop(['TotRms AbvGrd',\n",
    "                                            'Total Bsmt SF',\n",
    "                                            'Garage Cars'])"
   ]
  },
  {
   "cell_type": "markdown",
   "metadata": {},
   "source": [
    "### 2.2 Categorical features diversity\n",
    "\n",
    "We will focus on those features with more than 10 unique values."
   ]
  },
  {
   "cell_type": "code",
   "execution_count": 16,
   "metadata": {
    "collapsed": false
   },
   "outputs": [
    {
     "data": {
      "text/plain": [
       "Low Qual Fin SF    36\n",
       "3Ssn Porch         31\n",
       "Neighborhood       28\n",
       "Exterior 2nd       17\n",
       "MS SubClass        16\n",
       "dtype: int64"
      ]
     },
     "execution_count": 16,
     "metadata": {},
     "output_type": "execute_result"
    }
   ],
   "source": [
    "clean_train[non_num_col].nunique().sort_values(ascending = False).head(5)"
   ]
  },
  {
   "cell_type": "code",
   "execution_count": 17,
   "metadata": {
    "collapsed": false
   },
   "outputs": [
    {
     "name": "stdout",
     "output_type": "stream",
     "text": [
      "Top 5 proportion in Low Qual Fin SF\n",
      "0.9894089511445165 \n",
      "\n",
      "Top 5 proportion in 3Ssn Porch\n",
      "0.9907755380936112 \n",
      "\n",
      "Top 5 proportion in Neighborhood\n",
      "0.4519986334130509 \n",
      "\n",
      "Top 5 proportion in Exterior 2nd\n",
      "0.8670994192005466 \n",
      "\n",
      "Neighborhood counts:\n",
      "NAmes      0.151350\n",
      "CollgCr    0.091220\n",
      "OldTown    0.081654\n",
      "Edwards    0.065596\n",
      "Somerst    0.062180\n",
      "NridgHt    0.056372\n",
      "Gilbert    0.056372\n",
      "Sawyer     0.051589\n",
      "NWAmes     0.044756\n",
      "SawyerW    0.042706\n",
      "Mitchel    0.038948\n",
      "BrkSide    0.036898\n",
      "Crawfor    0.035190\n",
      "IDOTRR     0.031773\n",
      "Timber     0.024599\n",
      "NoRidge    0.024257\n",
      "StoneBr    0.017424\n",
      "SWISU      0.016399\n",
      "ClearCr    0.015032\n",
      "MeadowV    0.012641\n",
      "BrDale     0.010249\n",
      "Blmngtn    0.009566\n",
      "Veenker    0.008200\n",
      "NPkVill    0.007858\n",
      "Blueste    0.003416\n",
      "Greens     0.002733\n",
      "GrnHill    0.000683\n",
      "Landmrk    0.000342\n",
      "Name: Neighborhood, dtype: float64\n"
     ]
    }
   ],
   "source": [
    "high_diversity_features = clean_train[non_num_col].nunique().sort_values(ascending = False).head(4).index\n",
    "\n",
    "for col in high_diversity_features:\n",
    "    print('Top 5 proportion in', col)\n",
    "    print(clean_train[col].value_counts(normalize=True).head().sum(), '\\n')\n",
    "\n",
    "print('Neighborhood counts:')\n",
    "print(clean_train['Neighborhood'].value_counts(normalize=True))"
   ]
  },
  {
   "cell_type": "markdown",
   "metadata": {},
   "source": [
    "We will keep the top 5 values in `Exterior 2nd`, `MS SubClass` and `Exterior 1st` as they contain more than 70% of the values. The rest will be set as *other*.  `Neighborhood` will be dropped because it has too many unique values and their distributions are quite even."
   ]
  },
  {
   "cell_type": "code",
   "execution_count": 63,
   "metadata": {
    "collapsed": false
   },
   "outputs": [
    {
     "name": "stdout",
     "output_type": "stream",
     "text": [
      "0        2890\n",
      "other      27\n",
      "168         3\n",
      "153         3\n",
      "180         2\n",
      "144         2\n",
      "Name: 3Ssn Porch, dtype: int64\n",
      "other      1604\n",
      "NAmes       443\n",
      "CollgCr     267\n",
      "OldTown     239\n",
      "Edwards     192\n",
      "Somerst     182\n",
      "Name: Neighborhood, dtype: int64\n",
      "VinylSd    1014\n",
      "MetalSd     447\n",
      "HdBoard     406\n",
      "Wd Sdng     397\n",
      "other       389\n",
      "Plywood     274\n",
      "Name: Exterior 2nd, dtype: int64\n"
     ]
    }
   ],
   "source": [
    "for col in high_diversity_features[1:]:\n",
    "    # list of values to be kept\n",
    "    remain_value = clean_train[col].value_counts().head(5).index\n",
    "    # replace remaining values as 'other'\n",
    "    clean_train[col] = np.where(\n",
    "        clean_train[col].isin(remain_value), \n",
    "        clean_train.loc[clean_train.index][col], \n",
    "        'other'\n",
    "    )\n",
    "    # check new columns\n",
    "    print(clean_train[col].value_counts())"
   ]
  },
  {
   "cell_type": "markdown",
   "metadata": {},
   "source": [
    "### 2.3 Low variance features\n",
    "\n",
    "Features with a very high proportion of the same value (>95%) can provide very little information to the model. These features will be dropped."
   ]
  },
  {
   "cell_type": "code",
   "execution_count": 64,
   "metadata": {
    "collapsed": false
   },
   "outputs": [
    {
     "name": "stdout",
     "output_type": "stream",
     "text": [
      "Street 0.9959002391527161\n",
      "Utilities 0.998975059788179\n",
      "Land Slope 0.9518278100444141\n",
      "Condition 2 0.9900922446190639\n",
      "Roof Matl 0.9853091902972326\n",
      "Heating 0.9846258968226853\n",
      "Low Qual Fin SF 0.9863341305090536\n",
      "Kitchen AbvGr 0.9542193372053297\n",
      "3Ssn Porch 0.9873590707208746\n",
      "Pool Area 0.9955585924154424\n",
      "Misc Val 0.9651520327980868\n"
     ]
    }
   ],
   "source": [
    "# columns with a huge number of common values\n",
    "common_values_col = []\n",
    "for col in clean_train.columns:\n",
    "    perc_most_freq_value = len(clean_train[clean_train[col] == clean_train[col].mode()[0]])/len(clean_train)\n",
    "    if  perc_most_freq_value> 0.95:\n",
    "        print(col, perc_most_freq_value)\n",
    "        common_values_col.append(col)"
   ]
  },
  {
   "cell_type": "code",
   "execution_count": 65,
   "metadata": {
    "collapsed": false
   },
   "outputs": [],
   "source": [
    "clean_train = clean_train.drop(common_values_col,axis = 1)\n",
    "non_num_col = list(set(non_num_col).intersection(clean_train.columns))"
   ]
  },
  {
   "cell_type": "markdown",
   "metadata": {},
   "source": [
    "### 2.4 Categorical features importance\n",
    "\n",
    "Since there are hundreds of categorical columns after we create the dummy variables, we have to reduce the dimension by check the importance of each column. We will use Extra Trees to achieve this goal.\n",
    "\n",
    "Before we start the calculation, we have to assign numerical values for the ordinal features and create dummy columns for nominal features."
   ]
  },
  {
   "cell_type": "code",
   "execution_count": 66,
   "metadata": {
    "collapsed": false
   },
   "outputs": [],
   "source": [
    "clean_ord_col = pd.DataFrame()\n",
    "\n",
    "# set order\n",
    "cat_type = CategoricalDtype(\n",
    "    categories=[\"None\", \"Po\", \"Fa\", \"TA\", \"Gd\", \"Ex\"], \n",
    "    ordered=True\n",
    ")\n",
    "\n",
    "# assign ordinal object type\n",
    "for col in ord_col:\n",
    "    clean_ord_col[col] = clean_train[col].astype(cat_type)\n",
    "    clean_train[col] = clean_ord_col[col].cat.codes"
   ]
  },
  {
   "cell_type": "code",
   "execution_count": 67,
   "metadata": {
    "collapsed": false
   },
   "outputs": [
    {
     "data": {
      "text/plain": [
       "['Lot Config',\n",
       " 'Land Contour',\n",
       " 'MS Zoning',\n",
       " 'Lot Shape',\n",
       " 'Neighborhood',\n",
       " 'Mas Vnr Type',\n",
       " 'Central Air',\n",
       " 'House Style',\n",
       " 'BsmtFin Type 1',\n",
       " 'BsmtFin Type 2',\n",
       " 'Foundation',\n",
       " 'Paved Drive',\n",
       " 'Exterior 2nd',\n",
       " 'Functional',\n",
       " 'Exterior 1st',\n",
       " 'Roof Style',\n",
       " 'MS SubClass',\n",
       " 'Bldg Type',\n",
       " 'Condition 1',\n",
       " 'Electrical',\n",
       " 'Bsmt Exposure']"
      ]
     },
     "execution_count": 67,
     "metadata": {},
     "output_type": "execute_result"
    }
   ],
   "source": [
    "list(set(nor_col).intersection(clean_train.columns))"
   ]
  },
  {
   "cell_type": "code",
   "execution_count": 68,
   "metadata": {
    "collapsed": false
   },
   "outputs": [],
   "source": [
    "# assign dummy columns\n",
    "nor_col = list(set(nor_col).intersection(clean_train.columns))\n",
    "clean_nor_col = pd.get_dummies(clean_train[nor_col],\n",
    "                              prefix = nor_col)\n",
    "clean_all_train = pd.concat([clean_train,clean_nor_col], axis = 1)\n",
    "\n",
    "non_num_col = ord_col.copy()\n",
    "non_num_col.extend(clean_nor_col.columns)"
   ]
  },
  {
   "cell_type": "code",
   "execution_count": 24,
   "metadata": {
    "collapsed": false
   },
   "outputs": [
    {
     "data": {
      "text/plain": [
       "['Lot Config',\n",
       " 'Land Contour',\n",
       " 'MS Zoning',\n",
       " 'Lot Shape',\n",
       " 'Neighborhood',\n",
       " 'Mas Vnr Type',\n",
       " 'Central Air',\n",
       " 'House Style',\n",
       " 'BsmtFin Type 1',\n",
       " 'BsmtFin Type 2',\n",
       " 'Foundation',\n",
       " 'Paved Drive',\n",
       " 'Exterior 2nd',\n",
       " 'Functional',\n",
       " 'Exterior 1st',\n",
       " 'Roof Style',\n",
       " 'MS SubClass',\n",
       " 'Bldg Type',\n",
       " 'Condition 1',\n",
       " 'Electrical',\n",
       " 'Bsmt Exposure']"
      ]
     },
     "execution_count": 24,
     "metadata": {},
     "output_type": "execute_result"
    }
   ],
   "source": [
    "nor_col"
   ]
  },
  {
   "cell_type": "code",
   "execution_count": 25,
   "metadata": {
    "collapsed": false
   },
   "outputs": [
    {
     "data": {
      "text/html": [
       "<div>\n",
       "<style scoped>\n",
       "    .dataframe tbody tr th:only-of-type {\n",
       "        vertical-align: middle;\n",
       "    }\n",
       "\n",
       "    .dataframe tbody tr th {\n",
       "        vertical-align: top;\n",
       "    }\n",
       "\n",
       "    .dataframe thead th {\n",
       "        text-align: right;\n",
       "    }\n",
       "</style>\n",
       "<table border=\"1\" class=\"dataframe\">\n",
       "  <thead>\n",
       "    <tr style=\"text-align: right;\">\n",
       "      <th></th>\n",
       "      <th>importance</th>\n",
       "    </tr>\n",
       "  </thead>\n",
       "  <tbody>\n",
       "    <tr>\n",
       "      <th>Heating QC</th>\n",
       "      <td>0.047247</td>\n",
       "    </tr>\n",
       "    <tr>\n",
       "      <th>Kitchen Qual</th>\n",
       "      <td>0.034765</td>\n",
       "    </tr>\n",
       "    <tr>\n",
       "      <th>Bsmt Qual</th>\n",
       "      <td>0.033230</td>\n",
       "    </tr>\n",
       "    <tr>\n",
       "      <th>Lot Config_Inside</th>\n",
       "      <td>0.027182</td>\n",
       "    </tr>\n",
       "    <tr>\n",
       "      <th>Bsmt Exposure_No</th>\n",
       "      <td>0.023159</td>\n",
       "    </tr>\n",
       "    <tr>\n",
       "      <th>BsmtFin Type 1_Unf</th>\n",
       "      <td>0.023015</td>\n",
       "    </tr>\n",
       "    <tr>\n",
       "      <th>Exter Qual</th>\n",
       "      <td>0.022862</td>\n",
       "    </tr>\n",
       "    <tr>\n",
       "      <th>Lot Shape_IR1</th>\n",
       "      <td>0.021932</td>\n",
       "    </tr>\n",
       "    <tr>\n",
       "      <th>Lot Config_Corner</th>\n",
       "      <td>0.021659</td>\n",
       "    </tr>\n",
       "    <tr>\n",
       "      <th>Exter Cond</th>\n",
       "      <td>0.020872</td>\n",
       "    </tr>\n",
       "    <tr>\n",
       "      <th>Lot Shape_Reg</th>\n",
       "      <td>0.020197</td>\n",
       "    </tr>\n",
       "    <tr>\n",
       "      <th>Neighborhood_other</th>\n",
       "      <td>0.020052</td>\n",
       "    </tr>\n",
       "    <tr>\n",
       "      <th>Roof Style_Gable</th>\n",
       "      <td>0.018118</td>\n",
       "    </tr>\n",
       "    <tr>\n",
       "      <th>Bsmt Cond</th>\n",
       "      <td>0.017124</td>\n",
       "    </tr>\n",
       "    <tr>\n",
       "      <th>BsmtFin Type 1_GLQ</th>\n",
       "      <td>0.016832</td>\n",
       "    </tr>\n",
       "    <tr>\n",
       "      <th>BsmtFin Type 1_ALQ</th>\n",
       "      <td>0.016305</td>\n",
       "    </tr>\n",
       "    <tr>\n",
       "      <th>Bsmt Exposure_Av</th>\n",
       "      <td>0.015914</td>\n",
       "    </tr>\n",
       "    <tr>\n",
       "      <th>Condition 1_Norm</th>\n",
       "      <td>0.015872</td>\n",
       "    </tr>\n",
       "    <tr>\n",
       "      <th>BsmtFin Type 2_Unf</th>\n",
       "      <td>0.015757</td>\n",
       "    </tr>\n",
       "    <tr>\n",
       "      <th>Roof Style_Hip</th>\n",
       "      <td>0.015582</td>\n",
       "    </tr>\n",
       "  </tbody>\n",
       "</table>\n",
       "</div>"
      ],
      "text/plain": [
       "                    importance\n",
       "Heating QC            0.047247\n",
       "Kitchen Qual          0.034765\n",
       "Bsmt Qual             0.033230\n",
       "Lot Config_Inside     0.027182\n",
       "Bsmt Exposure_No      0.023159\n",
       "BsmtFin Type 1_Unf    0.023015\n",
       "Exter Qual            0.022862\n",
       "Lot Shape_IR1         0.021932\n",
       "Lot Config_Corner     0.021659\n",
       "Exter Cond            0.020872\n",
       "Lot Shape_Reg         0.020197\n",
       "Neighborhood_other    0.020052\n",
       "Roof Style_Gable      0.018118\n",
       "Bsmt Cond             0.017124\n",
       "BsmtFin Type 1_GLQ    0.016832\n",
       "BsmtFin Type 1_ALQ    0.016305\n",
       "Bsmt Exposure_Av      0.015914\n",
       "Condition 1_Norm      0.015872\n",
       "BsmtFin Type 2_Unf    0.015757\n",
       "Roof Style_Hip        0.015582"
      ]
     },
     "execution_count": 25,
     "metadata": {},
     "output_type": "execute_result"
    }
   ],
   "source": [
    "# Feature Importance with Extra Trees Classifier\n",
    "X = clean_all_train[non_num_col].values\n",
    "Y = clean_train['SalePrice'].values\n",
    "\n",
    "# feature extraction\n",
    "model = ExtraTreesClassifier(n_estimators=10)\n",
    "model.fit(X, Y)\n",
    "importance = model.feature_importances_.tolist()\n",
    "importance_table = pd.DataFrame(index = non_num_col, \n",
    "                                data = importance)\n",
    "importance_table.columns = ['importance']\n",
    "importance_table.sort_values(by='importance', ascending = False).head(20)"
   ]
  },
  {
   "cell_type": "markdown",
   "metadata": {},
   "source": [
    "Most of the features are not important to predict `SalePrice`. We will only keep the features with importance >0.01."
   ]
  },
  {
   "cell_type": "code",
   "execution_count": 26,
   "metadata": {
    "collapsed": false
   },
   "outputs": [],
   "source": [
    "selected_train_cat_col = importance_table[importance_table['importance'] > 0.01].index"
   ]
  },
  {
   "cell_type": "code",
   "execution_count": 27,
   "metadata": {
    "collapsed": false
   },
   "outputs": [
    {
     "name": "stdout",
     "output_type": "stream",
     "text": [
      "<class 'pandas.core.frame.DataFrame'>\n",
      "Int64Index: 2927 entries, 0 to 2929\n",
      "Data columns (total 48 columns):\n",
      "Exter Qual               2927 non-null int8\n",
      "Exter Cond               2927 non-null int8\n",
      "Heating QC               2927 non-null int8\n",
      "Kitchen Qual             2927 non-null int8\n",
      "Bsmt Qual                2927 non-null int8\n",
      "Bsmt Cond                2927 non-null int8\n",
      "Lot Config_Corner        2927 non-null uint8\n",
      "Lot Config_Inside        2927 non-null uint8\n",
      "Land Contour_Lvl         2927 non-null uint8\n",
      "Lot Shape_IR1            2927 non-null uint8\n",
      "Lot Shape_Reg            2927 non-null uint8\n",
      "Neighborhood_other       2927 non-null uint8\n",
      "Mas Vnr Type_BrkFace     2927 non-null uint8\n",
      "Mas Vnr Type_None        2927 non-null uint8\n",
      "House Style_1Story       2927 non-null uint8\n",
      "House Style_2Story       2927 non-null uint8\n",
      "BsmtFin Type 1_ALQ       2927 non-null uint8\n",
      "BsmtFin Type 1_BLQ       2927 non-null uint8\n",
      "BsmtFin Type 1_GLQ       2927 non-null uint8\n",
      "BsmtFin Type 1_Rec       2927 non-null uint8\n",
      "BsmtFin Type 1_Unf       2927 non-null uint8\n",
      "BsmtFin Type 2_Unf       2927 non-null uint8\n",
      "Foundation_CBlock        2927 non-null uint8\n",
      "Exterior 2nd_MetalSd     2927 non-null uint8\n",
      "Exterior 2nd_other       2927 non-null uint8\n",
      "Exterior 1st_HdBoard     2927 non-null uint8\n",
      "Exterior 1st_MetalSd     2927 non-null uint8\n",
      "Roof Style_Gable         2927 non-null uint8\n",
      "Roof Style_Hip           2927 non-null uint8\n",
      "MS SubClass_20           2927 non-null uint8\n",
      "Condition 1_Norm         2927 non-null uint8\n",
      "Bsmt Exposure_Av         2927 non-null uint8\n",
      "Bsmt Exposure_Gd         2927 non-null uint8\n",
      "Bsmt Exposure_Mn         2927 non-null uint8\n",
      "Bsmt Exposure_No         2927 non-null uint8\n",
      "Open Porch SF            2927 non-null int64\n",
      "Wood Deck SF             2927 non-null int64\n",
      "BsmtFin SF 1             2927 non-null float64\n",
      "Fireplaces               2927 non-null int64\n",
      "Mas Vnr Area             2927 non-null float64\n",
      "remod_age_at_sold        2927 non-null int64\n",
      "Full Bath                2927 non-null int64\n",
      "apartment_age_at_sold    2927 non-null int64\n",
      "1st Flr SF               2927 non-null int64\n",
      "Garage Area              2927 non-null float64\n",
      "Gr Liv Area              2927 non-null int64\n",
      "Overall Qual             2927 non-null int64\n",
      "SalePrice                2927 non-null int64\n",
      "dtypes: float64(3), int64(10), int8(6), uint8(29)\n",
      "memory usage: 500.2 KB\n"
     ]
    }
   ],
   "source": [
    "# combine all columns\n",
    "selected_clean_train = pd.concat([clean_all_train[selected_train_cat_col], \n",
    "                         clean_train[selected_train_num_col]],\n",
    "                         axis = 1)\n",
    "\n",
    "# columns of the final train data\n",
    "selected_clean_train.info()"
   ]
  },
  {
   "cell_type": "code",
   "execution_count": 28,
   "metadata": {
    "collapsed": true
   },
   "outputs": [],
   "source": [
    "def select_features(selected_data):\n",
    "    \n",
    "    data = selected_data.copy()\n",
    "    \n",
    "    ## features types\n",
    "    # ordinal columns\n",
    "    ord_col = ['Exter Qual', 'Exter Cond', 'Heating QC', 'Kitchen Qual', \n",
    "           'Bsmt Qual', 'Bsmt Cond']\n",
    "\n",
    "    # nominal columns\n",
    "    nor_col = ['Lot Shape', 'MS SubClass', 'MS Zoning', 'Functional', \n",
    "               'Land Contour','Lot Config', 'Neighborhood', 'Bldg Type', \n",
    "               'House Style', 'Roof Style', 'Foundation', 'Central Air', \n",
    "               'BsmtFin Type 1', 'BsmtFin Type 2', 'Bsmt Exposure', \n",
    "               'Paved Drive', 'Mas Vnr Type', 'Electrical', 'Street',\n",
    "               'Condition 1', 'Exterior 1st', 'Exterior 2nd', 'Utilities',\n",
    "               'Land Slope', 'Condition 2', 'Roof Matl', 'Heating', \n",
    "               'Low Qual Fin SF', 'Kitchen AbvGr', '3Ssn Porch']\n",
    "\n",
    "    # all non-numerical columns\n",
    "    non_num_col = ord_col.copy()\n",
    "    non_num_col.extend(nor_col)\n",
    "    data[non_num_col] = data[non_num_col].astype('object')\n",
    "\n",
    "    # numerical columns\n",
    "    num_col = [col for col in data.columns if col not in non_num_col]\n",
    "    \n",
    "    ### selecting numerical features\n",
    "    # keep numerical features with absolute correlation with SalePrice > 0.3\n",
    "    sorted_corrs = data[num_col].corr()['SalePrice'].abs().sort_values()\n",
    "    strong_corrs = sorted_corrs[sorted_corrs>0.3].index\n",
    "    \n",
    "    selected_train_num_col = strong_corrs.drop(['TotRms AbvGrd',\n",
    "                                                'Total Bsmt SF',\n",
    "                                                'Garage Cars'])\n",
    "    \n",
    "    # selected numerical features\n",
    "    selected_train_num = data[selected_train_num_col]\n",
    "    \n",
    "    ### selecting categorical features\n",
    "    ## assign 'other' for high diversity features except top 5 objects\n",
    "    high_diversity_features = data[non_num_col].nunique().sort_values(ascending = False).head(4).index\n",
    "    \n",
    "    for col in high_diversity_features[1:]:\n",
    "        # list of values to be kept\n",
    "        remain_value = data[col].value_counts().head(5).index\n",
    "        # replace remaining values as 'other'\n",
    "        data[col] = np.where(\n",
    "            data[col].isin(remain_value), \n",
    "            data.loc[data.index][col], \n",
    "            'other'\n",
    "        )\n",
    "        \n",
    "    selected_train_cat = data.drop(common_values_col, axis = 1)\n",
    "    \n",
    "    ## transform ordinal data\n",
    "    clean_ord_col = pd.DataFrame()\n",
    "\n",
    "    # set order\n",
    "    cat_type = CategoricalDtype(\n",
    "        categories=[\"None\", \"Po\", \"Fa\", \"TA\", \"Gd\", \"Ex\"], \n",
    "        ordered=True\n",
    "    )\n",
    "\n",
    "    # assign ordinal object type\n",
    "    for col in ord_col:\n",
    "        clean_ord_col[col] = data[col].astype(cat_type)\n",
    "        data[col] = clean_ord_col[col].cat.codes\n",
    "        \n",
    "    # update norminal features list\n",
    "    nor_col = list(set(nor_col).intersection(selected_train_cat.columns))\n",
    "    # assign dummy columns\n",
    "    clean_nor_col = pd.get_dummies(data[nor_col],\n",
    "                                   prefix = nor_col)\n",
    "    clean_train_cat = pd.concat([data[ord_col],\n",
    "                                 clean_nor_col], axis = 1)\n",
    "           \n",
    "    # Feature Importance with Extra Trees Classifier\n",
    "    X = clean_train_cat.values\n",
    "    Y = data['SalePrice'].values\n",
    "\n",
    "    # feature extraction\n",
    "    model = ExtraTreesClassifier(n_estimators=10)\n",
    "    model.fit(X, Y)\n",
    "    importance = model.feature_importances_.tolist()\n",
    "    importance_table = pd.DataFrame(index = clean_train_cat.columns, \n",
    "                                    data = importance)\n",
    "    importance_table.columns = ['importance']\n",
    "    \n",
    "    # keep features with importance > 0.01\n",
    "    selected_train_cat_col = importance_table[importance_table['importance'] > 0.01].index\n",
    "    selected_train_cat = clean_train_cat[selected_train_cat_col]\n",
    "\n",
    "    ### combine all columns\n",
    "    selected_train = pd.concat([\n",
    "        selected_train_cat, \n",
    "        selected_train_num\n",
    "    ], axis = 1)  \n",
    "\n",
    "    return selected_train"
   ]
  },
  {
   "cell_type": "markdown",
   "metadata": {},
   "source": [
    "# 3. train and test\n",
    "\n",
    "We use linear regression as our model to predict the sale price and return root mean squared errors. In this function, we allow users to decide the way to validate the result by choosing the value of k.\n",
    "\n",
    "- k=0: splitting train set and test set in original order with equal size\n",
    "- k=1: splitting train set and test set in random order with equal size\n",
    "- other: using k-fold cross validation"
   ]
  },
  {
   "cell_type": "code",
   "execution_count": 49,
   "metadata": {
    "collapsed": false
   },
   "outputs": [],
   "source": [
    "def train_and_test(data, k=0):\n",
    "    target = 'SalePrice'\n",
    "    \n",
    "    features = data.columns.drop('SalePrice')    \n",
    "    lr = LinearRegression()\n",
    "    \n",
    "    if k==0:\n",
    "        train = data[:1460]\n",
    "        test = data[1460:]\n",
    "        \n",
    "        lr.fit(train[features], train[target])\n",
    "        prediction = lr.predict(test[features])\n",
    "        rmse = np.sqrt(mean_squared_error(test[target], prediction))\n",
    "    \n",
    "    elif k==1:\n",
    "        rand_index = np.random.permutation(data.index)\n",
    "        fold_one = data.loc[rand_index[:1460]]\n",
    "        fold_two = data.loc[rand_index[1460:]]\n",
    "        \n",
    "        lr.fit(fold_one[features], fold_one[target])\n",
    "        prediction = lr.predict(fold_two[features])\n",
    "        rmse_1 = np.sqrt(mean_squared_error(fold_two[target], prediction))\n",
    "        \n",
    "        lr.fit(fold_two[features], fold_two[target])\n",
    "        prediction = lr.predict(fold_one[features])\n",
    "        rmse_2 = np.sqrt(mean_squared_error(fold_one[target], prediction))\n",
    "        print('rmse 1: {}, rmse 2: {}'.format(rmse_1, rmse_2))\n",
    "        rmse = (rmse_1+rmse_2)/2\n",
    "    \n",
    "    else: \n",
    "        kf = KFold(n_splits = k,\n",
    "                   shuffle = True,\n",
    "                   random_state = 1)\n",
    "        mses = cross_val_score(\n",
    "            lr, \n",
    "            data[features],\n",
    "            data['SalePrice'],\n",
    "            scoring = 'neg_mean_squared_error',\n",
    "            cv = kf\n",
    "        )\n",
    "        print('mses: {}'.format(mses))\n",
    "        rmse = np.mean(np.sqrt(np.absolute(mses)))\n",
    "    \n",
    "    return rmse"
   ]
  },
  {
   "cell_type": "code",
   "execution_count": 46,
   "metadata": {
    "collapsed": false
   },
   "outputs": [],
   "source": [
    "df = transform_features(housing)"
   ]
  },
  {
   "cell_type": "code",
   "execution_count": 47,
   "metadata": {
    "collapsed": false
   },
   "outputs": [],
   "source": [
    "selected_df = select_features(df)"
   ]
  },
  {
   "cell_type": "code",
   "execution_count": 52,
   "metadata": {
    "collapsed": false
   },
   "outputs": [
    {
     "data": {
      "text/plain": [
       "34212.910237548764"
      ]
     },
     "execution_count": 52,
     "metadata": {},
     "output_type": "execute_result"
    }
   ],
   "source": [
    "train_and_test(selected_df, k=0)"
   ]
  },
  {
   "cell_type": "code",
   "execution_count": 50,
   "metadata": {
    "collapsed": false
   },
   "outputs": [
    {
     "name": "stdout",
     "output_type": "stream",
     "text": [
      "rmse 1: 28738.82207318204, rmse 2: 32960.23596329821\n"
     ]
    },
    {
     "data": {
      "text/plain": [
       "30849.529018240126"
      ]
     },
     "execution_count": 50,
     "metadata": {},
     "output_type": "execute_result"
    }
   ],
   "source": [
    "train_and_test(selected_df, k=1)"
   ]
  },
  {
   "cell_type": "code",
   "execution_count": 53,
   "metadata": {
    "collapsed": false
   },
   "outputs": [
    {
     "name": "stdout",
     "output_type": "stream",
     "text": [
      "mses: [-1.62509058e+09 -6.81342867e+08 -7.49800082e+08 -6.50459181e+08\n",
      " -8.80110246e+08]\n"
     ]
    },
    {
     "data": {
      "text/plain": [
       "29793.63769292307"
      ]
     },
     "execution_count": 53,
     "metadata": {},
     "output_type": "execute_result"
    }
   ],
   "source": [
    "train_and_test(selected_df, k=5)"
   ]
  }
 ],
 "metadata": {
  "anaconda-cloud": {},
  "kernelspec": {
   "display_name": "Python 3",
   "language": "python",
   "name": "python3"
  },
  "language_info": {
   "codemirror_mode": {
    "name": "ipython",
    "version": 3
   },
   "file_extension": ".py",
   "mimetype": "text/x-python",
   "name": "python",
   "nbconvert_exporter": "python",
   "pygments_lexer": "ipython3",
   "version": "3.4.3"
  }
 },
 "nbformat": 4,
 "nbformat_minor": 2
}
