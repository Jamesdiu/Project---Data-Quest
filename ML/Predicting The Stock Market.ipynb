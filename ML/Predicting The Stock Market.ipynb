{
 "cells": [
  {
   "cell_type": "markdown",
   "metadata": {},
   "source": [
    "# Predicting The Stock Market\n",
    "\n",
    "In this project, we will work with the data from the S&P500 Index and predict the future price. The data we use contains a daily record of the price of the S&P500 Index from 1950 to 2015. We will train the model with data from 1950-2012, and try to make predictions from 2013-2015."
   ]
  },
  {
   "cell_type": "code",
   "execution_count": 1,
   "metadata": {},
   "outputs": [
    {
     "data": {
      "text/html": [
       "<div>\n",
       "<style scoped>\n",
       "    .dataframe tbody tr th:only-of-type {\n",
       "        vertical-align: middle;\n",
       "    }\n",
       "\n",
       "    .dataframe tbody tr th {\n",
       "        vertical-align: top;\n",
       "    }\n",
       "\n",
       "    .dataframe thead th {\n",
       "        text-align: right;\n",
       "    }\n",
       "</style>\n",
       "<table border=\"1\" class=\"dataframe\">\n",
       "  <thead>\n",
       "    <tr style=\"text-align: right;\">\n",
       "      <th></th>\n",
       "      <th>Open</th>\n",
       "      <th>High</th>\n",
       "      <th>Low</th>\n",
       "      <th>Close</th>\n",
       "      <th>Volume</th>\n",
       "      <th>Adj Close</th>\n",
       "    </tr>\n",
       "    <tr>\n",
       "      <th>Date</th>\n",
       "      <th></th>\n",
       "      <th></th>\n",
       "      <th></th>\n",
       "      <th></th>\n",
       "      <th></th>\n",
       "      <th></th>\n",
       "    </tr>\n",
       "  </thead>\n",
       "  <tbody>\n",
       "    <tr>\n",
       "      <th>1950-01-03</th>\n",
       "      <td>16.66</td>\n",
       "      <td>16.66</td>\n",
       "      <td>16.66</td>\n",
       "      <td>16.66</td>\n",
       "      <td>1260000.0</td>\n",
       "      <td>16.66</td>\n",
       "    </tr>\n",
       "    <tr>\n",
       "      <th>1950-01-04</th>\n",
       "      <td>16.85</td>\n",
       "      <td>16.85</td>\n",
       "      <td>16.85</td>\n",
       "      <td>16.85</td>\n",
       "      <td>1890000.0</td>\n",
       "      <td>16.85</td>\n",
       "    </tr>\n",
       "    <tr>\n",
       "      <th>1950-01-05</th>\n",
       "      <td>16.93</td>\n",
       "      <td>16.93</td>\n",
       "      <td>16.93</td>\n",
       "      <td>16.93</td>\n",
       "      <td>2550000.0</td>\n",
       "      <td>16.93</td>\n",
       "    </tr>\n",
       "    <tr>\n",
       "      <th>1950-01-06</th>\n",
       "      <td>16.98</td>\n",
       "      <td>16.98</td>\n",
       "      <td>16.98</td>\n",
       "      <td>16.98</td>\n",
       "      <td>2010000.0</td>\n",
       "      <td>16.98</td>\n",
       "    </tr>\n",
       "    <tr>\n",
       "      <th>1950-01-09</th>\n",
       "      <td>17.08</td>\n",
       "      <td>17.08</td>\n",
       "      <td>17.08</td>\n",
       "      <td>17.08</td>\n",
       "      <td>2520000.0</td>\n",
       "      <td>17.08</td>\n",
       "    </tr>\n",
       "  </tbody>\n",
       "</table>\n",
       "</div>"
      ],
      "text/plain": [
       "             Open   High    Low  Close     Volume  Adj Close\n",
       "Date                                                        \n",
       "1950-01-03  16.66  16.66  16.66  16.66  1260000.0      16.66\n",
       "1950-01-04  16.85  16.85  16.85  16.85  1890000.0      16.85\n",
       "1950-01-05  16.93  16.93  16.93  16.93  2550000.0      16.93\n",
       "1950-01-06  16.98  16.98  16.98  16.98  2010000.0      16.98\n",
       "1950-01-09  17.08  17.08  17.08  17.08  2520000.0      17.08"
      ]
     },
     "execution_count": 1,
     "metadata": {},
     "output_type": "execute_result"
    }
   ],
   "source": [
    "import pandas as pd\n",
    "import numpy as np\n",
    "from datetime import datetime\n",
    "from sklearn.linear_model import LinearRegression\n",
    "from sklearn.metrics import mean_squared_error\n",
    "\n",
    "sp = pd.read_csv('sphist.csv')\n",
    "sp['Date'] = pd.to_datetime(sp['Date'])\n",
    "sp = sp.sort_values('Date').set_index('Date')\n",
    "sp.head()"
   ]
  },
  {
   "cell_type": "markdown",
   "metadata": {},
   "source": [
    "We create new columns to contain the average and standard deviation of price in the past n days. Besides, we will also add the ratio between weekly and annual average and sd of the price. The current price will not be included due to the information leak."
   ]
  },
  {
   "cell_type": "code",
   "execution_count": 2,
   "metadata": {},
   "outputs": [],
   "source": [
    "# avg5 - average price from the past 5 days\n",
    "sp['avg5'] = sp['Close'].shift(1).rolling('5d').mean()\n",
    "      \n",
    "# avg30 - average price for the past 30 days\n",
    "sp['avg30'] = sp['Close'].shift(1).rolling('30d').mean()\n",
    "\n",
    "# avg365 - average price for the past 365 days\n",
    "sp['avg365'] = sp['Close'].shift(1).rolling('365d').mean()"
   ]
  },
  {
   "cell_type": "code",
   "execution_count": 3,
   "metadata": {},
   "outputs": [],
   "source": [
    "# sd5 - standard deviation of the price over the past 5 days\n",
    "sp['sd5'] = sp['Close'].shift(1).rolling('5d').std()\n",
    "\n",
    "# sd365 - standard deviation of the price over the past 365 days\n",
    "sp['sd365'] = sp['Close'].shift(1).rolling('365d').std()"
   ]
  },
  {
   "cell_type": "code",
   "execution_count": 4,
   "metadata": {},
   "outputs": [],
   "source": [
    "# ratio between avg5 and avg365\n",
    "sp['ratio_avg5_365'] = sp['avg5']/sp['avg365']\n",
    "\n",
    "# ratio between sd5 and sd365\n",
    "sp['ratio_sd5_365'] = sp['sd5']/sp['sd365']"
   ]
  },
  {
   "cell_type": "markdown",
   "metadata": {},
   "source": [
    "Date information like year, month and day may also help in prediction."
   ]
  },
  {
   "cell_type": "code",
   "execution_count": 15,
   "metadata": {},
   "outputs": [],
   "source": [
    "sp['year'] = sp.index.year\n",
    "sp['month'] = sp.index.month\n",
    "sp['day'] = sp.index.day\n",
    "sp['weekday'] = sp.index.weekday"
   ]
  },
  {
   "cell_type": "markdown",
   "metadata": {},
   "source": [
    "In addition, we would also like to add the last price as a new feature to predict."
   ]
  },
  {
   "cell_type": "code",
   "execution_count": 37,
   "metadata": {},
   "outputs": [],
   "source": [
    "sp['last_price'] = sp['Close'].shift(1)"
   ]
  },
  {
   "cell_type": "code",
   "execution_count": 38,
   "metadata": {},
   "outputs": [
    {
     "data": {
      "text/html": [
       "<div>\n",
       "<style scoped>\n",
       "    .dataframe tbody tr th:only-of-type {\n",
       "        vertical-align: middle;\n",
       "    }\n",
       "\n",
       "    .dataframe tbody tr th {\n",
       "        vertical-align: top;\n",
       "    }\n",
       "\n",
       "    .dataframe thead th {\n",
       "        text-align: right;\n",
       "    }\n",
       "</style>\n",
       "<table border=\"1\" class=\"dataframe\">\n",
       "  <thead>\n",
       "    <tr style=\"text-align: right;\">\n",
       "      <th></th>\n",
       "      <th>Open</th>\n",
       "      <th>High</th>\n",
       "      <th>Low</th>\n",
       "      <th>Close</th>\n",
       "      <th>Volume</th>\n",
       "      <th>Adj Close</th>\n",
       "      <th>avg5</th>\n",
       "      <th>avg30</th>\n",
       "      <th>avg365</th>\n",
       "      <th>sd5</th>\n",
       "      <th>sd365</th>\n",
       "      <th>ratio_avg5_365</th>\n",
       "      <th>ratio_sd5_365</th>\n",
       "      <th>year</th>\n",
       "      <th>month</th>\n",
       "      <th>day</th>\n",
       "      <th>weekday</th>\n",
       "      <th>last_price</th>\n",
       "    </tr>\n",
       "    <tr>\n",
       "      <th>Date</th>\n",
       "      <th></th>\n",
       "      <th></th>\n",
       "      <th></th>\n",
       "      <th></th>\n",
       "      <th></th>\n",
       "      <th></th>\n",
       "      <th></th>\n",
       "      <th></th>\n",
       "      <th></th>\n",
       "      <th></th>\n",
       "      <th></th>\n",
       "      <th></th>\n",
       "      <th></th>\n",
       "      <th></th>\n",
       "      <th></th>\n",
       "      <th></th>\n",
       "      <th></th>\n",
       "      <th></th>\n",
       "    </tr>\n",
       "  </thead>\n",
       "  <tbody>\n",
       "    <tr>\n",
       "      <th>1951-01-03</th>\n",
       "      <td>20.690001</td>\n",
       "      <td>20.690001</td>\n",
       "      <td>20.690001</td>\n",
       "      <td>20.690001</td>\n",
       "      <td>3370000.0</td>\n",
       "      <td>20.690001</td>\n",
       "      <td>20.60</td>\n",
       "      <td>19.8010</td>\n",
       "      <td>18.40676</td>\n",
       "      <td>0.240416</td>\n",
       "      <td>1.068383</td>\n",
       "      <td>1.119154</td>\n",
       "      <td>0.225028</td>\n",
       "      <td>1951</td>\n",
       "      <td>1</td>\n",
       "      <td>3</td>\n",
       "      <td>2</td>\n",
       "      <td>NaN</td>\n",
       "    </tr>\n",
       "    <tr>\n",
       "      <th>1951-01-04</th>\n",
       "      <td>20.870001</td>\n",
       "      <td>20.870001</td>\n",
       "      <td>20.870001</td>\n",
       "      <td>20.870001</td>\n",
       "      <td>3390000.0</td>\n",
       "      <td>20.870001</td>\n",
       "      <td>20.63</td>\n",
       "      <td>19.8855</td>\n",
       "      <td>18.42288</td>\n",
       "      <td>0.177764</td>\n",
       "      <td>1.072317</td>\n",
       "      <td>1.119803</td>\n",
       "      <td>0.165776</td>\n",
       "      <td>1951</td>\n",
       "      <td>1</td>\n",
       "      <td>4</td>\n",
       "      <td>3</td>\n",
       "      <td>20.690001</td>\n",
       "    </tr>\n",
       "    <tr>\n",
       "      <th>1951-01-05</th>\n",
       "      <td>20.870001</td>\n",
       "      <td>20.870001</td>\n",
       "      <td>20.870001</td>\n",
       "      <td>20.870001</td>\n",
       "      <td>3390000.0</td>\n",
       "      <td>20.870001</td>\n",
       "      <td>20.69</td>\n",
       "      <td>19.9635</td>\n",
       "      <td>18.43896</td>\n",
       "      <td>0.188326</td>\n",
       "      <td>1.078758</td>\n",
       "      <td>1.122081</td>\n",
       "      <td>0.174577</td>\n",
       "      <td>1951</td>\n",
       "      <td>1</td>\n",
       "      <td>5</td>\n",
       "      <td>4</td>\n",
       "      <td>20.870001</td>\n",
       "    </tr>\n",
       "  </tbody>\n",
       "</table>\n",
       "</div>"
      ],
      "text/plain": [
       "                 Open       High        Low      Close     Volume  Adj Close  \\\n",
       "Date                                                                           \n",
       "1951-01-03  20.690001  20.690001  20.690001  20.690001  3370000.0  20.690001   \n",
       "1951-01-04  20.870001  20.870001  20.870001  20.870001  3390000.0  20.870001   \n",
       "1951-01-05  20.870001  20.870001  20.870001  20.870001  3390000.0  20.870001   \n",
       "\n",
       "             avg5    avg30    avg365       sd5     sd365  ratio_avg5_365  \\\n",
       "Date                                                                       \n",
       "1951-01-03  20.60  19.8010  18.40676  0.240416  1.068383        1.119154   \n",
       "1951-01-04  20.63  19.8855  18.42288  0.177764  1.072317        1.119803   \n",
       "1951-01-05  20.69  19.9635  18.43896  0.188326  1.078758        1.122081   \n",
       "\n",
       "            ratio_sd5_365  year  month  day  weekday  last_price  \n",
       "Date                                                              \n",
       "1951-01-03       0.225028  1951      1    3        2         NaN  \n",
       "1951-01-04       0.165776  1951      1    4        3   20.690001  \n",
       "1951-01-05       0.174577  1951      1    5        4   20.870001  "
      ]
     },
     "execution_count": 38,
     "metadata": {},
     "output_type": "execute_result"
    }
   ],
   "source": [
    "sp.head(3)"
   ]
  },
  {
   "cell_type": "code",
   "execution_count": 39,
   "metadata": {},
   "outputs": [
    {
     "data": {
      "text/html": [
       "<div>\n",
       "<style scoped>\n",
       "    .dataframe tbody tr th:only-of-type {\n",
       "        vertical-align: middle;\n",
       "    }\n",
       "\n",
       "    .dataframe tbody tr th {\n",
       "        vertical-align: top;\n",
       "    }\n",
       "\n",
       "    .dataframe thead th {\n",
       "        text-align: right;\n",
       "    }\n",
       "</style>\n",
       "<table border=\"1\" class=\"dataframe\">\n",
       "  <thead>\n",
       "    <tr style=\"text-align: right;\">\n",
       "      <th></th>\n",
       "      <th>Open</th>\n",
       "      <th>High</th>\n",
       "      <th>Low</th>\n",
       "      <th>Close</th>\n",
       "      <th>Volume</th>\n",
       "      <th>Adj Close</th>\n",
       "      <th>avg5</th>\n",
       "      <th>avg30</th>\n",
       "      <th>avg365</th>\n",
       "      <th>sd5</th>\n",
       "      <th>sd365</th>\n",
       "      <th>ratio_avg5_365</th>\n",
       "      <th>ratio_sd5_365</th>\n",
       "      <th>year</th>\n",
       "      <th>month</th>\n",
       "      <th>day</th>\n",
       "      <th>weekday</th>\n",
       "      <th>last_price</th>\n",
       "    </tr>\n",
       "    <tr>\n",
       "      <th>Date</th>\n",
       "      <th></th>\n",
       "      <th></th>\n",
       "      <th></th>\n",
       "      <th></th>\n",
       "      <th></th>\n",
       "      <th></th>\n",
       "      <th></th>\n",
       "      <th></th>\n",
       "      <th></th>\n",
       "      <th></th>\n",
       "      <th></th>\n",
       "      <th></th>\n",
       "      <th></th>\n",
       "      <th></th>\n",
       "      <th></th>\n",
       "      <th></th>\n",
       "      <th></th>\n",
       "      <th></th>\n",
       "    </tr>\n",
       "  </thead>\n",
       "  <tbody>\n",
       "    <tr>\n",
       "      <th>2015-12-03</th>\n",
       "      <td>2080.709961</td>\n",
       "      <td>2085.000000</td>\n",
       "      <td>2042.349976</td>\n",
       "      <td>2049.620117</td>\n",
       "      <td>4.306490e+09</td>\n",
       "      <td>2049.620117</td>\n",
       "      <td>2088.164978</td>\n",
       "      <td>2080.496187</td>\n",
       "      <td>2061.330676</td>\n",
       "      <td>10.771359</td>\n",
       "      <td>55.327616</td>\n",
       "      <td>1.013018</td>\n",
       "      <td>0.194683</td>\n",
       "      <td>2015</td>\n",
       "      <td>12</td>\n",
       "      <td>3</td>\n",
       "      <td>3</td>\n",
       "      <td>2079.510010</td>\n",
       "    </tr>\n",
       "    <tr>\n",
       "      <th>2015-12-04</th>\n",
       "      <td>2051.239990</td>\n",
       "      <td>2093.840088</td>\n",
       "      <td>2051.239990</td>\n",
       "      <td>2091.689941</td>\n",
       "      <td>4.214910e+09</td>\n",
       "      <td>2091.689941</td>\n",
       "      <td>2080.456006</td>\n",
       "      <td>2077.630952</td>\n",
       "      <td>2061.232620</td>\n",
       "      <td>19.599946</td>\n",
       "      <td>55.326382</td>\n",
       "      <td>1.009326</td>\n",
       "      <td>0.354260</td>\n",
       "      <td>2015</td>\n",
       "      <td>12</td>\n",
       "      <td>4</td>\n",
       "      <td>4</td>\n",
       "      <td>2049.620117</td>\n",
       "    </tr>\n",
       "    <tr>\n",
       "      <th>2015-12-07</th>\n",
       "      <td>2090.419922</td>\n",
       "      <td>2090.419922</td>\n",
       "      <td>2066.780029</td>\n",
       "      <td>2077.070068</td>\n",
       "      <td>4.043820e+09</td>\n",
       "      <td>2077.070068</td>\n",
       "      <td>2073.606689</td>\n",
       "      <td>2075.984997</td>\n",
       "      <td>2061.311073</td>\n",
       "      <td>21.647273</td>\n",
       "      <td>55.355606</td>\n",
       "      <td>1.005965</td>\n",
       "      <td>0.391058</td>\n",
       "      <td>2015</td>\n",
       "      <td>12</td>\n",
       "      <td>7</td>\n",
       "      <td>0</td>\n",
       "      <td>2091.689941</td>\n",
       "    </tr>\n",
       "  </tbody>\n",
       "</table>\n",
       "</div>"
      ],
      "text/plain": [
       "                   Open         High          Low        Close        Volume  \\\n",
       "Date                                                                           \n",
       "2015-12-03  2080.709961  2085.000000  2042.349976  2049.620117  4.306490e+09   \n",
       "2015-12-04  2051.239990  2093.840088  2051.239990  2091.689941  4.214910e+09   \n",
       "2015-12-07  2090.419922  2090.419922  2066.780029  2077.070068  4.043820e+09   \n",
       "\n",
       "              Adj Close         avg5        avg30       avg365        sd5  \\\n",
       "Date                                                                        \n",
       "2015-12-03  2049.620117  2088.164978  2080.496187  2061.330676  10.771359   \n",
       "2015-12-04  2091.689941  2080.456006  2077.630952  2061.232620  19.599946   \n",
       "2015-12-07  2077.070068  2073.606689  2075.984997  2061.311073  21.647273   \n",
       "\n",
       "                sd365  ratio_avg5_365  ratio_sd5_365  year  month  day  \\\n",
       "Date                                                                     \n",
       "2015-12-03  55.327616        1.013018       0.194683  2015     12    3   \n",
       "2015-12-04  55.326382        1.009326       0.354260  2015     12    4   \n",
       "2015-12-07  55.355606        1.005965       0.391058  2015     12    7   \n",
       "\n",
       "            weekday   last_price  \n",
       "Date                              \n",
       "2015-12-03        3  2079.510010  \n",
       "2015-12-04        4  2049.620117  \n",
       "2015-12-07        0  2091.689941  "
      ]
     },
     "execution_count": 39,
     "metadata": {},
     "output_type": "execute_result"
    }
   ],
   "source": [
    "sp.tail(3)"
   ]
  },
  {
   "cell_type": "markdown",
   "metadata": {},
   "source": [
    "Considering that some of our features require data from the past 365 days and our starting date is 1950-01-03, there are some rows where there isn't enough historical data to generate them before 1951-01-03. Therefore, we will remove all rows before 1951-01-03 and those that contain NA."
   ]
  },
  {
   "cell_type": "code",
   "execution_count": 40,
   "metadata": {},
   "outputs": [],
   "source": [
    "# drop NA rows\n",
    "sp = sp.dropna(axis=0)\n",
    "\n",
    "# keep all rows after 1951-01-02\n",
    "sp = sp[sp.index>datetime(year = 1951, month=1, day=2)]"
   ]
  },
  {
   "cell_type": "markdown",
   "metadata": {},
   "source": [
    "To test the accuracy of our model, we will split the data into train set (1950-2012) and test set(2012-2015)."
   ]
  },
  {
   "cell_type": "code",
   "execution_count": 41,
   "metadata": {},
   "outputs": [],
   "source": [
    "train = sp[sp.index<datetime(year = 2013, month=1, day=1)]\n",
    "test = sp[sp.index>=datetime(year = 2013, month=1, day=1)]"
   ]
  },
  {
   "cell_type": "markdown",
   "metadata": {},
   "source": [
    "We will use different linear regression models to predict the future price of S&P500."
   ]
  },
  {
   "cell_type": "code",
   "execution_count": 42,
   "metadata": {},
   "outputs": [
    {
     "data": {
      "text/plain": [
       "Index(['Open', 'High', 'Low', 'Close', 'Volume', 'Adj Close', 'avg5', 'avg30',\n",
       "       'avg365', 'sd5', 'sd365', 'ratio_avg5_365', 'ratio_sd5_365', 'year',\n",
       "       'month', 'day', 'weekday', 'last_price'],\n",
       "      dtype='object')"
      ]
     },
     "execution_count": 42,
     "metadata": {},
     "output_type": "execute_result"
    }
   ],
   "source": [
    "train.columns"
   ]
  },
  {
   "cell_type": "code",
   "execution_count": 43,
   "metadata": {},
   "outputs": [],
   "source": [
    "# linear regression model\n",
    "def train_test(features):\n",
    "    lr = LinearRegression()\n",
    "    target = 'Close'\n",
    "    \n",
    "    lr.fit(train[features], train[target])\n",
    "    prediction = lr.predict(test[features])\n",
    "\n",
    "    rmse = mean_squared_error(prediction, test[target])**(1/2)\n",
    "    return rmse"
   ]
  },
  {
   "cell_type": "code",
   "execution_count": 44,
   "metadata": {},
   "outputs": [
    {
     "data": {
      "text/plain": [
       "15.155646793076661"
      ]
     },
     "execution_count": 44,
     "metadata": {},
     "output_type": "execute_result"
    }
   ],
   "source": [
    "# RMSE of all new created features model\n",
    "train_test(train.columns[6:])"
   ]
  },
  {
   "cell_type": "code",
   "execution_count": 45,
   "metadata": {},
   "outputs": [
    {
     "data": {
      "text/plain": [
       "724.7651207013593"
      ]
     },
     "execution_count": 45,
     "metadata": {},
     "output_type": "execute_result"
    }
   ],
   "source": [
    "# RMSE of date model\n",
    "train_test(['year','month','day'])"
   ]
  },
  {
   "cell_type": "code",
   "execution_count": 46,
   "metadata": {},
   "outputs": [
    {
     "data": {
      "text/plain": [
       "19.67430068286049"
      ]
     },
     "execution_count": 46,
     "metadata": {},
     "output_type": "execute_result"
    }
   ],
   "source": [
    "# RMSE of average model\n",
    "train_test(['avg5', 'avg30', 'avg365'])"
   ]
  },
  {
   "cell_type": "code",
   "execution_count": 47,
   "metadata": {},
   "outputs": [
    {
     "data": {
      "text/plain": [
       "896.8407534210022"
      ]
     },
     "execution_count": 47,
     "metadata": {},
     "output_type": "execute_result"
    }
   ],
   "source": [
    "# RMSE of sd model\n",
    "train_test(['sd5', 'sd365'])"
   ]
  },
  {
   "cell_type": "code",
   "execution_count": 48,
   "metadata": {},
   "outputs": [
    {
     "data": {
      "text/plain": [
       "1451.58053399896"
      ]
     },
     "execution_count": 48,
     "metadata": {},
     "output_type": "execute_result"
    }
   ],
   "source": [
    "# RMSE of ratio model\n",
    "train_test(['ratio_avg5_365', 'ratio_sd5_365'])"
   ]
  },
  {
   "cell_type": "code",
   "execution_count": 49,
   "metadata": {},
   "outputs": [
    {
     "data": {
      "text/plain": [
       "19.668688528427683"
      ]
     },
     "execution_count": 49,
     "metadata": {},
     "output_type": "execute_result"
    }
   ],
   "source": [
    "# RMSE of last 5 days information model\n",
    "train_test(['avg5', 'sd5'])"
   ]
  },
  {
   "cell_type": "code",
   "execution_count": 51,
   "metadata": {},
   "outputs": [
    {
     "data": {
      "text/plain": [
       "15.145703700718299"
      ]
     },
     "execution_count": 51,
     "metadata": {},
     "output_type": "execute_result"
    }
   ],
   "source": [
    "# RMSE of last price model\n",
    "train_test(['last_price'])"
   ]
  },
  {
   "cell_type": "markdown",
   "metadata": {},
   "source": [
    "## Summary\n",
    "\n",
    "Using the most recent price as the estimator has the least error model. It also implies that studying old historical data alone does not help with predicting the future price."
   ]
  }
 ],
 "metadata": {
  "kernelspec": {
   "display_name": "Python 3",
   "language": "python",
   "name": "python3"
  },
  "language_info": {
   "codemirror_mode": {
    "name": "ipython",
    "version": 3
   },
   "file_extension": ".py",
   "mimetype": "text/x-python",
   "name": "python",
   "nbconvert_exporter": "python",
   "pygments_lexer": "ipython3",
   "version": "3.6.4"
  }
 },
 "nbformat": 4,
 "nbformat_minor": 2
}
